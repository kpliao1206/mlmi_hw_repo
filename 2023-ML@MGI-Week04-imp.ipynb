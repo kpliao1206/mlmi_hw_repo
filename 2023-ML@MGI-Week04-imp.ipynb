{
 "cells": [
  {
   "cell_type": "markdown",
   "metadata": {},
   "source": [
    "Python是直譯式的程式語言，不需要經過編譯就可以執行，Python的官方直譯器CPython是用C語言編寫的，目前由Python軟體基金會管理。"
   ]
  },
  {
   "cell_type": "markdown",
   "metadata": {},
   "source": [
    "# 執行Python的方式\n",
    "\n",
    "* Python shell\n",
    "在terminal上打python就會進入Python shell\n",
    "```\n",
    "(base) C:\\Users\\ac_ya>python\n",
    "Python 3.8.3 (default, May 19 2020, 06:50:17) [MSC v.1916 64 bit (AMD64)] :: Anaconda, Inc. on win32\n",
    "Type \"help\", \"copyright\", \"credits\" or \"license\" for more information.\n",
    ">>> 1+1\n",
    "2\n",
    ">>>\n",
    "```\n",
    "想要離開Python shell，請輸入exit()，再按Enter。\n",
    "\n",
    "* Python script\n",
    "一行一行不斷鍵入指令與資料的方法，在處理繁瑣的計算時，特別是有需要修改之前指令的時候，就會更顯不便。因此，我們會偏好將計算中需要的指令，資料，函數等照順利編寫在一個文字檔後，再一起執行，這種方法稱為Python script。\n",
    "```    \n",
    "str_a = 'hello '\n",
    "str_b = 'world!'\n",
    "print( a+b )\n",
    "```\n",
    "\n",
    "```\n",
    "user@localhost > python hello_world.py\n",
    "```\n",
    "\n",
    "* IPython\n",
    "IPython是一種基於Python的互動式直譯器。相較於原生的Python Shell，IPython提供了更為強大的編輯和互動功能。\n",
    "在terminal上打ipython就會進入iPython intetactive shell\n",
    "\n",
    "```\n",
    "(tf1) C:\\Users\\ac_ya>ipython\n",
    "Python 3.7.11 (default, Jul 27 2021, 09:42:29) [MSC v.1916 64 bit (AMD64)]\n",
    "Type 'copyright', 'credits' or 'license' for more information\n",
    "IPython 7.31.1 -- An enhanced Interactive Python. Type '?' for help.\n",
    "\n",
    "In [1]: 2+2\n",
    "Out[1]: 4\n",
    "\n",
    "In [2]:\n",
    "```\n",
    "\n",
    "* jupyter(也就是你現在在瀏覽器開的介面)\n",
    "從IPython中衍生而出的專案，被廣泛用於互動式資料科學和科學計算，Jupyter Notebook（前身是IPython Notebook）是一個基於Web的互動式計算環境，用於創建Jupyter Notebook檔案。Jupyter Notebook檔案是一個JSON檔案，包含一個有序的輸入/輸出單元格列表，這些單元格可以包含程式碼、文字（使用Markdown語言）、數學、圖表和富媒體 (Rich media)，通常以「.ipynb」結尾附檔名。JupyterLab是Jupyter專案的下一代使用者界面。它在一個靈活且強大的使用者界面中提供了經典的Jupyter Notebook（筆記本、終端、文字編輯器、檔案瀏覽器、豐富輸出 (Rich Text) 等）所有熟悉的構建模組。"
   ]
  },
  {
   "cell_type": "markdown",
   "metadata": {},
   "source": [
    "# 好用的文字編輯器\n",
    "\n",
    "* notepad++\n",
    "![](https://upload.wikimedia.org/wikipedia/commons/f/f5/Notepad_plus_plus.png?20101106025028)\n",
    "\n",
    "[notepad++](https://notepad-plus-plus.org/)\n",
    "\n",
    "* spyder\n",
    "![](https://www.iconninja.com/files/387/241/224/spyder-icon.png)\n",
    "\n",
    "[spyder](https://www.spyder-ide.org/)\n",
    "\n",
    "* vscode\n",
    "![](https://cdn.icon-icons.com/icons2/2107/PNG/512/file_type_vscode_icon_130084.png)\n",
    "\n",
    "[vscode](https://code.visualstudio.com/)\n",
    "\n",
    "* PyCharm\n",
    "![](https://upload.wikimedia.org/wikipedia/commons/thumb/1/1d/PyCharm_Icon.svg/240px-PyCharm_Icon.svg.png)\n",
    "\n",
    "[PyCharm](https://www.jetbrains.com/pycharm/)"
   ]
  },
  {
   "cell_type": "markdown",
   "metadata": {},
   "source": [
    "# 縮排 (Indentation)\n",
    "Python使用縮排來切分程式碼，這和其他語言使用 {} 不同。\n",
    "根據PEP 8的規定，使用4個空格來表示每級縮排，使用Tab字元和其它數目的空格雖然都可以被解釋器識別，但不符合編碼規範，偏向使用Tab字元的程式員可以設定文字編輯器將Tab鍵轉換為4個空格。\n",
    "\n",
    "![tab_space](https://res.cloudinary.com/practicaldev/image/fetch/s--yoSeaURT--/c_imagga_scale,f_auto,fl_progressive,h_420,q_auto,w_1000/https://camo.githubusercontent.com/38467eb65de742741e216b6df7f986f2d7a621c6/687474703a2f2f7777772e656d61637377696b692e6f72672f706963732f7374617469632f54616273537061636573426f74682e706e67)\n",
    "\n",
    "\n",
    "C/C++/Java的程式設計師也吵過這個問題。\n",
    "```\n",
    "while (x == y)\n",
    "{\n",
    "    something();\n",
    "    somethingelse();\n",
    "}\n",
    "```\n",
    "v.s.\n",
    "```\n",
    "while (x == y) {\n",
    "    something();\n",
    "    somethingelse();\n",
    "}\n",
    "```"
   ]
  },
  {
   "cell_type": "code",
   "execution_count": 2,
   "metadata": {
    "ExecuteTime": {
     "start_time": "2019-03-05T06:30:22.661Z"
    }
   },
   "outputs": [
    {
     "ename": "IndentationError",
     "evalue": "unindent does not match any outer indentation level (<tokenize>, line 5)",
     "output_type": "error",
     "traceback": [
      "\u001b[1;36m  File \u001b[1;32m\"<tokenize>\"\u001b[1;36m, line \u001b[1;32m5\u001b[0m\n\u001b[1;33m    print('finish')\u001b[0m\n\u001b[1;37m    ^\u001b[0m\n\u001b[1;31mIndentationError\u001b[0m\u001b[1;31m:\u001b[0m unindent does not match any outer indentation level\n"
     ]
    }
   ],
   "source": [
    "for i in [1, 2, 3]:\n",
    "\tprint(i)\n",
    "\tfor j in [1, 2, 3, 4]:\n",
    "\t\tprint(j + i)\n",
    " print('finish')"
   ]
  },
  {
   "cell_type": "markdown",
   "metadata": {},
   "source": [
    "看到以下錯誤就該檢查一下縮排了\n",
    "\n",
    "`IndentationError: expected an indented block`"
   ]
  },
  {
   "cell_type": "markdown",
   "metadata": {},
   "source": [
    "# 註解(Comments)\n",
    "* 單行註解\n",
    "所有在#後的文字都會被當成註解，即使不在開頭也可以。\n",
    "\n",
    "* 多行註解\n",
    "使用一對 三個雙引號(\"\"\")把要註解的部分包起來。"
   ]
  },
  {
   "cell_type": "code",
   "execution_count": 16,
   "metadata": {
    "ExecuteTime": {
     "end_time": "2019-03-05T02:56:13.856761Z",
     "start_time": "2019-03-05T02:56:13.841142Z"
    }
   },
   "outputs": [
    {
     "name": "stdout",
     "output_type": "stream",
     "text": [
      "Hello, Python!\n",
      "This is \n",
      "example \n"
     ]
    }
   ],
   "source": [
    "#!/usr/bin/python3\n",
    "\n",
    "# First comment\n",
    "print (\"Hello, Python!\") # second comment\n",
    "\n",
    "\n",
    "print(\"This is \")\n",
    "\"\"\"\n",
    "print(\"a \")\n",
    "print(\"multline \")\n",
    "print(\"comment \")\n",
    "\"\"\"\n",
    "print(\"example \")"
   ]
  },
  {
   "cell_type": "markdown",
   "metadata": {},
   "source": [
    "# 命名規則(Identifiers)\n",
    "* Identifiers can be a combination of letters in lowercase (a to z) or uppercase (A to Z) or digits (0 to 9) or an underscore (_).\n",
    "* Python is a case sensitive, so MACHINE and machine are different.\n",
    "* 不可使用@, $, and %。\n",
    "[Google 建議的 Python 風格指南 35-37](https://www.ptt.cc/bbs/Translate-CS/M.1372612455.A.463.html)"
   ]
  },
  {
   "cell_type": "markdown",
   "metadata": {},
   "source": [
    "# 保留字(Reserved Words)\n",
    "不要取和保留字相似的變數，這是自找麻煩。"
   ]
  },
  {
   "cell_type": "code",
   "execution_count": 17,
   "metadata": {
    "ExecuteTime": {
     "end_time": "2019-03-05T02:56:13.903632Z",
     "start_time": "2019-03-05T02:56:13.872386Z"
    }
   },
   "outputs": [
    {
     "name": "stdout",
     "output_type": "stream",
     "text": [
      "Python version:  sys.version_info(major=3, minor=7, micro=11, releaselevel='final', serial=0)\n",
      "Python keywords:  ['False', 'None', 'True', 'and', 'as', 'assert', 'async', 'await', 'break', 'class', 'continue', 'def', 'del', 'elif', 'else', 'except', 'finally', 'for', 'from', 'global', 'if', 'import', 'in', 'is', 'lambda', 'nonlocal', 'not', 'or', 'pass', 'raise', 'return', 'try', 'while', 'with', 'yield']\n"
     ]
    }
   ],
   "source": [
    "import sys\n",
    "import keyword\n",
    "\n",
    "print(\"Python version: \", sys.version_info)\n",
    "print(\"Python keywords: \", keyword.kwlist)"
   ]
  },
  {
   "cell_type": "markdown",
   "metadata": {},
   "source": [
    "# 在一行內放入多個敘述(Multiple Statements on a Single Line)\n",
    "python允許在一行內放入多個敘述，只要在不同敘述間用semicolon ( ; )隔開即可。"
   ]
  },
  {
   "cell_type": "code",
   "execution_count": 18,
   "metadata": {
    "ExecuteTime": {
     "end_time": "2019-03-05T02:56:13.919260Z",
     "start_time": "2019-03-05T02:56:13.903632Z"
    }
   },
   "outputs": [
    {
     "name": "stdout",
     "output_type": "stream",
     "text": [
      "Hello, Python!\n",
      "Hello, 123!\n"
     ]
    }
   ],
   "source": [
    "print (\"Hello, Python!\"); print (\"Hello, 123!\")"
   ]
  },
  {
   "cell_type": "markdown",
   "metadata": {},
   "source": [
    "# 匯入(import)\n",
    "Python生態系有豐富的模組，要使用這些模組就使用import，通常都會把需要 import 的 模組列在整個檔案的最一開始，但不是必須。"
   ]
  },
  {
   "cell_type": "code",
   "execution_count": 19,
   "metadata": {
    "ExecuteTime": {
     "end_time": "2019-03-05T02:56:13.950504Z",
     "start_time": "2019-03-05T02:56:13.919260Z"
    }
   },
   "outputs": [],
   "source": [
    "import this"
   ]
  },
  {
   "cell_type": "code",
   "execution_count": 20,
   "metadata": {
    "ExecuteTime": {
     "end_time": "2019-03-05T02:56:13.966124Z",
     "start_time": "2019-03-05T02:56:13.950504Z"
    }
   },
   "outputs": [
    {
     "ename": "NameError",
     "evalue": "name 'sqrt' is not defined",
     "output_type": "error",
     "traceback": [
      "\u001b[1;31m---------------------------------------------------------------------------\u001b[0m",
      "\u001b[1;31mNameError\u001b[0m                                 Traceback (most recent call last)",
      "\u001b[1;32m~\\AppData\\Local\\Temp/ipykernel_29404/1107224524.py\u001b[0m in \u001b[0;36m<module>\u001b[1;34m\u001b[0m\n\u001b[0;32m      1\u001b[0m \u001b[1;31m#沒有import math，連開根號都不能用\u001b[0m\u001b[1;33m\u001b[0m\u001b[1;33m\u001b[0m\u001b[1;33m\u001b[0m\u001b[0m\n\u001b[1;32m----> 2\u001b[1;33m \u001b[0mb\u001b[0m\u001b[1;33m=\u001b[0m\u001b[0msqrt\u001b[0m\u001b[1;33m(\u001b[0m\u001b[1;36m4.0\u001b[0m\u001b[1;33m)\u001b[0m\u001b[1;33m\u001b[0m\u001b[1;33m\u001b[0m\u001b[0m\n\u001b[0m\u001b[0;32m      3\u001b[0m \u001b[0mprint\u001b[0m\u001b[1;33m(\u001b[0m\u001b[0mb\u001b[0m\u001b[1;33m)\u001b[0m\u001b[1;33m\u001b[0m\u001b[1;33m\u001b[0m\u001b[0m\n",
      "\u001b[1;31mNameError\u001b[0m: name 'sqrt' is not defined"
     ]
    }
   ],
   "source": [
    "#沒有import math，連開根號都不能用\n",
    "b=sqrt(4.0)\n",
    "print(b)"
   ]
  },
  {
   "cell_type": "markdown",
   "metadata": {},
   "source": [
    "## 語法1：import [module]"
   ]
  },
  {
   "cell_type": "code",
   "execution_count": 24,
   "metadata": {
    "ExecuteTime": {
     "end_time": "2019-03-05T02:56:13.997372Z",
     "start_time": "2019-03-05T02:56:13.981749Z"
    }
   },
   "outputs": [
    {
     "ename": "NameError",
     "evalue": "name 'sqrt' is not defined",
     "output_type": "error",
     "traceback": [
      "\u001b[1;31m---------------------------------------------------------------------------\u001b[0m",
      "\u001b[1;31mNameError\u001b[0m                                 Traceback (most recent call last)",
      "\u001b[1;32m~\\AppData\\Local\\Temp/ipykernel_29404/2584660684.py\u001b[0m in \u001b[0;36m<module>\u001b[1;34m\u001b[0m\n\u001b[0;32m      2\u001b[0m \u001b[1;32mimport\u001b[0m \u001b[0mmath\u001b[0m\u001b[1;33m\u001b[0m\u001b[1;33m\u001b[0m\u001b[0m\n\u001b[0;32m      3\u001b[0m \u001b[1;33m\u001b[0m\u001b[0m\n\u001b[1;32m----> 4\u001b[1;33m \u001b[0mb\u001b[0m\u001b[1;33m=\u001b[0m\u001b[0msqrt\u001b[0m\u001b[1;33m(\u001b[0m\u001b[1;36m4.0\u001b[0m\u001b[1;33m)\u001b[0m\u001b[1;33m\u001b[0m\u001b[1;33m\u001b[0m\u001b[0m\n\u001b[0m\u001b[0;32m      5\u001b[0m \u001b[0mprint\u001b[0m\u001b[1;33m(\u001b[0m\u001b[0mb\u001b[0m\u001b[1;33m)\u001b[0m\u001b[1;33m\u001b[0m\u001b[1;33m\u001b[0m\u001b[0m\n",
      "\u001b[1;31mNameError\u001b[0m: name 'sqrt' is not defined"
     ]
    }
   ],
   "source": [
    "# Import 整個 `math` module\n",
    "import math\n",
    "\n",
    "b=sqrt(4.0)\n",
    "print(b)"
   ]
  },
  {
   "cell_type": "code",
   "execution_count": 26,
   "metadata": {
    "ExecuteTime": {
     "end_time": "2019-03-05T02:56:14.028620Z",
     "start_time": "2019-03-05T02:56:13.997372Z"
    }
   },
   "outputs": [
    {
     "name": "stdout",
     "output_type": "stream",
     "text": [
      "2.0\n"
     ]
    }
   ],
   "source": [
    "import math\n",
    "\n",
    "# 使用 `math` module 底下的 `sqrt` function\n",
    "b=math.sqrt(4.0)\n",
    "print(b)"
   ]
  },
  {
   "cell_type": "markdown",
   "metadata": {},
   "source": [
    "## 語法2：from [module] import [name1, name2, ...]"
   ]
  },
  {
   "cell_type": "code",
   "execution_count": 27,
   "metadata": {
    "ExecuteTime": {
     "end_time": "2019-03-05T02:56:14.044241Z",
     "start_time": "2019-03-05T02:56:14.028620Z"
    }
   },
   "outputs": [
    {
     "name": "stdout",
     "output_type": "stream",
     "text": [
      "2.0\n"
     ]
    }
   ],
   "source": [
    "# 從 `math` module 裡 import 其中一個 function `sqrt`\n",
    "from math import sqrt\n",
    "\n",
    "# 不一樣的是，使用 `sqrt` 的時候就不需要先寫 `math` 了\n",
    "b=sqrt(4.0)\n",
    "print(b)"
   ]
  },
  {
   "cell_type": "markdown",
   "metadata": {},
   "source": [
    "## 語法3：import [module] as [new_name]"
   ]
  },
  {
   "cell_type": "code",
   "execution_count": 28,
   "metadata": {
    "ExecuteTime": {
     "end_time": "2019-03-05T02:56:14.059864Z",
     "start_time": "2019-03-05T02:56:14.044241Z"
    }
   },
   "outputs": [
    {
     "name": "stdout",
     "output_type": "stream",
     "text": [
      "2.0\n"
     ]
    }
   ],
   "source": [
    "# Import 整個 `math` module，\n",
    "# 但這個名字可能跟其他地方有衝突或者名字太長，因此改名成 `mt` \n",
    "import math as mt\n",
    "\n",
    "# 使用 `mt` 這個名稱取代原本的 `math`\n",
    "b=mt.sqrt(4.0)\n",
    "print(b)"
   ]
  },
  {
   "cell_type": "markdown",
   "metadata": {},
   "source": [
    "## 語法4（不推薦）：from [module] import *"
   ]
  },
  {
   "cell_type": "code",
   "execution_count": 29,
   "metadata": {
    "ExecuteTime": {
     "end_time": "2019-03-05T02:56:14.091110Z",
     "start_time": "2019-03-05T02:56:14.059864Z"
    }
   },
   "outputs": [
    {
     "name": "stdout",
     "output_type": "stream",
     "text": [
      "2.0\n"
     ]
    }
   ],
   "source": [
    "# Import 所有 `math` module 底下的東西\n",
    "from math import *\n",
    "\n",
    "# 使用 `sqrt` 的時候也不需要先寫 `math`\n",
    "b=sqrt(4.0)\n",
    "print(b)"
   ]
  },
  {
   "cell_type": "markdown",
   "metadata": {},
   "source": [
    "不推薦原因是容易造成名稱衝突，降低可讀性和可維護性。"
   ]
  },
  {
   "cell_type": "markdown",
   "metadata": {},
   "source": [
    "# 資料型別"
   ]
  },
  {
   "cell_type": "markdown",
   "metadata": {},
   "source": [
    "## 數值(Number)"
   ]
  },
  {
   "cell_type": "markdown",
   "metadata": {},
   "source": [
    "### 整數int (signed integers) \n",
    "在Python 2 還是有兩種整數型別：整數 int 長整數 long。但在 Python 3 就沒有分了，Python 3 的 int 是unlimited size。"
   ]
  },
  {
   "cell_type": "code",
   "execution_count": 30,
   "metadata": {
    "ExecuteTime": {
     "end_time": "2019-03-05T02:56:14.419198Z",
     "start_time": "2019-03-05T02:56:14.403575Z"
    }
   },
   "outputs": [
    {
     "name": "stdout",
     "output_type": "stream",
     "text": [
      "35\n",
      "2575\n",
      "31\n"
     ]
    }
   ],
   "source": [
    "#用十進位賦值\n",
    "num1=35\n",
    "print(num1)\n",
    "#用Hexa-decimal賦值\n",
    "num2=0xA0F\n",
    "print(num2)\n",
    "#用Octal賦值\n",
    "num3=0o37\n",
    "print(num3)"
   ]
  },
  {
   "cell_type": "markdown",
   "metadata": {
    "tags": []
   },
   "source": [
    "### 浮點數 float (floating point real values)\n",
    "\n",
    "二進位的小數和十進位的小數在觀念上完全一樣, 必須有一個小數點, 小數點的左邊是整數, 小數點的右邊是小數, 每一位數有它的權重, 例如下圖:\n",
    "![小數](http://mahaljsp.asuscomm.com/wp-content/uploads/2019/09/number.png)\n",
    "\n",
    "在電腦裡表達小數的方式有兩種, 一種是定點表示法, 一種是浮點表示法\n",
    "高階程式語言內一般都不用定點小數表示法, 因為定點小數表示法所能表示數字的範圍非常有限。\n",
    "\n",
    "在電腦中，浮點數 (floating-point number) 是以2為基數（二進位）的小數表示，大多數十進位小數無法精準地以二進位小數表示，只能由實際儲存在計算機中的二進位浮點數近似。\n",
    "\n",
    "[小數分數換算](https://www.digikey.tw/zh/resources/conversion-calculators/conversion-calculator-fractions)\n",
    "\n",
    "在十進位看起來很簡單的值，在其他進位制可能會是很複雜的循環小數\n",
    "\n",
    "$(0.1)_{10}$=$(0.0\\overline{0011})_{2}$\n",
    "\n",
    "那問題就是要花多少成本來儲存資料了，\n",
    "用4個位元組(byte)，也就是32個bits來存放的帶小數點的數值，通常稱為單精度浮點數。\n",
    "用8個位元組(byte)，也就是64個bits來存放的帶小數點的數值，通常稱為雙精度浮點數。\n",
    "用2個位元組(byte)，也就是16個bits來存放的帶小數點的數值，通常稱為半精度浮點數。"
   ]
  },
  {
   "cell_type": "markdown",
   "metadata": {},
   "source": [
    "<center><font color=red size=72>單精度浮點數</font></center>\n",
    "\n",
    "![float32](https://upload.wikimedia.org/wikipedia/commons/thumb/d/d2/Float_example.svg/1000px-Float_example.svg.png)\n",
    "\n",
    "<center><font color=red size=72>雙精度浮點數</font></center>\n",
    "\n",
    "![float64](https://upload.wikimedia.org/wikipedia/commons/thumb/a/a9/IEEE_754_Double_Floating_Point_Format.svg/1000px-IEEE_754_Double_Floating_Point_Format.svg.png)\n",
    "\n",
    "<center><font color=red size=72>半精度浮點數</font></center>\n",
    "\n",
    "![float64](https://upload.wikimedia.org/wikipedia/commons/thumb/2/21/IEEE_754r_Half_Floating_Point_Format.svg/1000px-IEEE_754r_Half_Floating_Point_Format.svg.png)"
   ]
  },
  {
   "cell_type": "markdown",
   "metadata": {},
   "source": [
    "python內建型別是以雙精度浮點數來實作浮點數，\n",
    "在NUMPY數值函式庫中，還有提供的單精度浮點數(float32)，但要注意有效位數只有6~7位，在傳統數值計算可能會用numpy提供的雙精度浮點數(float64)；在機器學習領域可能會用到numpy提供的半精度浮點數(float16)。"
   ]
  },
  {
   "cell_type": "markdown",
   "metadata": {},
   "source": [
    "Tensor Cores 混合精度支援\n",
    "\n",
    "![TURING TENSOR CORES](https://images.nvidia.com/aem-dam/Solutions/Data-Center/tesla-t4/Turing-Tensor-Core_30fps_FINAL_736x414.gif)\n",
    "\n",
    "NVIDIA的顯示卡適合進行大量的平行操作，而新一代的Tensor Cores又從硬體了做的混型計算，在不降低精度的情形下提高Throughput。\n",
    "\n",
    "每個Tensor Cores提供4x4x4矩陣處理操作， D = A * B + C，其中B 、 C 和 D 是 4 × 4矩陣，乘法的輸入矩陣A和B是FP16矩陣，而累加矩陣 C 和 D 可以是 FP16 或 FP32 矩陣。\n",
    "![Tensor Cores](https://developer.nvidia.com/blog/parallelforall/wp-content/uploads/2017/05/image4.png)\n",
    "\n",
    "每個Tensor Cores每個周期執行64個浮點FMA 混合精度計算(FP16 輸入乘法全精度乘積， FP32 累加)\n",
    "![Tensor Core operation](https://developer.nvidia.com/blog/parallelforall/wp-content/uploads/2017/05/image11.png)\n",
    "\n",
    "[Mixed Precision Training](https://docs.nvidia.com/deeplearning/performance/mixed-precision-training/index.html)"
   ]
  },
  {
   "cell_type": "markdown",
   "metadata": {},
   "source": [
    "### 複數 complex (complex numbers) \n",
    "Python當中則是用「j」或是「J」來表示。"
   ]
  },
  {
   "cell_type": "code",
   "execution_count": 31,
   "metadata": {
    "ExecuteTime": {
     "end_time": "2019-03-05T02:56:14.575433Z",
     "start_time": "2019-03-05T02:56:14.559808Z"
    }
   },
   "outputs": [
    {
     "name": "stdout",
     "output_type": "stream",
     "text": [
      "1.5\n",
      "0.5\n"
     ]
    }
   ],
   "source": [
    "cx1 = 1.5+0.5j\n",
    "print( cx1.real )\n",
    "print( cx1.imag )"
   ]
  },
  {
   "cell_type": "markdown",
   "metadata": {},
   "source": [
    "## 布林值(Boolean)\n",
    "決定邏輯判斷，True 或 False。主要會搭配流程控制。注意在 Python 中布林值**首字是大寫**"
   ]
  },
  {
   "cell_type": "code",
   "execution_count": 32,
   "metadata": {
    "ExecuteTime": {
     "end_time": "2019-03-05T02:56:14.653548Z",
     "start_time": "2019-03-05T02:56:14.622302Z"
    }
   },
   "outputs": [
    {
     "name": "stdout",
     "output_type": "stream",
     "text": [
      "False\n"
     ]
    }
   ],
   "source": [
    "is_former_bigger_than_latter = 1 > 2\n",
    "print( is_former_bigger_than_latter )"
   ]
  },
  {
   "cell_type": "markdown",
   "metadata": {},
   "source": [
    "# 資料結構"
   ]
  },
  {
   "cell_type": "markdown",
   "metadata": {},
   "source": [
    "## 字串(String)\n",
    "字串就像是一堆字元排在一起組合而成的，實際上是一種資料結構。\n",
    "\n",
    "字串使用上會使用單引號或雙引號成對包起（’， “）"
   ]
  },
  {
   "cell_type": "code",
   "execution_count": 33,
   "metadata": {
    "ExecuteTime": {
     "end_time": "2019-03-05T02:56:14.731669Z",
     "start_time": "2019-03-05T02:56:14.716042Z"
    }
   },
   "outputs": [
    {
     "name": "stdout",
     "output_type": "stream",
     "text": [
      "17\n",
      "Machine Learning in Material Informatics\n"
     ]
    }
   ],
   "source": [
    "str1 = 'Machine Learning '\n",
    "str2 = \"Material Informatics\"\n",
    "print( len(str1) )\n",
    "print( str1 + \"in \" + str2 )"
   ]
  },
  {
   "cell_type": "markdown",
   "metadata": {},
   "source": [
    "三個引號('''，\"\"\")用來定義包含多行的字串"
   ]
  },
  {
   "cell_type": "code",
   "execution_count": 34,
   "metadata": {
    "ExecuteTime": {
     "end_time": "2019-03-05T02:56:14.747288Z",
     "start_time": "2019-03-05T02:56:14.731669Z"
    }
   },
   "outputs": [],
   "source": [
    "paragraph = \"\"\"This is a paragraph. It is\n",
    "made up of multiple lines and sentences.\"\"\""
   ]
  },
  {
   "cell_type": "markdown",
   "metadata": {},
   "source": [
    "字串的內容也是不能修改的。"
   ]
  },
  {
   "cell_type": "code",
   "execution_count": 35,
   "metadata": {
    "ExecuteTime": {
     "end_time": "2019-03-05T02:56:14.841028Z",
     "start_time": "2019-03-05T02:56:14.809780Z"
    }
   },
   "outputs": [
    {
     "ename": "TypeError",
     "evalue": "'str' object does not support item assignment",
     "output_type": "error",
     "traceback": [
      "\u001b[1;31m---------------------------------------------------------------------------\u001b[0m",
      "\u001b[1;31mTypeError\u001b[0m                                 Traceback (most recent call last)",
      "\u001b[1;32m~\\AppData\\Local\\Temp/ipykernel_29404/3176967079.py\u001b[0m in \u001b[0;36m<module>\u001b[1;34m\u001b[0m\n\u001b[0;32m      1\u001b[0m \u001b[0mstr3\u001b[0m \u001b[1;33m=\u001b[0m \u001b[1;34m\"hello python\"\u001b[0m\u001b[1;33m\u001b[0m\u001b[1;33m\u001b[0m\u001b[0m\n\u001b[1;32m----> 2\u001b[1;33m \u001b[0mstr3\u001b[0m\u001b[1;33m[\u001b[0m\u001b[1;36m0\u001b[0m\u001b[1;33m]\u001b[0m \u001b[1;33m=\u001b[0m \u001b[1;34m\"H\"\u001b[0m\u001b[1;33m\u001b[0m\u001b[1;33m\u001b[0m\u001b[0m\n\u001b[0m",
      "\u001b[1;31mTypeError\u001b[0m: 'str' object does not support item assignment"
     ]
    }
   ],
   "source": [
    "str3 = \"hello python\"\n",
    "str3[0] = \"H\""
   ]
  },
  {
   "cell_type": "markdown",
   "metadata": {},
   "source": [
    "## 列表（List）\n",
    "列表可以說是 Python 中最基礎的一種資料結構。所謂列表指的就是一群按照順序排序的元素。\n",
    "\n",
    "陣列是一種容器，可用來儲存眾多資料。針對一個以創建的陣列，你可以隨時增加或減少其內部資料的個數，也可以修改裡面的內容。"
   ]
  },
  {
   "cell_type": "code",
   "execution_count": 36,
   "metadata": {
    "ExecuteTime": {
     "end_time": "2019-03-05T02:56:14.841028Z",
     "start_time": "2019-03-05T02:56:14.823Z"
    }
   },
   "outputs": [
    {
     "name": "stdout",
     "output_type": "stream",
     "text": [
      "[0, 1, 2, 3, 4, 5, 6, 7, 8, 9]\n",
      "10\n"
     ]
    }
   ],
   "source": [
    "list_num = [0,1,2,3,4,5,6,7,8,9]\n",
    "print(list_num)\n",
    "\n",
    "list_length = len(list_num)\n",
    "print(list_length)"
   ]
  },
  {
   "cell_type": "markdown",
   "metadata": {},
   "source": [
    "運用 [] 取值（index 從 0 開始）："
   ]
  },
  {
   "cell_type": "code",
   "execution_count": 37,
   "metadata": {
    "ExecuteTime": {
     "end_time": "2019-03-05T02:56:14.841028Z",
     "start_time": "2019-03-05T02:56:14.832Z"
    }
   },
   "outputs": [
    {
     "name": "stdout",
     "output_type": "stream",
     "text": [
      "0\n",
      "9\n"
     ]
    }
   ],
   "source": [
    "x = [0,1,2,3,4,5,6,7,8,9] # [0, 1, 2, ..., 9]\n",
    "zero = x[0] # 0\n",
    "nine = x[-1] # 9\n",
    "print( zero )\n",
    "print( nine )\n"
   ]
  },
  {
   "cell_type": "markdown",
   "metadata": {},
   "source": [
    "切割（[起始 index, 結束 index 但不包含]）："
   ]
  },
  {
   "cell_type": "code",
   "execution_count": 38,
   "metadata": {
    "ExecuteTime": {
     "end_time": "2019-03-05T02:56:14.841028Z",
     "start_time": "2019-03-05T02:56:14.840Z"
    }
   },
   "outputs": [
    {
     "name": "stdout",
     "output_type": "stream",
     "text": [
      "[0, 1, 2]\n",
      "[3, 4, 5, 6, 7, 8, 9]\n",
      "[1, 2, 3, 4]\n",
      "[0, 1, 2, 3, 4, 5, 6, 7, 8]\n"
     ]
    }
   ],
   "source": [
    "print(x[:3]) # [0, 1, 2]         #省略開始的元素，表示從第一個開始取。\n",
    "print(x[3:]) # [3, 4, 5,..., 9]  #省略結束的元素，表示取到最後一個。\n",
    "print(x[1:5]) # [1, 2, 3, 4]\n",
    "print(x[0:-1]) # [1, 2, ..., 8] #-1表示取到倒數第一個元素。"
   ]
  },
  {
   "cell_type": "markdown",
   "metadata": {},
   "source": [
    "串接列表："
   ]
  },
  {
   "cell_type": "code",
   "execution_count": 39,
   "metadata": {
    "ExecuteTime": {
     "end_time": "2019-03-05T02:56:14.872274Z",
     "start_time": "2019-03-05T02:56:14.856Z"
    }
   },
   "outputs": [
    {
     "name": "stdout",
     "output_type": "stream",
     "text": [
      "6\n",
      "[1, 2, 3, 4, 5, 6]\n"
     ]
    }
   ],
   "source": [
    "x = [1, 2, 3]\n",
    "x.extend([4, 5, 6])\n",
    "print(len(x))\n",
    "print(x)"
   ]
  },
  {
   "cell_type": "code",
   "execution_count": 40,
   "metadata": {
    "ExecuteTime": {
     "end_time": "2019-03-05T02:56:14.872274Z",
     "start_time": "2019-03-05T02:56:14.862Z"
    }
   },
   "outputs": [
    {
     "name": "stdout",
     "output_type": "stream",
     "text": [
      "6\n",
      "[1, 2, 3, 4, 5, 6]\n"
     ]
    }
   ],
   "source": [
    "x = [1, 2, 3]\n",
    "y = x + [4, 5, 6]\n",
    "\n",
    "print(len(y))\n",
    "print(y)"
   ]
  },
  {
   "cell_type": "markdown",
   "metadata": {},
   "source": [
    "新增一個元素在列表末端"
   ]
  },
  {
   "cell_type": "code",
   "execution_count": 41,
   "metadata": {
    "ExecuteTime": {
     "end_time": "2019-03-05T02:56:14.872274Z",
     "start_time": "2019-03-05T02:56:14.870Z"
    }
   },
   "outputs": [],
   "source": [
    "x = [1, 2, 3]\n",
    "x.append(0) # [1, 2, 3, 0]"
   ]
  },
  {
   "cell_type": "markdown",
   "metadata": {},
   "source": [
    "賦值:"
   ]
  },
  {
   "cell_type": "code",
   "execution_count": 42,
   "metadata": {
    "ExecuteTime": {
     "end_time": "2019-03-05T02:56:14.997261Z",
     "start_time": "2019-03-05T02:56:14.950391Z"
    }
   },
   "outputs": [],
   "source": [
    "# 指定第一個值是-1\n",
    "x[0] = -1"
   ]
  },
  {
   "cell_type": "code",
   "execution_count": 43,
   "metadata": {
    "ExecuteTime": {
     "end_time": "2019-03-05T02:56:14.997261Z",
     "start_time": "2019-03-05T02:56:14.972Z"
    }
   },
   "outputs": [
    {
     "name": "stdout",
     "output_type": "stream",
     "text": [
      "0\n",
      "-1\n"
     ]
    }
   ],
   "source": [
    "#強制將'range' object轉為真正的list\n",
    "z = list(range(10))  # [0, 1, 2, ..., 9]\n",
    "zero = z[0] # 0\n",
    "print( zero )\n",
    "z[0] = -1\n",
    "print( z[0] )"
   ]
  },
  {
   "cell_type": "markdown",
   "metadata": {},
   "source": [
    "## 元組（Tuple）\n",
    "Tuple可用來存放一組資料。\n",
    "\n",
    "這組資料的個數不限，型別也不須相同。\n",
    "\n",
    "值與值之間，要以,隔開。\n",
    "\n",
    "列表使用 []，而元組使用 ()。\n",
    "\n",
    "元組 是 immutable，也就是說宣告後不能修改。\n"
   ]
  },
  {
   "cell_type": "code",
   "execution_count": 44,
   "metadata": {
    "ExecuteTime": {
     "end_time": "2019-03-05T02:56:14.997261Z",
     "start_time": "2019-03-05T02:56:14.984Z"
    }
   },
   "outputs": [
    {
     "name": "stdout",
     "output_type": "stream",
     "text": [
      "cannot modify a tuple\n"
     ]
    }
   ],
   "source": [
    "my_list = [1, 2]\n",
    "my_tuple = (1, 2)\n",
    "my_list[1] = 3\n",
    "\n",
    "try:\n",
    "    my_tuple[1] = 4\n",
    "except TypeError:\n",
    "    print('cannot modify a tuple')"
   ]
  },
  {
   "cell_type": "markdown",
   "metadata": {},
   "source": [
    "多重賦值"
   ]
  },
  {
   "cell_type": "code",
   "execution_count": 45,
   "metadata": {
    "ExecuteTime": {
     "end_time": "2019-03-05T02:56:14.997261Z",
     "start_time": "2019-03-05T02:56:14.990Z"
    }
   },
   "outputs": [
    {
     "name": "stdout",
     "output_type": "stream",
     "text": [
      "1 2\n",
      "2 1\n"
     ]
    }
   ],
   "source": [
    "x, y = 1, 2\n",
    "print(x,y)\n",
    "x, y = y, x # x == 2, y == 1\n",
    "print(x,y)"
   ]
  },
  {
   "cell_type": "code",
   "execution_count": 46,
   "metadata": {},
   "outputs": [
    {
     "name": "stdout",
     "output_type": "stream",
     "text": [
      "(1, 2, 3)\n"
     ]
    }
   ],
   "source": [
    "t = 1,2,3    #tuple packing\n",
    "print(t)"
   ]
  },
  {
   "cell_type": "code",
   "execution_count": 47,
   "metadata": {},
   "outputs": [
    {
     "name": "stdout",
     "output_type": "stream",
     "text": [
      "1\n",
      "2\n",
      "3\n"
     ]
    }
   ],
   "source": [
    "a,b,c = t   #Sequence unpacking\n",
    "print(a)\n",
    "print(b)\n",
    "print(c)"
   ]
  },
  {
   "cell_type": "markdown",
   "metadata": {},
   "source": [
    "## 字典（Dictionary）\n",
    "字典使用{}，包含鍵值與對應的值，可以快速取出對應值："
   ]
  },
  {
   "cell_type": "code",
   "execution_count": 48,
   "metadata": {
    "ExecuteTime": {
     "end_time": "2019-03-05T02:56:14.997261Z",
     "start_time": "2019-03-05T02:56:14.996Z"
    }
   },
   "outputs": [
    {
     "data": {
      "text/plain": [
       "70"
      ]
     },
     "execution_count": 48,
     "metadata": {},
     "output_type": "execute_result"
    }
   ],
   "source": [
    "dict1 = {} # 建議寫法\n",
    "dirct2 = dict()\n",
    "grades = { 'Mark': 70, 'Jack': 40 }\n",
    "\n",
    "grades['Mark']"
   ]
  },
  {
   "cell_type": "markdown",
   "metadata": {},
   "source": [
    "## 集合 (Set)\n",
    "類似數學中集合的概念，裡面包含不重複的元素值。"
   ]
  },
  {
   "cell_type": "code",
   "execution_count": 49,
   "metadata": {},
   "outputs": [
    {
     "name": "stdout",
     "output_type": "stream",
     "text": [
      "{'b', 'a', 'c'}\n"
     ]
    }
   ],
   "source": [
    "s = set() #declare a set\n",
    "s.add(1) # { 1 }\n",
    "s.add(2) # { 1, 2 }\n",
    "s.add(2) # { 1, 2 }，重複無效\n",
    "len(s) # 2 \n",
    "1 in s # True\n",
    "\n",
    "list_item = ['a', 'b', 'c', 'a', 'b', 'c']\n",
    "set_item = set(list_item) # {a, b, c}\n",
    "print(set_item)"
   ]
  },
  {
   "cell_type": "markdown",
   "metadata": {},
   "source": [
    "# 運算子"
   ]
  },
  {
   "cell_type": "markdown",
   "metadata": {},
   "source": [
    "## 數學運算子\n",
    "\n",
    "| 運算子    | 效果           |\n",
    "|:---------:|:--------------:|\n",
    "| `x + y`  | X加Y |\n",
    "| `x - y` | X減Y |\n",
    "| `x * y`   | X乘Y |\n",
    "| `x / y`   | X除以Y |\n",
    "| `x // y`   | X除以Y，只取整數解 |\n",
    "| `x % y`   | 求X除以Y的餘數 |\n",
    "| `x ** y \t`   | X的Y次方 |"
   ]
  },
  {
   "cell_type": "markdown",
   "metadata": {},
   "source": [
    "## 比較運算子\n",
    "\n",
    "| 運算子    | 效果           |\n",
    "|:---------:|:--------------:|\n",
    "| `x < y`  | X是否小於Y |\n",
    "| `x <= y` | X是否小於等於Y |\n",
    "| `x > y`   | X是否大於Y |\n",
    "| `x >= y`   | X是否大於等於Y |\n",
    "| `x == y`   | X是否等於Y |\n",
    "| `x != y`   | X是否不等於Y |"
   ]
  },
  {
   "cell_type": "markdown",
   "metadata": {},
   "source": [
    "## 布林運算子\n",
    "\n",
    "| 運算子    | 效果           |\n",
    "|:---------:|:--------------:|\n",
    "| `a or b`  | A或B其中一個條件成立就回傳True |\n",
    "| `a and b` | A或B兩個條件都成立才回傳True |\n",
    "| `not a`   | 如果A為True，則回傳False，反之則回傳True |"
   ]
  },
  {
   "cell_type": "code",
   "execution_count": 50,
   "metadata": {
    "ExecuteTime": {
     "end_time": "2019-03-05T02:56:15.012886Z",
     "start_time": "2019-03-05T02:56:15.015Z"
    }
   },
   "outputs": [
    {
     "name": "stdout",
     "output_type": "stream",
     "text": [
      "big dude\n",
      "noraml\n"
     ]
    }
   ],
   "source": [
    "h = 180\n",
    "w = 85\n",
    "grade = 80\n",
    "\n",
    "# 身高超過175或是體重超過80，看起來就很大隻\n",
    "if h > 175 or w > 80:\n",
    "    print('big dude')\n",
    "\n",
    "# 成績高於70但是不高於90，就是個普通學生\n",
    "if grade > 70 and grade < 90:\n",
    "    print('noraml')"
   ]
  },
  {
   "cell_type": "markdown",
   "metadata": {},
   "source": [
    "# 控制流程"
   ]
  },
  {
   "cell_type": "markdown",
   "metadata": {},
   "source": [
    "## if…elif…else\n",
    "寫程式時常常會遇到根據不同條件，執行不同部分的程式碼，我們就可以用`if...elif...else`來做到這件事情。\n",
    "和其他語言的相比有幾點要注意：\n",
    "* Python中，程式區塊（Block）是用:以及縮排來定義的，不用再加上`{}`，也不用endif包裝區塊。\n",
    "* `if...else`區塊，只要滿足其中一個條件，程式就會離開這個判斷的區塊。\n",
    "* 判斷條件不需要用`()`包起來。\n",
    "* 條件行後面記得要有`:`結尾。\n",
    "* `else if`在Python縮寫作`elif`。\n",
    "* 滿足條件要執行的部分，以縮排的方式放在條件句下面。"
   ]
  },
  {
   "cell_type": "code",
   "execution_count": 51,
   "metadata": {},
   "outputs": [
    {
     "name": "stdout",
     "output_type": "stream",
     "text": [
      "22.974259470557254 Normal\n"
     ]
    }
   ],
   "source": [
    "import random as rd\n",
    "\n",
    "heigh=(170+30.0*rd.random())/100.0\n",
    "weight=50.0+40.0*rd.random()\n",
    "\n",
    "BMI= weight / (heigh * heigh)\n",
    "\n",
    "if BMI < 18.5 :\n",
    "    print( BMI, \"underweight\" )\n",
    "elif BMI >= 18.5 and BMI< 24.0:\n",
    "    print( BMI, \"Normal\" )\n",
    "elif BMI >= 24.0:\n",
    "    print( BMI, \"Overweight\" )\n",
    "else:\n",
    "    pass\n",
    "    #print(\"Something goes wrong!!\")"
   ]
  },
  {
   "cell_type": "markdown",
   "metadata": {},
   "source": [
    "# 迴圈 (loop)\n",
    "提供兩種方式`while`和`for`"
   ]
  },
  {
   "cell_type": "markdown",
   "metadata": {},
   "source": [
    "## while\n",
    "如果滿足執行的條件會一直執行下去，使用上不小心可能會變成無窮迴圈，執行敘述前會檢查有無滿足條件。\n",
    "* Python中，程式區塊是用:以及縮排來定義的，不用再加上`{}`，也不用end包裝區塊。\n",
    "* 判斷條件不需要用`()`包起來。\n",
    "* 條件行後面記得要有`:`結尾。\n",
    "* 滿足條件要執行的部分，以縮排的方式放在條件句下面。\n",
    "![while](https://www.tutorialspoint.com/python3/images/python_while_loop.jpg)"
   ]
  },
  {
   "cell_type": "code",
   "execution_count": 52,
   "metadata": {},
   "outputs": [
    {
     "name": "stdout",
     "output_type": "stream",
     "text": [
      "ix= 0 sum= 0\n",
      "ix= 1 sum= 1\n",
      "ix= 2 sum= 3\n",
      "ix= 3 sum= 6\n",
      "ix= 4 sum= 10\n",
      "ix= 5 sum= 15\n",
      "ix= 6 sum= 21\n",
      "ix= 7 sum= 28\n",
      "ix= 8 sum= 36\n",
      "ix= 9 sum= 45\n",
      "ix= 10 sum= 55\n"
     ]
    }
   ],
   "source": [
    "ix=0\n",
    "sum=0\n",
    "\n",
    "while ix <= 10:\n",
    "    sum += ix     #sum = sum + x\n",
    "    print('ix=',ix,'sum=',sum)\n",
    "    ix +=1    # ix = ix + 1"
   ]
  },
  {
   "cell_type": "markdown",
   "metadata": {},
   "source": [
    "比較特別的是Python可以讓loop和else混用，這是一個方便除錯的小技巧。與while混用時，當執行條件變為false時就會執行到else區塊。"
   ]
  },
  {
   "cell_type": "code",
   "execution_count": 53,
   "metadata": {},
   "outputs": [
    {
     "name": "stdout",
     "output_type": "stream",
     "text": [
      "0  is  less than 5\n",
      "1  is  less than 5\n",
      "2  is  less than 5\n",
      "3  is  less than 5\n",
      "4  is  less than 5\n",
      "5  is bigger than 5\n"
     ]
    }
   ],
   "source": [
    "count = 0\n",
    "while count < 5:\n",
    "   print (count, \" is  less than 5\")\n",
    "   count = count + 1\n",
    "else:\n",
    "   print (count, \" is bigger than 5\")"
   ]
  },
  {
   "cell_type": "markdown",
   "metadata": {},
   "source": [
    "## for\n",
    "\n",
    "![for](https://www.tutorialspoint.com/python3/images/python_for_loop.jpg)"
   ]
  },
  {
   "cell_type": "code",
   "execution_count": 54,
   "metadata": {},
   "outputs": [
    {
     "name": "stdout",
     "output_type": "stream",
     "text": [
      "0\n",
      "1\n",
      "2\n",
      "3\n",
      "4\n"
     ]
    }
   ],
   "source": [
    "#range() generates an iterator to progress integers starting with 0 upto n-1\n",
    "#To obtain a list object of the sequence, it is typecasted to list()\n",
    "for var in list(range(5)):  \n",
    "    print (var)"
   ]
  },
  {
   "cell_type": "code",
   "execution_count": 55,
   "metadata": {},
   "outputs": [
    {
     "name": "stdout",
     "output_type": "stream",
     "text": [
      "Current Letter : M\n",
      "Current Letter : a\n",
      "Current Letter : t\n",
      "Current Letter : e\n",
      "Current Letter : r\n",
      "Current Letter : i\n",
      "Current Letter : a\n",
      "Current Letter : l\n",
      "\n",
      "Current fruit : banana\n",
      "Current fruit : apple\n",
      "Current fruit : mango\n"
     ]
    }
   ],
   "source": [
    "# loop over of a string\n",
    "for letter in 'Material':\n",
    "    print ('Current Letter :', letter)\n",
    "print()\n",
    "\n",
    "# traversal of List sequence\n",
    "fruits = ['banana', 'apple', 'mango']\n",
    "for fruit in fruits:\n",
    "    print ('Current fruit :', fruit)"
   ]
  },
  {
   "cell_type": "markdown",
   "metadata": {},
   "source": [
    "與for混用時，當執行完所有list中的項目後才會執行else區塊。"
   ]
  },
  {
   "cell_type": "code",
   "execution_count": 56,
   "metadata": {},
   "outputs": [
    {
     "name": "stdout",
     "output_type": "stream",
     "text": [
      "[11, 13, 15, 17, 19, 21, 23, 25, 27, 29, 32]\n",
      "the list contains an even number\n"
     ]
    }
   ],
   "source": [
    "numbers = list(range(11,31,2))\n",
    "numbers.append(32)\n",
    "print (numbers)\n",
    "for num in numbers:\n",
    "    if num%2 == 0:\n",
    "        print ('the list contains an even number')\n",
    "        break\n",
    "else:\n",
    "    print ('the list doesnot contain even number')"
   ]
  },
  {
   "cell_type": "markdown",
   "metadata": {},
   "source": [
    "## 巢狀迴圈 (Nested loops)\n",
    "多層迴圈，操作多維矩陣時常用到"
   ]
  },
  {
   "cell_type": "code",
   "execution_count": 57,
   "metadata": {},
   "outputs": [
    {
     "name": "stdout",
     "output_type": "stream",
     "text": [
      "1 2 3 4 5 6 7 8 9 10 \n",
      "2 4 6 8 10 12 14 16 18 20 \n",
      "3 6 9 12 15 18 21 24 27 30 \n",
      "4 8 12 16 20 24 28 32 36 40 \n",
      "5 10 15 20 25 30 35 40 45 50 \n",
      "6 12 18 24 30 36 42 48 54 60 \n",
      "7 14 21 28 35 42 49 56 63 70 \n",
      "8 16 24 32 40 48 56 64 72 80 \n",
      "9 18 27 36 45 54 63 72 81 90 \n",
      "10 20 30 40 50 60 70 80 90 100 \n"
     ]
    }
   ],
   "source": [
    "import sys\n",
    "for i in range(1,11):\n",
    "    for j in range(1,11):\n",
    "        k = i*j\n",
    "        print (k, end=' ')\n",
    "    print()"
   ]
  },
  {
   "cell_type": "markdown",
   "metadata": {},
   "source": [
    "![break](https://www.tutorialspoint.com/python3/images/cpp_break_statement.jpg)\n",
    "![continue](https://www.tutorialspoint.com/python3/images/cpp_continue_statement.jpg)\n",
    "* break:中斷迴圈，往下一個的程式區塊執行。\n",
    "* continue:效果是跳過這次迴圈的執行。\n",
    "* pass:什麼事都不做，常用在維持程式的區塊性時。"
   ]
  },
  {
   "cell_type": "code",
   "execution_count": 58,
   "metadata": {},
   "outputs": [
    {
     "name": "stdout",
     "output_type": "stream",
     "text": [
      "Current Letter : M\n",
      "Current Letter : a\n",
      "Current variable value : 10\n",
      "Current variable value : 9\n",
      "Current variable value : 8\n",
      "Current variable value : 7\n",
      "Current variable value : 6\n"
     ]
    }
   ],
   "source": [
    "for letter in 'Material':     # First Example\n",
    "    if letter == 't':\n",
    "        break\n",
    "    print ('Current Letter :', letter)\n",
    "  \n",
    "var = 10                    # Second Example\n",
    "while var > 0:              \n",
    "    print ('Current variable value :', var)\n",
    "    var = var -1\n",
    "    if var == 5:\n",
    "        break\n"
   ]
  },
  {
   "cell_type": "code",
   "execution_count": 59,
   "metadata": {},
   "outputs": [
    {
     "name": "stdout",
     "output_type": "stream",
     "text": [
      "Current Letter : M\n",
      "Current Letter : t\n",
      "Current Letter : e\n",
      "This is a pass block\n",
      "Current Letter : r\n",
      "Current Letter : i\n",
      "Current Letter : l\n",
      "Current variable value : 9\n",
      "Current variable value : 8\n",
      "Current variable value : 7\n",
      "Current variable value : 6\n",
      "Current variable value : 4\n",
      "Current variable value : 3\n",
      "Current variable value : 2\n",
      "Current variable value : 1\n",
      "Current variable value : 0\n"
     ]
    }
   ],
   "source": [
    "for letter in 'Material':     # First Example\n",
    "    if letter == 'a':\n",
    "        continue\n",
    "    elif letter == 'r':\n",
    "        pass\n",
    "        print ('This is a pass block')\n",
    "    print ('Current Letter :', letter)\n",
    "\n",
    "var = 10                    # Second Example\n",
    "while var > 0:              \n",
    "    var = var -1\n",
    "    if var == 5:\n",
    "        continue\n",
    "    print ('Current variable value :', var)\n"
   ]
  },
  {
   "cell_type": "markdown",
   "metadata": {},
   "source": [
    "# 自訂函式 (function)\n",
    "重複使用的程式區塊，有輸入輸出。在 Python 中我們會使用 def 來定義函式區塊。\n",
    "* 函數名稱後面記得要有:結尾。\n",
    "* 要傳入的參數或引數要放在()裡面。\n",
    "* 用return將傳回值傳回給呼叫者。"
   ]
  },
  {
   "cell_type": "code",
   "execution_count": 60,
   "metadata": {},
   "outputs": [
    {
     "name": "stdout",
     "output_type": "stream",
     "text": [
      "10\n"
     ]
    }
   ],
   "source": [
    "def sum(x, y):\n",
    "    return x + y\n",
    "\n",
    "print( sum(3,7) )\n"
   ]
  },
  {
   "cell_type": "code",
   "execution_count": 61,
   "metadata": {},
   "outputs": [
    {
     "name": "stdout",
     "output_type": "stream",
     "text": [
      "120\n"
     ]
    }
   ],
   "source": [
    "def factorial(n):\n",
    "    if n==0:\n",
    "        return 1\n",
    "    else:\n",
    "        return n*factorial(n-1)\n",
    "\n",
    "print(factorial(5))\n"
   ]
  },
  {
   "cell_type": "markdown",
   "metadata": {},
   "source": [
    "# 計算一群人的BMI值並判斷是否過胖"
   ]
  },
  {
   "cell_type": "code",
   "execution_count": 62,
   "metadata": {},
   "outputs": [
    {
     "name": "stdout",
     "output_type": "stream",
     "text": [
      "19.78342357351104 Normal\n",
      "17.70857696548498 underweight\n",
      "18.194005553959588 underweight\n",
      "18.30576947355132 underweight\n",
      "19.390581717451525 Normal\n",
      "19.462185795345523 Normal\n",
      "18.078512396694215 underweight\n",
      "17.8359096313912 underweight\n",
      "19.159827275586945 Normal\n",
      "19.723865877712033 Normal\n"
     ]
    }
   ],
   "source": [
    "import random as rd\n",
    "\n",
    "res = rd.sample(range(1, 30), 10)\n",
    "#print(res)\n",
    "\n",
    "heigh=[]\n",
    "weight=[]\n",
    "for i in range(10):\n",
    "    heigh.append((170.0+res[i]))\n",
    "    weight.append(50.0+res[i])\n",
    "    \n",
    "#print(heigh)\n",
    "#print(weight)\n",
    "\n",
    "def cal_BMI(heigh, weight):\n",
    "    heigh/=100.0                #heigh=heigh/100.0\n",
    "    return weight / (heigh * heigh)\n",
    "\n",
    "for i in range(10):\n",
    "    BMI=cal_BMI(heigh[i], weight[i])\n",
    "    if BMI < 18.5 :\n",
    "        print( BMI, \"underweight\" )\n",
    "    elif BMI >= 18.5 and BMI< 24.0:\n",
    "        print( BMI, \"Normal\" )\n",
    "    elif BMI >= 24.0:\n",
    "        print( BMI, \"Overweight\" )\n",
    "    else:\n",
    "        pass\n",
    "        #print(\"Something goes wrong!!\")"
   ]
  },
  {
   "cell_type": "markdown",
   "metadata": {},
   "source": [
    "# 課堂練習 Ramanujan's Formula for Pi\n",
    "![Ramanujan's Formula for Pi](https://i.pinimg.com/originals/a1/f5/81/a1f581c7dc6c3c581a03902c15327ccb.jpg)"
   ]
  },
  {
   "cell_type": "code",
   "execution_count": 63,
   "metadata": {},
   "outputs": [],
   "source": [
    "#coeff=\n",
    "#summ=\n",
    "#k="
   ]
  },
  {
   "cell_type": "code",
   "execution_count": 64,
   "metadata": {},
   "outputs": [],
   "source": [
    "#for iter in list[]:\n",
    "#    denominator=\n",
    "#    fraction=\n",
    "#    temp=coeff*fraction/denominator\n",
    "#    summ\n",
    "       \n",
    "#rpi="
   ]
  },
  {
   "cell_type": "markdown",
   "metadata": {},
   "source": [
    "# Python 標準函式庫\n",
    "\n",
    "1. 作業系統介面\n",
    "2. 檔案之萬用字元 (File Wildcards)\n",
    "3. 命令列引數\n",
    "4. 錯誤輸出重新導向與程式終止\n",
    "5. 字串樣式比對\n",
    "6. 數學相關\n",
    "7. 網路存取\n",
    "8. 日期與時間\n",
    "9. 資料壓縮\n",
    "10. 效能量測\n",
    "11. 品質控管\n",
    "12. 標準模組庫"
   ]
  },
  {
   "cell_type": "code",
   "execution_count": null,
   "metadata": {},
   "outputs": [],
   "source": [
    "https://docs.python.org/zh-tw/3/tutorial/stdlib.html"
   ]
  }
 ],
 "metadata": {
  "hide_input": false,
  "kernelspec": {
   "display_name": "Python 3 (ipykernel)",
   "language": "python",
   "name": "python3"
  },
  "language_info": {
   "codemirror_mode": {
    "name": "ipython",
    "version": 3
   },
   "file_extension": ".py",
   "mimetype": "text/x-python",
   "name": "python",
   "nbconvert_exporter": "python",
   "pygments_lexer": "ipython3",
   "version": "3.7.11"
  },
  "toc": {
   "base_numbering": 1,
   "nav_menu": {},
   "number_sections": true,
   "sideBar": true,
   "skip_h1_title": false,
   "title_cell": "Table of Contents",
   "title_sidebar": "Contents",
   "toc_cell": false,
   "toc_position": {},
   "toc_section_display": true,
   "toc_window_display": true
  },
  "varInspector": {
   "cols": {
    "lenName": 16,
    "lenType": 16,
    "lenVar": 40
   },
   "kernels_config": {
    "python": {
     "delete_cmd_postfix": "",
     "delete_cmd_prefix": "del ",
     "library": "var_list.py",
     "varRefreshCmd": "print(var_dic_list())"
    },
    "r": {
     "delete_cmd_postfix": ") ",
     "delete_cmd_prefix": "rm(",
     "library": "var_list.r",
     "varRefreshCmd": "cat(var_dic_list()) "
    }
   },
   "types_to_exclude": [
    "module",
    "function",
    "builtin_function_or_method",
    "instance",
    "_Feature"
   ],
   "window_display": false
  }
 },
 "nbformat": 4,
 "nbformat_minor": 4
}
