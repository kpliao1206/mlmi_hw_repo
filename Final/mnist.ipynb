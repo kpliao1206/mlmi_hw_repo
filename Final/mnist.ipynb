{
 "cells": [
  {
   "cell_type": "code",
   "execution_count": 1,
   "metadata": {},
   "outputs": [],
   "source": [
    "import torch\n",
    "from torch import nn\n",
    "from torch.nn import functional as F\n",
    "\n",
    "from torch.utils.data import DataLoader # loads data in batches\n",
    "from torchvision import datasets # load MNIST\n",
    "import torchvision.transforms as T # transformers for computer vision\n",
    "from torchsummary import summary\n",
    "from torch.optim.lr_scheduler import ReduceLROnPlateau, CosineAnnealingLR, StepLR\n",
    "\n",
    "import numpy as np\n",
    "import matplotlib.pyplot as plt\n",
    "from tqdm import tqdm # progress bar\n",
    "import torch.onnx\n",
    "import netron"
   ]
  },
  {
   "cell_type": "markdown",
   "metadata": {},
   "source": [
    "# Data processing"
   ]
  },
  {
   "cell_type": "code",
   "execution_count": 3,
   "metadata": {},
   "outputs": [],
   "source": [
    "totensor = T.ToTensor() # image (3D array) to Tensor\n",
    "\n",
    "train_data = datasets.MNIST(root = './', download=False, train = True, transform = totensor)\n",
    "test_data = datasets.MNIST(root = './', download=False, train = False, transform = totensor)"
   ]
  },
  {
   "cell_type": "code",
   "execution_count": 4,
   "metadata": {},
   "outputs": [
    {
     "name": "stdout",
     "output_type": "stream",
     "text": [
      "torch.Size([1, 28, 28])\n",
      "<class 'int'>\n"
     ]
    }
   ],
   "source": [
    "img, label = train_data[0]\n",
    "print(img.shape) # returns a Tensor of Size 1,28,28\n",
    "print(type(label))"
   ]
  },
  {
   "cell_type": "code",
   "execution_count": 5,
   "metadata": {},
   "outputs": [
    {
     "name": "stdout",
     "output_type": "stream",
     "text": [
      "17900\n",
      "2942\n"
     ]
    }
   ],
   "source": [
    "import torch.nn.functional as F\n",
    "# 只取 0, 1, 2 作為資料集\n",
    "# print(len(train_data))\n",
    "# new_train_img = []\n",
    "# new_train_label = []\n",
    "# for i in range(len(train_data)):\n",
    "#     img, label = train_data[i]\n",
    "#     if label == 0 or label == 1 or label == 2:\n",
    "#         new_train_img.append(img.numpy())\n",
    "#         new_train_label.append(label)\n",
    "# print(len(new_train_img))\n",
    "\n",
    "# print(len(test_data))\n",
    "# new_test_img = []\n",
    "# new_test_label = []\n",
    "# for i in range(len(test_data)):\n",
    "#     img, label = test_data[i]\n",
    "#     if label == 0 or label == 1 or label == 2:\n",
    "#         new_test_img.append(img.numpy())\n",
    "#         new_test_label.append(label)\n",
    "        \n",
    "# print(len(new_test_img))\n",
    "\n",
    "# 取出label為3, 6, 8的資料\n",
    "new_train_img = []\n",
    "new_train_label = []\n",
    "selected_labels = [3, 6, 8]\n",
    "for i in range(len(train_data)):\n",
    "    _, label = train_data[i]\n",
    "    if label in selected_labels:\n",
    "        one_hot_label = torch.tensor([int(label == selected_labels[0]), int(label == selected_labels[1]), int(label == selected_labels[2])]).float()\n",
    "        new_train_img.append(train_data[i][0].numpy())\n",
    "        new_train_label.append(one_hot_label)\n",
    "print(len(new_train_img))\n",
    "\n",
    "new_test_img = []\n",
    "new_test_label = []\n",
    "for i in range(len(test_data)):\n",
    "    _, label = test_data[i]\n",
    "    if label in selected_labels:\n",
    "        one_hot_label = torch.tensor([int(label == selected_labels[0]), int(label == selected_labels[1]), int(label == selected_labels[2])]).float()\n",
    "        new_test_img.append(test_data[i][0].numpy())\n",
    "        new_test_label.append(one_hot_label)\n",
    "print(len(new_test_img))"
   ]
  },
  {
   "cell_type": "code",
   "execution_count": 6,
   "metadata": {},
   "outputs": [
    {
     "name": "stdout",
     "output_type": "stream",
     "text": [
      "(17900, 1, 28, 28) (17900,)\n",
      "(2942, 1, 28, 28) (2942,)\n"
     ]
    },
    {
     "name": "stderr",
     "output_type": "stream",
     "text": [
      "C:\\Users\\User\\AppData\\Local\\Temp\\ipykernel_10972\\655990533.py:1: FutureWarning: The input object of type 'Tensor' is an array-like implementing one of the corresponding protocols (`__array__`, `__array_interface__` or `__array_struct__`); but not a sequence (or 0-D). In the future, this object will be coerced as if it was first converted using `np.array(obj)`. To retain the old behaviour, you have to either modify the type 'Tensor', or assign to an empty array created with `np.empty(correct_shape, dtype=object)`.\n",
      "  new_train_img, new_train_label = np.array(new_train_img), np.array(new_train_label)\n",
      "C:\\Users\\User\\AppData\\Local\\Temp\\ipykernel_10972\\655990533.py:1: VisibleDeprecationWarning: Creating an ndarray from ragged nested sequences (which is a list-or-tuple of lists-or-tuples-or ndarrays with different lengths or shapes) is deprecated. If you meant to do this, you must specify 'dtype=object' when creating the ndarray.\n",
      "  new_train_img, new_train_label = np.array(new_train_img), np.array(new_train_label)\n",
      "C:\\Users\\User\\AppData\\Local\\Temp\\ipykernel_10972\\655990533.py:2: FutureWarning: The input object of type 'Tensor' is an array-like implementing one of the corresponding protocols (`__array__`, `__array_interface__` or `__array_struct__`); but not a sequence (or 0-D). In the future, this object will be coerced as if it was first converted using `np.array(obj)`. To retain the old behaviour, you have to either modify the type 'Tensor', or assign to an empty array created with `np.empty(correct_shape, dtype=object)`.\n",
      "  new_test_img, new_test_label = np.array(new_test_img), np.array(new_test_label)\n",
      "C:\\Users\\User\\AppData\\Local\\Temp\\ipykernel_10972\\655990533.py:2: VisibleDeprecationWarning: Creating an ndarray from ragged nested sequences (which is a list-or-tuple of lists-or-tuples-or ndarrays with different lengths or shapes) is deprecated. If you meant to do this, you must specify 'dtype=object' when creating the ndarray.\n",
      "  new_test_img, new_test_label = np.array(new_test_img), np.array(new_test_label)\n"
     ]
    }
   ],
   "source": [
    "new_train_img, new_train_label = np.array(new_train_img), np.array(new_train_label)\n",
    "new_test_img, new_test_label = np.array(new_test_img), np.array(new_test_label)\n",
    "print(new_train_img.shape, new_train_label.shape)\n",
    "print(new_test_img.shape, new_test_label.shape)"
   ]
  },
  {
   "cell_type": "code",
   "execution_count": 7,
   "metadata": {},
   "outputs": [
    {
     "data": {
      "image/png": "[encoded data removed]",
      "text/plain": [
       "<Figure size 640x480 with 1 Axes>"
      ]
     },
     "metadata": {},
     "output_type": "display_data"
    }
   ],
   "source": [
    "plt.imshow(new_train_img[3].reshape(28,28), cmap = 'gist_yarg'); # gist_yarg plots inverse of W&B"
   ]
  },
  {
   "cell_type": "code",
   "execution_count": 8,
   "metadata": {},
   "outputs": [
    {
     "name": "stdout",
     "output_type": "stream",
     "text": [
      "torch.Size([100, 1, 28, 28])\n",
      "<torch.utils.data.dataloader.DataLoader object at 0x00000227092B09D0>\n"
     ]
    }
   ],
   "source": [
    "from torch.utils.data import DataLoader, Dataset\n",
    "from dataclasses import dataclass\n",
    "\n",
    "class MNIST_Dataset(Dataset):\n",
    "    def __init__(self, x, y):\n",
    "        self.x = torch.from_numpy(x).type(torch.FloatTensor)\n",
    "        # self.y = torch.from_numpy(y).type(torch.LongTensor)\n",
    "        self.y = y\n",
    "        self.n_samples = x.shape[0]\n",
    "    \n",
    "    def __getitem__(self, index):\n",
    "        return self.x[index], self.y[index]\n",
    "    \n",
    "    def __len__(self):\n",
    "        return self.n_samples\n",
    "\n",
    "torch.manual_seed(101)\n",
    "\n",
    "train_loader = DataLoader(MNIST_Dataset(new_train_img, new_train_label), batch_size=100, shuffle=True)\n",
    "test_loader =  DataLoader(MNIST_Dataset(new_test_img, new_test_label),  batch_size=500, shuffle=False)\n",
    "\n",
    "@dataclass\n",
    "class Loader:\n",
    "    \"\"\"\n",
    "    Custom class to accomodate train and test loader iterators\n",
    "    If we run one iteration now, we will have one batch of the training dataset\n",
    "    \"\"\"\n",
    "    train: DataLoader\n",
    "    test: DataLoader\n",
    "\n",
    "mnist_loader = Loader(train_loader, test_loader)\n",
    "for img, label in mnist_loader.train:\n",
    "    break # we run only one iteration , after that we break\n",
    "print(img.shape) # bz, ch, W H\n",
    "print(mnist_loader.train)"
   ]
  },
  {
   "cell_type": "markdown",
   "metadata": {},
   "source": [
    "# Build model"
   ]
  },
  {
   "cell_type": "code",
   "execution_count": 10,
   "metadata": {},
   "outputs": [
    {
     "name": "stdout",
     "output_type": "stream",
     "text": [
      "----------------------------------------------------------------\n",
      "        Layer (type)               Output Shape         Param #\n",
      "================================================================\n",
      "            Linear-1                 [-1, 1, 3]           2,355\n",
      "           Sigmoid-2                 [-1, 1, 3]               0\n",
      "            Linear-3                 [-1, 1, 3]              12\n",
      "           Sigmoid-4                 [-1, 1, 3]               0\n",
      "            Linear-5                 [-1, 1, 3]              12\n",
      "           Softmax-6                 [-1, 1, 3]               0\n",
      "================================================================\n",
      "Total params: 2,379\n",
      "Trainable params: 2,379\n",
      "Non-trainable params: 0\n",
      "----------------------------------------------------------------\n",
      "Input size (MB): 0.00\n",
      "Forward/backward pass size (MB): 0.00\n",
      "Params size (MB): 0.01\n",
      "Estimated Total Size (MB): 0.01\n",
      "----------------------------------------------------------------\n"
     ]
    }
   ],
   "source": [
    "class ThreeLayerANN(nn.Module):\n",
    "    \n",
    "    def __init__(self, in_size = 784, out_size=3):\n",
    "        \"\"\"\n",
    "        * 784 input layers \n",
    "        * 2 hiden layers of 3 and 3 neurons respectively\n",
    "        * 3 output layer\n",
    "        \"\"\"\n",
    "        super(ThreeLayerANN, self).__init__()\n",
    "        \n",
    "        self.layer1 = nn.Linear(in_size, 3)\n",
    "        self.layer2 = nn.Linear(3, 3)\n",
    "        self.layer3 = nn.Linear(3, out_size)\n",
    "        self.sigmoid = nn.Sigmoid()\n",
    "        self.softmax = nn.Softmax(dim = 1)\n",
    "\n",
    "        # weights initialize\n",
    "        self.layer1.weight.data.normal_(mean=0.0, std=1.0)\n",
    "        self.layer1.bias.data.zero_()\n",
    "        self.layer2.weight.data.normal_(mean=0.0, std=1.0)\n",
    "        self.layer2.bias.data.zero_()\n",
    "        self.layer3.weight.data.normal_(mean=0.0, std=1.0)\n",
    "        self.layer3.bias.data.zero_()\n",
    "            \n",
    "    def forward(self, X):\n",
    "\n",
    "        X = self.layer1(X)\n",
    "        X = self.sigmoid(X)\n",
    "        X = self.layer2(X)\n",
    "        X = self.sigmoid(X)\n",
    "        X = self.layer3(X)\n",
    "        \n",
    "        return self.softmax(X) # multi-class classification, the sum of all probabilities is 1\n",
    "\n",
    "model = ThreeLayerANN().cuda()\n",
    "summary(model, (1, 784))\n",
    "# d = torch.rand(1, 784)\n",
    " \n",
    "# onnx_path = \"ThreeLayerANN.onnx\"\n",
    "# torch.onnx.export(model.cpu(), d, onnx_path)\n",
    "# netron.start(onnx_path)"
   ]
  },
  {
   "cell_type": "markdown",
   "metadata": {},
   "source": [
    "# Train"
   ]
  },
  {
   "cell_type": "code",
   "execution_count": 11,
   "metadata": {},
   "outputs": [],
   "source": [
    "def train_model(model, loader, criterion, optimizer, scheduler, epochs=50, synapse=False, weight_file='', w_range=(-2, 2)):\n",
    "    \"\"\"\n",
    "    synapse : bool, default=False. 若synapse=True則限制權重於給定的檔案\n",
    "    \"\"\"\n",
    "    selected_labels = [3, 6, 8]\n",
    "    if synapse:\n",
    "        synapse_weight = np.load(weight_file)\n",
    "    Loss = {'train':[], 'test':[]}\n",
    "    Accuracy = {'train':[], 'test':[]}\n",
    "    model = model.cuda()\n",
    "\n",
    "    for epoch in tqdm(range(epochs)):\n",
    "        # we set the number of True positives to zero in every epoch\n",
    "        train_corr = 0\n",
    "        test_corr = 0\n",
    "        train_size = 0\n",
    "        test_size = 0\n",
    "        \n",
    "        ##### Training loop #####\n",
    "        model.train()\n",
    "        for batch, (img, label) in enumerate(loader.train): \n",
    "            batch +=1\n",
    "            train_size += len(img)\n",
    "            img = img.cuda()\n",
    "            label = label.cuda()\n",
    "            y_pred = model(img.view(img.shape[0],-1)) # batch size for train is 100\n",
    "            loss = criterion(y_pred, label)\n",
    "            \n",
    "            # last 3-layer neurons into one result\n",
    "            preds_classes = torch.argmax(y_pred, dim=1)\n",
    "            targets_classes = torch.argmax(label, dim=1)\n",
    "            prediction = torch.max(y_pred, dim=1) # return (values, indices)\n",
    "            train_corr += torch.sum(preds_classes == targets_classes).item() # sum of correct predictions\n",
    "\n",
    "            optimizer.zero_grad()\n",
    "            loss.backward()\n",
    "            optimizer.step()\n",
    "    \n",
    "            ##### 限制權重範圍 #####\n",
    "            for p in model.parameters():\n",
    "                p.data.clamp_(w_range[0], w_range[1])\n",
    "            #######################\n",
    "            \n",
    "            if synapse:\n",
    "                ##### 限制權重的值 #####\n",
    "                with torch.no_grad():\n",
    "                    for i, param in enumerate(model.parameters()):\n",
    "                        param_shape = param.shape\n",
    "                        param_clone = torch.clone(param).cpu() # 取得 params 並複製\n",
    "\n",
    "                        # 將複製的 params 各別與我們提取的所有 synapse weights 相減後取絕對值得到最接近值，並將 param assign 為最接近值\n",
    "                        w_index = np.argmin(np.abs(param_clone.numpy().reshape(-1, 1) - np.tile(np.array(synapse_weight).reshape(1, -1), (param_clone.numpy().size, 1))), axis=1)\n",
    "                        param[...] = torch.Tensor(synapse_weight[w_index]).view(param_shape)\n",
    "                #######################\n",
    "                \n",
    "        scheduler.step()\n",
    "        \n",
    "        accuracy = 100 * (train_corr / train_size ) \n",
    "        print( f'Epoch:{epoch+1:2d} Train Loss: {loss.item():4.4f} Train Accuracy: {accuracy:4.4f} %' )\n",
    "\n",
    "        Loss['train'].append(loss.item()) # store loss at the end of epoch\n",
    "        Accuracy['train'].append(accuracy) # store accuracy at the end of epoch\n",
    "\n",
    "        ##### Validation loop #####\n",
    "        model.eval()\n",
    "        # validation (test). Here we run batches of 500 images, the test loader runs 120 times (120 x 500 = 60,000)\n",
    "        with torch.no_grad():\n",
    "            for batch, (img, label) in enumerate(loader.test):\n",
    "                batch +=1\n",
    "                test_size += len(img)\n",
    "                img = img.cuda()\n",
    "                label = label.cuda()\n",
    "                y_val = model(img.view(img.shape[0],-1)) # batch size for test is 500\n",
    "                _, predicted = torch.max(y_val, dim = 1)\n",
    "                preds_classes = torch.argmax(y_val, dim=1)\n",
    "                targets_classes = torch.argmax(label, dim=1)\n",
    "                test_corr += torch.sum(preds_classes == targets_classes).item()\n",
    "        \n",
    "        loss = criterion(y_val, label)\n",
    "        Loss['test'].append(loss.item()) \n",
    "        accuracy = 100 * (test_corr / test_size)\n",
    "        print( f'Test Accuracy: {accuracy:4.4f} %' )\n",
    "        Accuracy['test'].append(accuracy)\n",
    "    \n",
    "    return model, Loss, Accuracy"
   ]
  },
  {
   "cell_type": "markdown",
   "metadata": {},
   "source": [
    "# Case0"
   ]
  },
  {
   "cell_type": "code",
   "execution_count": 60,
   "metadata": {},
   "outputs": [
    {
     "name": "stderr",
     "output_type": "stream",
     "text": [
      "  0%|          | 0/30 [00:00<?, ?it/s]"
     ]
    },
    {
     "name": "stdout",
     "output_type": "stream",
     "text": [
      "Epoch: 1 Train Loss: 0.6346 Train Accuracy: 69.3520 %\n"
     ]
    },
    {
     "name": "stderr",
     "output_type": "stream",
     "text": [
      "  3%|▎         | 1/30 [00:07<03:50,  7.95s/it]"
     ]
    },
    {
     "name": "stdout",
     "output_type": "stream",
     "text": [
      "Test Accuracy: 93.7458 %\n"
     ]
    },
    {
     "name": "stderr",
     "output_type": "stream",
     "text": [
      "  7%|▋         | 2/30 [00:10<02:07,  4.54s/it]"
     ]
    },
    {
     "name": "stdout",
     "output_type": "stream",
     "text": [
      "Epoch: 2 Train Loss: 0.6331 Train Accuracy: 93.0726 %\n",
      "Test Accuracy: 95.7172 %\n"
     ]
    },
    {
     "name": "stderr",
     "output_type": "stream",
     "text": [
      " 10%|█         | 3/30 [00:11<01:28,  3.27s/it]"
     ]
    },
    {
     "name": "stdout",
     "output_type": "stream",
     "text": [
      "Epoch: 3 Train Loss: 0.6118 Train Accuracy: 93.9162 %\n",
      "Test Accuracy: 93.5078 %\n"
     ]
    },
    {
     "name": "stderr",
     "output_type": "stream",
     "text": [
      " 13%|█▎        | 4/30 [00:13<01:09,  2.68s/it]"
     ]
    },
    {
     "name": "stdout",
     "output_type": "stream",
     "text": [
      "Epoch: 4 Train Loss: 0.5846 Train Accuracy: 94.9609 %\n",
      "Test Accuracy: 95.5812 %\n"
     ]
    },
    {
     "name": "stderr",
     "output_type": "stream",
     "text": [
      " 17%|█▋        | 5/30 [00:15<00:59,  2.37s/it]"
     ]
    },
    {
     "name": "stdout",
     "output_type": "stream",
     "text": [
      "Epoch: 5 Train Loss: 0.6016 Train Accuracy: 95.1564 %\n",
      "Test Accuracy: 95.7172 %\n"
     ]
    },
    {
     "name": "stderr",
     "output_type": "stream",
     "text": [
      " 20%|██        | 6/30 [00:16<00:49,  2.08s/it]"
     ]
    },
    {
     "name": "stdout",
     "output_type": "stream",
     "text": [
      "Epoch: 6 Train Loss: 0.5816 Train Accuracy: 95.6816 %\n",
      "Test Accuracy: 95.9211 %\n"
     ]
    },
    {
     "name": "stderr",
     "output_type": "stream",
     "text": [
      " 23%|██▎       | 7/30 [00:18<00:45,  1.96s/it]"
     ]
    },
    {
     "name": "stdout",
     "output_type": "stream",
     "text": [
      "Epoch: 7 Train Loss: 0.5616 Train Accuracy: 95.9888 %\n",
      "Test Accuracy: 96.1931 %\n"
     ]
    },
    {
     "name": "stderr",
     "output_type": "stream",
     "text": [
      " 27%|██▋       | 8/30 [00:20<00:39,  1.78s/it]"
     ]
    },
    {
     "name": "stdout",
     "output_type": "stream",
     "text": [
      "Epoch: 8 Train Loss: 0.5916 Train Accuracy: 96.0782 %\n",
      "Test Accuracy: 96.3630 %\n"
     ]
    },
    {
     "name": "stderr",
     "output_type": "stream",
     "text": [
      " 30%|███       | 9/30 [00:21<00:34,  1.63s/it]"
     ]
    },
    {
     "name": "stdout",
     "output_type": "stream",
     "text": [
      "Epoch: 9 Train Loss: 0.5616 Train Accuracy: 96.1453 %\n",
      "Test Accuracy: 96.3630 %\n"
     ]
    },
    {
     "name": "stderr",
     "output_type": "stream",
     "text": [
      " 33%|███▎      | 10/30 [00:22<00:31,  1.59s/it]"
     ]
    },
    {
     "name": "stdout",
     "output_type": "stream",
     "text": [
      "Epoch:10 Train Loss: 0.5916 Train Accuracy: 96.2123 %\n",
      "Test Accuracy: 96.3290 %\n"
     ]
    },
    {
     "name": "stderr",
     "output_type": "stream",
     "text": [
      " 37%|███▋      | 11/30 [00:24<00:29,  1.55s/it]"
     ]
    },
    {
     "name": "stdout",
     "output_type": "stream",
     "text": [
      "Epoch:11 Train Loss: 0.6016 Train Accuracy: 96.2737 %\n",
      "Test Accuracy: 96.3630 %\n"
     ]
    },
    {
     "name": "stderr",
     "output_type": "stream",
     "text": [
      " 40%|████      | 12/30 [00:26<00:28,  1.61s/it]"
     ]
    },
    {
     "name": "stdout",
     "output_type": "stream",
     "text": [
      "Epoch:12 Train Loss: 0.5816 Train Accuracy: 96.2905 %\n",
      "Test Accuracy: 96.3630 %\n"
     ]
    },
    {
     "name": "stderr",
     "output_type": "stream",
     "text": [
      " 43%|████▎     | 13/30 [00:27<00:27,  1.64s/it]"
     ]
    },
    {
     "name": "stdout",
     "output_type": "stream",
     "text": [
      "Epoch:13 Train Loss: 0.5717 Train Accuracy: 96.2849 %\n",
      "Test Accuracy: 96.3290 %\n"
     ]
    },
    {
     "name": "stderr",
     "output_type": "stream",
     "text": [
      " 47%|████▋     | 14/30 [00:29<00:26,  1.64s/it]"
     ]
    },
    {
     "name": "stdout",
     "output_type": "stream",
     "text": [
      "Epoch:14 Train Loss: 0.5716 Train Accuracy: 96.3128 %\n",
      "Test Accuracy: 96.3290 %\n"
     ]
    },
    {
     "name": "stderr",
     "output_type": "stream",
     "text": [
      " 50%|█████     | 15/30 [00:30<00:23,  1.58s/it]"
     ]
    },
    {
     "name": "stdout",
     "output_type": "stream",
     "text": [
      "Epoch:15 Train Loss: 0.5816 Train Accuracy: 96.3240 %\n",
      "Test Accuracy: 96.3290 %\n"
     ]
    },
    {
     "name": "stderr",
     "output_type": "stream",
     "text": [
      " 53%|█████▎    | 16/30 [00:32<00:22,  1.59s/it]"
     ]
    },
    {
     "name": "stdout",
     "output_type": "stream",
     "text": [
      "Epoch:16 Train Loss: 0.5716 Train Accuracy: 96.3240 %\n",
      "Test Accuracy: 96.3290 %\n"
     ]
    },
    {
     "name": "stderr",
     "output_type": "stream",
     "text": [
      " 57%|█████▋    | 17/30 [00:34<00:20,  1.58s/it]"
     ]
    },
    {
     "name": "stdout",
     "output_type": "stream",
     "text": [
      "Epoch:17 Train Loss: 0.5916 Train Accuracy: 96.3296 %\n",
      "Test Accuracy: 96.3290 %\n"
     ]
    },
    {
     "name": "stderr",
     "output_type": "stream",
     "text": [
      " 60%|██████    | 18/30 [00:35<00:18,  1.58s/it]"
     ]
    },
    {
     "name": "stdout",
     "output_type": "stream",
     "text": [
      "Epoch:18 Train Loss: 0.5616 Train Accuracy: 96.3296 %\n",
      "Test Accuracy: 96.3290 %\n"
     ]
    },
    {
     "name": "stderr",
     "output_type": "stream",
     "text": [
      " 63%|██████▎   | 19/30 [00:37<00:17,  1.58s/it]"
     ]
    },
    {
     "name": "stdout",
     "output_type": "stream",
     "text": [
      "Epoch:19 Train Loss: 0.5916 Train Accuracy: 96.3352 %\n",
      "Test Accuracy: 96.3290 %\n"
     ]
    },
    {
     "name": "stderr",
     "output_type": "stream",
     "text": [
      " 67%|██████▋   | 20/30 [00:38<00:16,  1.62s/it]"
     ]
    },
    {
     "name": "stdout",
     "output_type": "stream",
     "text": [
      "Epoch:20 Train Loss: 0.6216 Train Accuracy: 96.3408 %\n",
      "Test Accuracy: 96.3290 %\n"
     ]
    },
    {
     "name": "stderr",
     "output_type": "stream",
     "text": [
      " 70%|███████   | 21/30 [00:40<00:14,  1.59s/it]"
     ]
    },
    {
     "name": "stdout",
     "output_type": "stream",
     "text": [
      "Epoch:21 Train Loss: 0.5916 Train Accuracy: 96.3408 %\n",
      "Test Accuracy: 96.3290 %\n"
     ]
    },
    {
     "name": "stderr",
     "output_type": "stream",
     "text": [
      " 73%|███████▎  | 22/30 [00:42<00:12,  1.59s/it]"
     ]
    },
    {
     "name": "stdout",
     "output_type": "stream",
     "text": [
      "Epoch:22 Train Loss: 0.6116 Train Accuracy: 96.3408 %\n",
      "Test Accuracy: 96.3290 %\n"
     ]
    },
    {
     "name": "stderr",
     "output_type": "stream",
     "text": [
      " 77%|███████▋  | 23/30 [00:43<00:10,  1.54s/it]"
     ]
    },
    {
     "name": "stdout",
     "output_type": "stream",
     "text": [
      "Epoch:23 Train Loss: 0.6018 Train Accuracy: 96.3408 %\n",
      "Test Accuracy: 96.3290 %\n"
     ]
    },
    {
     "name": "stderr",
     "output_type": "stream",
     "text": [
      " 80%|████████  | 24/30 [00:45<00:09,  1.60s/it]"
     ]
    },
    {
     "name": "stdout",
     "output_type": "stream",
     "text": [
      "Epoch:24 Train Loss: 0.6016 Train Accuracy: 96.3408 %\n",
      "Test Accuracy: 96.3290 %\n"
     ]
    },
    {
     "name": "stderr",
     "output_type": "stream",
     "text": [
      " 83%|████████▎ | 25/30 [00:46<00:07,  1.53s/it]"
     ]
    },
    {
     "name": "stdout",
     "output_type": "stream",
     "text": [
      "Epoch:25 Train Loss: 0.6016 Train Accuracy: 96.3408 %\n",
      "Test Accuracy: 96.3290 %\n"
     ]
    },
    {
     "name": "stderr",
     "output_type": "stream",
     "text": [
      " 87%|████████▋ | 26/30 [00:48<00:06,  1.54s/it]"
     ]
    },
    {
     "name": "stdout",
     "output_type": "stream",
     "text": [
      "Epoch:26 Train Loss: 0.5718 Train Accuracy: 96.3408 %\n",
      "Test Accuracy: 96.3290 %\n"
     ]
    },
    {
     "name": "stderr",
     "output_type": "stream",
     "text": [
      " 90%|█████████ | 27/30 [00:49<00:04,  1.53s/it]"
     ]
    },
    {
     "name": "stdout",
     "output_type": "stream",
     "text": [
      "Epoch:27 Train Loss: 0.5816 Train Accuracy: 96.3408 %\n",
      "Test Accuracy: 96.3290 %\n"
     ]
    },
    {
     "name": "stderr",
     "output_type": "stream",
     "text": [
      " 93%|█████████▎| 28/30 [00:51<00:03,  1.56s/it]"
     ]
    },
    {
     "name": "stdout",
     "output_type": "stream",
     "text": [
      "Epoch:28 Train Loss: 0.5616 Train Accuracy: 96.3408 %\n",
      "Test Accuracy: 96.3290 %\n"
     ]
    },
    {
     "name": "stderr",
     "output_type": "stream",
     "text": [
      " 97%|█████████▋| 29/30 [00:52<00:01,  1.56s/it]"
     ]
    },
    {
     "name": "stdout",
     "output_type": "stream",
     "text": [
      "Epoch:29 Train Loss: 0.5616 Train Accuracy: 96.3408 %\n",
      "Test Accuracy: 96.3290 %\n"
     ]
    },
    {
     "name": "stderr",
     "output_type": "stream",
     "text": [
      "100%|██████████| 30/30 [00:54<00:00,  1.82s/it]"
     ]
    },
    {
     "name": "stdout",
     "output_type": "stream",
     "text": [
      "Epoch:30 Train Loss: 0.5931 Train Accuracy: 96.3408 %\n",
      "Test Accuracy: 96.3290 %\n",
      "----------------------------------------------------\n",
      "Best Test Accuracy: 96.3630 %\n",
      "Best Loss: 0.5695\n"
     ]
    },
    {
     "name": "stderr",
     "output_type": "stream",
     "text": [
      "\n"
     ]
    }
   ],
   "source": [
    "# case0 training (all ideal)\n",
    "model_case0 = ThreeLayerANN()\n",
    "criterion = nn.CrossEntropyLoss()\n",
    "optimizer = torch.optim.Adam(model_case0.parameters(), lr=0.1)\n",
    "scheduler = StepLR(optimizer, step_size=5, gamma=0.1)\n",
    "model0, Loss0, Accuracy0 = train_model(model=model_case0, loader=mnist_loader, criterion=criterion, optimizer=optimizer, scheduler=scheduler, epochs=30, synapse=False, w_range=(-100, 100))\n",
    "\n",
    "best_acc = np.max(Accuracy0['test'])\n",
    "best_loss = np.min(Loss0['test'])\n",
    "print('----------------------------------------------------')\n",
    "print(f'Best Test Accuracy: {best_acc:4.4f} %')\n",
    "print(f'Best Loss: {best_loss:.4f}')\n",
    "# torch.save(model, 'model0.pth')"
   ]
  },
  {
   "cell_type": "code",
   "execution_count": 12,
   "metadata": {},
   "outputs": [
    {
     "data": {
      "image/png": "[encoded data removed]",
      "text/plain": [
       "<Figure size 640x480 with 1 Axes>"
      ]
     },
     "metadata": {},
     "output_type": "display_data"
    }
   ],
   "source": [
    "plt.figure()\n",
    "plt.plot(Loss0['train'], label='train')\n",
    "plt.plot(Loss0['test'], label='test')\n",
    "plt.xlabel('epoch')\n",
    "plt.ylabel('cross entropy loss')\n",
    "plt.title('Case 0')\n",
    "plt.legend()\n",
    "plt.show()"
   ]
  },
  {
   "cell_type": "code",
   "execution_count": 67,
   "metadata": {},
   "outputs": [
    {
     "name": "stdout",
     "output_type": "stream",
     "text": [
      "std: 2.725083\n",
      "mean: -0.24354552\n"
     ]
    },
    {
     "data": {
      "image/png": "[encoded data removed]",
      "text/plain": [
       "<Figure size 800x800 with 4 Axes>"
      ]
     },
     "metadata": {},
     "output_type": "display_data"
    }
   ],
   "source": [
    "l1_w = model0.layer1.weight.data.clone().detach().cpu().numpy().ravel()\n",
    "l1_b = model0.layer1.bias.data.clone().detach().cpu().numpy().ravel()\n",
    "l2_w = model0.layer2.weight.data.clone().detach().cpu().numpy().ravel()\n",
    "l2_b = model0.layer2.bias.data.clone().detach().cpu().numpy().ravel()\n",
    "l3_w = model0.layer3.weight.data.clone().detach().cpu().numpy().ravel()\n",
    "l3_b = model0.layer3.bias.data.clone().detach().cpu().numpy().ravel()\n",
    "all_w = np.concatenate((l1_w, l2_w, l3_w), axis=0)\n",
    "all_b = np.concatenate((l1_b, l2_b, l3_b), axis=0)\n",
    "print('std: '+str(np.std(all_w)))\n",
    "print('mean: '+str(np.mean(all_w)))\n",
    "\n",
    "plt.figure(figsize=(8, 8))\n",
    "ax = plt.subplot(221)\n",
    "ax.set_title('weight distribution')\n",
    "ax.set_xlabel('value')\n",
    "ax.set_ylabel('amount')\n",
    "plt.hist(all_w)\n",
    "\n",
    "ax = plt.subplot(222)\n",
    "ax.set_title('bias distribution')\n",
    "ax.set_xlabel('value')\n",
    "ax.set_ylabel('amount')\n",
    "plt.hist(all_b)\n",
    "\n",
    "ax = plt.subplot(223)\n",
    "ax.set_title('sorted weight value')\n",
    "ax.set_ylabel('value')\n",
    "ax.set_xlabel('number')\n",
    "plt.plot(np.sort(all_w), 'o', markersize=2)\n",
    "\n",
    "ax = plt.subplot(224)\n",
    "ax.set_title('sorted bias value')\n",
    "ax.set_ylabel('value')\n",
    "ax.set_xlabel('number')\n",
    "plt.plot(np.sort(all_b), 'o', markersize=2)\n",
    "\n",
    "plt.tight_layout()\n",
    "plt.show()"
   ]
  },
  {
   "cell_type": "markdown",
   "metadata": {},
   "source": [
    "# Case2 (fake weights)"
   ]
  },
  {
   "cell_type": "code",
   "execution_count": 14,
   "metadata": {},
   "outputs": [],
   "source": [
    "# case2 training (ideal activation function / extracted synapse weight)\n",
    "# using test weights ranging from (-2, 2) with 160 points uniform distributed\n",
    "# model_case2_t = ThreeLayerANN()\n",
    "# criterion = nn.CrossEntropyLoss()\n",
    "# optimizer = torch.optim.Adam(model_case2_t.parameters(), lr=0.1)\n",
    "# scheduler = CosineAnnealingLR(optimizer, T_max=20, eta_min=1e-7)\n",
    "# model2_t, Loss2_t, Accuracy2_t = train_model(model=model_case2_t, loader=mnist_loader, criterion=criterion, optimizer=optimizer, scheduler=scheduler, epochs=100, synapse=True, weight_file='./Synapse_weight/test_weight_160.npy', w_range=(-2, 2))\n",
    "\n",
    "# best_acc = np.max(Accuracy2_t['test'])\n",
    "# print('----------------------------------------------------')\n",
    "# print(f'Best Test Accuracy: {best_acc:4.4f} %')"
   ]
  },
  {
   "cell_type": "code",
   "execution_count": 15,
   "metadata": {},
   "outputs": [],
   "source": [
    "# plt.figure()\n",
    "# plt.plot(Loss2_t['train'], label='train')\n",
    "# plt.plot(Loss2_t['test'], label='test')\n",
    "# plt.legend()\n",
    "# plt.show()"
   ]
  },
  {
   "cell_type": "code",
   "execution_count": 16,
   "metadata": {},
   "outputs": [],
   "source": [
    "# l1_w = model2_t.layer1.weight.data.clone().detach().cpu().numpy().ravel()\n",
    "# l1_b = model2_t.layer1.bias.data.clone().detach().cpu().numpy().ravel()\n",
    "# l2_w = model2_t.layer2.weight.data.clone().detach().cpu().numpy().ravel()\n",
    "# l2_b = model2_t.layer2.bias.data.clone().detach().cpu().numpy().ravel()\n",
    "# l3_w = model2_t.layer3.weight.data.clone().detach().cpu().numpy().ravel()\n",
    "# l3_b = model2_t.layer3.bias.data.clone().detach().cpu().numpy().ravel()\n",
    "# all_w = np.concatenate((l1_w, l2_w, l3_w), axis=0)\n",
    "# all_b = np.concatenate((l1_b, l2_b, l3_b), axis=0)\n",
    "\n",
    "# plt.figure(figsize=(10, 10))\n",
    "# ax = plt.subplot(221)\n",
    "# ax.set_title('weight distribution')\n",
    "# plt.hist(all_w)\n",
    "\n",
    "# ax = plt.subplot(222)\n",
    "# ax.set_title('bias distribution')\n",
    "# plt.hist(all_b)\n",
    "\n",
    "# ax = plt.subplot(223)\n",
    "# ax.set_title('sorted weight value')\n",
    "# plt.plot(np.sort(all_w), 'o', markersize=2)\n",
    "\n",
    "# ax = plt.subplot(224)\n",
    "# ax.set_title('sorted bias value')\n",
    "# plt.plot(np.sort(all_b), 'o', markersize=2)\n",
    "\n",
    "# plt.show()"
   ]
  },
  {
   "cell_type": "code",
   "execution_count": 17,
   "metadata": {},
   "outputs": [],
   "source": [
    "# 檢查權重是否有成功被限制\n",
    "def is_subset(array1, array2):\n",
    "    \"\"\"\n",
    "    判斷array1是否為array2的子集\n",
    "    \"\"\"\n",
    "    set1 = set(array1)\n",
    "    set2 = set(array2)\n",
    "    return set1.issubset(set2)\n",
    "\n",
    "# np.set_printoptions(threshold=np.inf)\n",
    "\n",
    "# synapse_weight = np.load('Synapse_weight/test_weight_160.npy').astype(float).round(4)\n",
    "# layer1_weight = model2_t.layer1.weight.data.detach().clone().cpu().numpy().reshape(-1).astype(float).round(4)\n",
    "# layer1_bias = model2_t.layer1.bias.data.detach().clone().cpu().numpy().reshape(-1).astype(float).round(4)\n",
    "# # print(synapse_weight.round(4).astype(float))\n",
    "# # print(layer1_weight.round(4).astype(float))\n",
    "\n",
    "# print(is_subset(layer1_weight, synapse_weight))\n",
    "# print(is_subset(layer1_bias, synapse_weight))\n",
    "# # print(np.isin(layer1_weight, synapse_weight))"
   ]
  },
  {
   "cell_type": "markdown",
   "metadata": {},
   "source": [
    "# Case2 (Our 3 period data)"
   ]
  },
  {
   "cell_type": "code",
   "execution_count": 100,
   "metadata": {},
   "outputs": [
    {
     "name": "stderr",
     "output_type": "stream",
     "text": [
      "  3%|▎         | 1/30 [00:03<01:30,  3.11s/it]"
     ]
    },
    {
     "name": "stdout",
     "output_type": "stream",
     "text": [
      "Epoch: 1 Train Loss: 0.7741 Train Accuracy: 84.0279 %\n",
      "Test Accuracy: 92.2842 %\n"
     ]
    },
    {
     "name": "stderr",
     "output_type": "stream",
     "text": [
      "  7%|▋         | 2/30 [00:05<01:17,  2.75s/it]"
     ]
    },
    {
     "name": "stdout",
     "output_type": "stream",
     "text": [
      "Epoch: 2 Train Loss: 0.7657 Train Accuracy: 92.5922 %\n",
      "Test Accuracy: 93.2359 %\n"
     ]
    },
    {
     "name": "stderr",
     "output_type": "stream",
     "text": [
      " 10%|█         | 3/30 [00:07<01:09,  2.56s/it]"
     ]
    },
    {
     "name": "stdout",
     "output_type": "stream",
     "text": [
      "Epoch: 3 Train Loss: 0.7422 Train Accuracy: 93.2291 %\n",
      "Test Accuracy: 93.6778 %\n"
     ]
    },
    {
     "name": "stderr",
     "output_type": "stream",
     "text": [
      " 13%|█▎        | 4/30 [00:10<01:03,  2.46s/it]"
     ]
    },
    {
     "name": "stdout",
     "output_type": "stream",
     "text": [
      "Epoch: 4 Train Loss: 0.7480 Train Accuracy: 93.7654 %\n",
      "Test Accuracy: 93.8477 %\n"
     ]
    },
    {
     "name": "stderr",
     "output_type": "stream",
     "text": [
      " 17%|█▋        | 5/30 [00:12<00:58,  2.34s/it]"
     ]
    },
    {
     "name": "stdout",
     "output_type": "stream",
     "text": [
      "Epoch: 5 Train Loss: 0.7432 Train Accuracy: 94.0223 %\n",
      "Test Accuracy: 94.1196 %\n"
     ]
    },
    {
     "name": "stderr",
     "output_type": "stream",
     "text": [
      " 20%|██        | 6/30 [00:14<00:54,  2.29s/it]"
     ]
    },
    {
     "name": "stdout",
     "output_type": "stream",
     "text": [
      "Epoch: 6 Train Loss: 0.7614 Train Accuracy: 94.1397 %\n",
      "Test Accuracy: 94.1196 %\n"
     ]
    },
    {
     "name": "stderr",
     "output_type": "stream",
     "text": [
      " 23%|██▎       | 7/30 [00:16<00:50,  2.21s/it]"
     ]
    },
    {
     "name": "stdout",
     "output_type": "stream",
     "text": [
      "Epoch: 7 Train Loss: 0.7487 Train Accuracy: 94.2346 %\n",
      "Test Accuracy: 94.1536 %\n"
     ]
    },
    {
     "name": "stderr",
     "output_type": "stream",
     "text": [
      " 27%|██▋       | 8/30 [00:18<00:47,  2.17s/it]"
     ]
    },
    {
     "name": "stdout",
     "output_type": "stream",
     "text": [
      "Epoch: 8 Train Loss: 0.7456 Train Accuracy: 94.2626 %\n",
      "Test Accuracy: 94.1536 %\n"
     ]
    },
    {
     "name": "stderr",
     "output_type": "stream",
     "text": [
      " 30%|███       | 9/30 [00:20<00:45,  2.18s/it]"
     ]
    },
    {
     "name": "stdout",
     "output_type": "stream",
     "text": [
      "Epoch: 9 Train Loss: 0.7335 Train Accuracy: 94.2793 %\n",
      "Test Accuracy: 94.1536 %\n"
     ]
    },
    {
     "name": "stderr",
     "output_type": "stream",
     "text": [
      " 33%|███▎      | 10/30 [00:22<00:42,  2.15s/it]"
     ]
    },
    {
     "name": "stdout",
     "output_type": "stream",
     "text": [
      "Epoch:10 Train Loss: 0.7675 Train Accuracy: 94.2793 %\n",
      "Test Accuracy: 94.1536 %\n"
     ]
    },
    {
     "name": "stderr",
     "output_type": "stream",
     "text": [
      " 37%|███▋      | 11/30 [00:25<00:41,  2.17s/it]"
     ]
    },
    {
     "name": "stdout",
     "output_type": "stream",
     "text": [
      "Epoch:11 Train Loss: 0.7192 Train Accuracy: 94.2849 %\n",
      "Test Accuracy: 94.1536 %\n"
     ]
    },
    {
     "name": "stderr",
     "output_type": "stream",
     "text": [
      " 40%|████      | 12/30 [00:27<00:38,  2.13s/it]"
     ]
    },
    {
     "name": "stdout",
     "output_type": "stream",
     "text": [
      "Epoch:12 Train Loss: 0.7369 Train Accuracy: 94.2849 %\n",
      "Test Accuracy: 94.1536 %\n"
     ]
    },
    {
     "name": "stderr",
     "output_type": "stream",
     "text": [
      " 43%|████▎     | 13/30 [00:29<00:36,  2.16s/it]"
     ]
    },
    {
     "name": "stdout",
     "output_type": "stream",
     "text": [
      "Epoch:13 Train Loss: 0.7760 Train Accuracy: 94.2849 %\n",
      "Test Accuracy: 94.1536 %\n"
     ]
    },
    {
     "name": "stderr",
     "output_type": "stream",
     "text": [
      " 47%|████▋     | 14/30 [00:31<00:34,  2.15s/it]"
     ]
    },
    {
     "name": "stdout",
     "output_type": "stream",
     "text": [
      "Epoch:14 Train Loss: 0.7453 Train Accuracy: 94.2849 %\n",
      "Test Accuracy: 94.1536 %\n"
     ]
    },
    {
     "name": "stderr",
     "output_type": "stream",
     "text": [
      " 50%|█████     | 15/30 [00:33<00:31,  2.13s/it]"
     ]
    },
    {
     "name": "stdout",
     "output_type": "stream",
     "text": [
      "Epoch:15 Train Loss: 0.7227 Train Accuracy: 94.2849 %\n",
      "Test Accuracy: 94.1536 %\n"
     ]
    },
    {
     "name": "stderr",
     "output_type": "stream",
     "text": [
      " 53%|█████▎    | 16/30 [00:35<00:30,  2.14s/it]"
     ]
    },
    {
     "name": "stdout",
     "output_type": "stream",
     "text": [
      "Epoch:16 Train Loss: 0.7461 Train Accuracy: 94.2849 %\n",
      "Test Accuracy: 94.1536 %\n"
     ]
    },
    {
     "name": "stderr",
     "output_type": "stream",
     "text": [
      " 57%|█████▋    | 17/30 [00:37<00:27,  2.15s/it]"
     ]
    },
    {
     "name": "stdout",
     "output_type": "stream",
     "text": [
      "Epoch:17 Train Loss: 0.7227 Train Accuracy: 94.2849 %\n",
      "Test Accuracy: 94.1536 %\n"
     ]
    },
    {
     "name": "stderr",
     "output_type": "stream",
     "text": [
      " 60%|██████    | 18/30 [00:40<00:26,  2.17s/it]"
     ]
    },
    {
     "name": "stdout",
     "output_type": "stream",
     "text": [
      "Epoch:18 Train Loss: 0.7100 Train Accuracy: 94.2849 %\n",
      "Test Accuracy: 94.1536 %\n"
     ]
    },
    {
     "name": "stderr",
     "output_type": "stream",
     "text": [
      " 63%|██████▎   | 19/30 [00:42<00:23,  2.16s/it]"
     ]
    },
    {
     "name": "stdout",
     "output_type": "stream",
     "text": [
      "Epoch:19 Train Loss: 0.7520 Train Accuracy: 94.2849 %\n",
      "Test Accuracy: 94.1536 %\n"
     ]
    },
    {
     "name": "stderr",
     "output_type": "stream",
     "text": [
      " 67%|██████▋   | 20/30 [00:44<00:22,  2.29s/it]"
     ]
    },
    {
     "name": "stdout",
     "output_type": "stream",
     "text": [
      "Epoch:20 Train Loss: 0.7520 Train Accuracy: 94.2849 %\n",
      "Test Accuracy: 94.1536 %\n"
     ]
    },
    {
     "name": "stderr",
     "output_type": "stream",
     "text": [
      " 70%|███████   | 21/30 [00:47<00:20,  2.31s/it]"
     ]
    },
    {
     "name": "stdout",
     "output_type": "stream",
     "text": [
      "Epoch:21 Train Loss: 0.7522 Train Accuracy: 94.2849 %\n",
      "Test Accuracy: 94.1536 %\n"
     ]
    },
    {
     "name": "stderr",
     "output_type": "stream",
     "text": [
      " 73%|███████▎  | 22/30 [00:49<00:17,  2.24s/it]"
     ]
    },
    {
     "name": "stdout",
     "output_type": "stream",
     "text": [
      "Epoch:22 Train Loss: 0.7651 Train Accuracy: 94.2849 %\n",
      "Test Accuracy: 94.1536 %\n"
     ]
    },
    {
     "name": "stderr",
     "output_type": "stream",
     "text": [
      " 77%|███████▋  | 23/30 [00:51<00:15,  2.22s/it]"
     ]
    },
    {
     "name": "stdout",
     "output_type": "stream",
     "text": [
      "Epoch:23 Train Loss: 0.7588 Train Accuracy: 94.2849 %\n",
      "Test Accuracy: 94.1536 %\n"
     ]
    },
    {
     "name": "stderr",
     "output_type": "stream",
     "text": [
      " 80%|████████  | 24/30 [00:53<00:13,  2.21s/it]"
     ]
    },
    {
     "name": "stdout",
     "output_type": "stream",
     "text": [
      "Epoch:24 Train Loss: 0.7525 Train Accuracy: 94.2849 %\n",
      "Test Accuracy: 94.1536 %\n"
     ]
    },
    {
     "name": "stderr",
     "output_type": "stream",
     "text": [
      " 83%|████████▎ | 25/30 [00:56<00:11,  2.25s/it]"
     ]
    },
    {
     "name": "stdout",
     "output_type": "stream",
     "text": [
      "Epoch:25 Train Loss: 0.7606 Train Accuracy: 94.2849 %\n",
      "Test Accuracy: 94.1536 %\n"
     ]
    },
    {
     "name": "stderr",
     "output_type": "stream",
     "text": [
      " 87%|████████▋ | 26/30 [00:58<00:08,  2.19s/it]"
     ]
    },
    {
     "name": "stdout",
     "output_type": "stream",
     "text": [
      "Epoch:26 Train Loss: 0.7273 Train Accuracy: 94.2849 %\n",
      "Test Accuracy: 94.1536 %\n"
     ]
    },
    {
     "name": "stderr",
     "output_type": "stream",
     "text": [
      " 90%|█████████ | 27/30 [01:00<00:06,  2.19s/it]"
     ]
    },
    {
     "name": "stdout",
     "output_type": "stream",
     "text": [
      "Epoch:27 Train Loss: 0.7665 Train Accuracy: 94.2849 %\n",
      "Test Accuracy: 94.1536 %\n"
     ]
    },
    {
     "name": "stderr",
     "output_type": "stream",
     "text": [
      " 93%|█████████▎| 28/30 [01:02<00:04,  2.16s/it]"
     ]
    },
    {
     "name": "stdout",
     "output_type": "stream",
     "text": [
      "Epoch:28 Train Loss: 0.7585 Train Accuracy: 94.2849 %\n",
      "Test Accuracy: 94.1536 %\n"
     ]
    },
    {
     "name": "stderr",
     "output_type": "stream",
     "text": [
      " 97%|█████████▋| 29/30 [01:04<00:02,  2.14s/it]"
     ]
    },
    {
     "name": "stdout",
     "output_type": "stream",
     "text": [
      "Epoch:29 Train Loss: 0.7441 Train Accuracy: 94.2849 %\n",
      "Test Accuracy: 94.1536 %\n"
     ]
    },
    {
     "name": "stderr",
     "output_type": "stream",
     "text": [
      "100%|██████████| 30/30 [01:06<00:00,  2.23s/it]"
     ]
    },
    {
     "name": "stdout",
     "output_type": "stream",
     "text": [
      "Epoch:30 Train Loss: 0.7274 Train Accuracy: 94.2849 %\n",
      "Test Accuracy: 94.1536 %\n"
     ]
    },
    {
     "name": "stderr",
     "output_type": "stream",
     "text": [
      "\n"
     ]
    },
    {
     "name": "stdout",
     "output_type": "stream",
     "text": [
      "----------------------------------------------------\n",
      "Best Test Accuracy: 94.1536 %\n",
      "Best Loss: 0.7280\n"
     ]
    }
   ],
   "source": [
    "# case2 training (ideal activation function / extracted synapse weight)\n",
    "# training with our weights\n",
    "model_case2 = ThreeLayerANN()\n",
    "criterion = nn.CrossEntropyLoss()\n",
    "optimizer = torch.optim.Adam(model_case2.parameters(), lr=1e-1)\n",
    "scheduler = StepLR(optimizer, step_size=5, gamma=0.1)\n",
    "model2, Loss2, Accuracy2 = train_model(model=model_case2, loader=mnist_loader, criterion=criterion, optimizer=optimizer, scheduler=scheduler, epochs=30, synapse=True, weight_file='./Synapse_weight/weight1_3period_range6.npy', w_range=(-6, 6))\n",
    "\n",
    "best_acc = np.max(Accuracy2['test'])\n",
    "best_loss = np.min(Loss2['test'])\n",
    "print('----------------------------------------------------')\n",
    "print(f'Best Test Accuracy: {best_acc:4.4f} %')\n",
    "print(f'Best Loss: {best_loss:.4f}')"
   ]
  },
  {
   "cell_type": "code",
   "execution_count": 101,
   "metadata": {},
   "outputs": [
    {
     "data": {
      "image/png": "[encoded data removed]",
      "text/plain": [
       "<Figure size 640x480 with 1 Axes>"
      ]
     },
     "metadata": {},
     "output_type": "display_data"
    }
   ],
   "source": [
    "plt.figure()\n",
    "plt.plot(Loss2['train'], label='train')\n",
    "plt.plot(Loss2['test'], label='test')\n",
    "plt.xlabel('epoch')\n",
    "plt.ylabel('cross entropy loss')\n",
    "plt.title('Case 2')\n",
    "plt.legend()\n",
    "plt.show()"
   ]
  },
  {
   "cell_type": "code",
   "execution_count": 102,
   "metadata": {},
   "outputs": [
    {
     "name": "stdout",
     "output_type": "stream",
     "text": [
      "std: 1.1820365\n",
      "mean: -0.023366077\n"
     ]
    },
    {
     "data": {
      "image/png": "[encoded data removed]",
      "text/plain": [
       "<Figure size 800x800 with 4 Axes>"
      ]
     },
     "metadata": {},
     "output_type": "display_data"
    }
   ],
   "source": [
    "l1_w = model2.layer1.weight.data.clone().detach().cpu().numpy().ravel()\n",
    "l1_b = model2.layer1.bias.data.clone().detach().cpu().numpy().ravel()\n",
    "l2_w = model2.layer2.weight.data.clone().detach().cpu().numpy().ravel()\n",
    "l2_b = model2.layer2.bias.data.clone().detach().cpu().numpy().ravel()\n",
    "l3_w = model2.layer3.weight.data.clone().detach().cpu().numpy().ravel()\n",
    "l3_b = model2.layer3.bias.data.clone().detach().cpu().numpy().ravel()\n",
    "all_w = np.concatenate((l1_w, l2_w, l3_w), axis=0)\n",
    "all_b = np.concatenate((l1_b, l2_b, l3_b), axis=0)\n",
    "print('std: '+str(np.std(all_w)))\n",
    "print('mean: '+str(np.mean(all_w)))\n",
    "\n",
    "plt.figure(figsize=(8, 8))\n",
    "ax = plt.subplot(221)\n",
    "ax.set_title('weight distribution')\n",
    "ax.set_xlabel('value')\n",
    "ax.set_ylabel('amount')\n",
    "plt.hist(all_w)\n",
    "\n",
    "ax = plt.subplot(222)\n",
    "ax.set_title('bias distribution')\n",
    "ax.set_xlabel('value')\n",
    "ax.set_ylabel('amount')\n",
    "plt.hist(all_b)\n",
    "\n",
    "ax = plt.subplot(223)\n",
    "ax.set_title('sorted weight value')\n",
    "ax.set_ylabel('value')\n",
    "ax.set_xlabel('number')\n",
    "plt.plot(np.sort(all_w), 'o', markersize=2)\n",
    "\n",
    "ax = plt.subplot(224)\n",
    "ax.set_title('sorted bias value')\n",
    "ax.set_ylabel('value')\n",
    "ax.set_xlabel('number')\n",
    "plt.plot(np.sort(all_b), 'o', markersize=2)\n",
    "\n",
    "plt.tight_layout()\n",
    "plt.show()"
   ]
  },
  {
   "cell_type": "code",
   "execution_count": 103,
   "metadata": {},
   "outputs": [
    {
     "name": "stdout",
     "output_type": "stream",
     "text": [
      "L1_w: True\n",
      "L1_b: True\n",
      "L2_w: True\n",
      "L2_b: True\n",
      "L3_w: True\n",
      "L3_b: True\n"
     ]
    }
   ],
   "source": [
    "# 檢查權重是否有成功被限制\n",
    "def is_subset(array1, array2):\n",
    "    \"\"\"\n",
    "    判斷array1是否為array2的子集\n",
    "    \"\"\"\n",
    "    set1 = set(array1)\n",
    "    set2 = set(array2)\n",
    "    return set1.issubset(set2)\n",
    "\n",
    "# 載入 synapse weights\n",
    "synapse_weight = np.load('Synapse_weight/weight1_3period_range6.npy').astype(float).round(4)\n",
    "\n",
    "# 取出 trained model 各層 params\n",
    "layer1_weight = model2.layer1.weight.data.detach().clone().cpu().numpy().reshape(-1).astype(float).round(4)\n",
    "layer1_bias = model2.layer1.bias.data.detach().clone().cpu().numpy().reshape(-1).astype(float).round(4)\n",
    "layer2_weight = model2.layer2.weight.data.detach().clone().cpu().numpy().reshape(-1).astype(float).round(4)\n",
    "layer2_bias = model2.layer2.bias.data.detach().clone().cpu().numpy().reshape(-1).astype(float).round(4)\n",
    "layer3_weight = model2.layer3.weight.data.detach().clone().cpu().numpy().reshape(-1).astype(float).round(4)\n",
    "layer3_bias = model2.layer3.bias.data.detach().clone().cpu().numpy().reshape(-1).astype(float).round(4)\n",
    "\n",
    "# 檢查各層 params 是否為 synapse weights 的子集\n",
    "print('L1_w: '+str(is_subset(layer1_weight, synapse_weight)))\n",
    "print('L1_b: '+str(is_subset(layer1_bias, synapse_weight)))\n",
    "print('L2_w: '+str(is_subset(layer2_weight, synapse_weight)))\n",
    "print('L2_b: '+str(is_subset(layer2_bias, synapse_weight)))\n",
    "print('L3_w: '+str(is_subset(layer3_weight, synapse_weight)))\n",
    "print('L3_b: '+str(is_subset(layer3_bias, synapse_weight)))"
   ]
  },
  {
   "attachments": {},
   "cell_type": "markdown",
   "metadata": {},
   "source": [
    "# Case2 (interp)"
   ]
  },
  {
   "cell_type": "code",
   "execution_count": 13,
   "metadata": {},
   "outputs": [
    {
     "name": "stderr",
     "output_type": "stream",
     "text": [
      "  3%|▎         | 1/30 [00:01<00:49,  1.72s/it]"
     ]
    },
    {
     "name": "stdout",
     "output_type": "stream",
     "text": [
      "Epoch: 1 Train Loss: 0.6752 Train Accuracy: 86.9218 %\n",
      "Test Accuracy: 94.6295 %\n"
     ]
    },
    {
     "name": "stderr",
     "output_type": "stream",
     "text": [
      "  7%|▋         | 2/30 [00:03<00:47,  1.71s/it]"
     ]
    },
    {
     "name": "stdout",
     "output_type": "stream",
     "text": [
      "Epoch: 2 Train Loss: 0.6435 Train Accuracy: 94.9162 %\n",
      "Test Accuracy: 95.2753 %\n"
     ]
    },
    {
     "name": "stderr",
     "output_type": "stream",
     "text": [
      " 10%|█         | 3/30 [00:05<00:45,  1.67s/it]"
     ]
    },
    {
     "name": "stdout",
     "output_type": "stream",
     "text": [
      "Epoch: 3 Train Loss: 0.6344 Train Accuracy: 95.2626 %\n",
      "Test Accuracy: 95.4793 %\n"
     ]
    },
    {
     "name": "stderr",
     "output_type": "stream",
     "text": [
      " 13%|█▎        | 4/30 [00:06<00:43,  1.66s/it]"
     ]
    },
    {
     "name": "stdout",
     "output_type": "stream",
     "text": [
      "Epoch: 4 Train Loss: 0.6168 Train Accuracy: 95.3073 %\n",
      "Test Accuracy: 95.5133 %\n"
     ]
    },
    {
     "name": "stderr",
     "output_type": "stream",
     "text": [
      " 17%|█▋        | 5/30 [00:08<00:42,  1.71s/it]"
     ]
    },
    {
     "name": "stdout",
     "output_type": "stream",
     "text": [
      "Epoch: 5 Train Loss: 0.6297 Train Accuracy: 95.7765 %\n",
      "Test Accuracy: 95.9211 %\n"
     ]
    },
    {
     "name": "stderr",
     "output_type": "stream",
     "text": [
      " 20%|██        | 6/30 [00:10<00:41,  1.72s/it]"
     ]
    },
    {
     "name": "stdout",
     "output_type": "stream",
     "text": [
      "Epoch: 6 Train Loss: 0.6228 Train Accuracy: 95.9944 %\n",
      "Test Accuracy: 95.9211 %\n"
     ]
    },
    {
     "name": "stderr",
     "output_type": "stream",
     "text": [
      " 23%|██▎       | 7/30 [00:12<00:40,  1.77s/it]"
     ]
    },
    {
     "name": "stdout",
     "output_type": "stream",
     "text": [
      "Epoch: 7 Train Loss: 0.6514 Train Accuracy: 95.9777 %\n",
      "Test Accuracy: 95.9211 %\n"
     ]
    },
    {
     "name": "stderr",
     "output_type": "stream",
     "text": [
      " 27%|██▋       | 8/30 [00:13<00:39,  1.78s/it]"
     ]
    },
    {
     "name": "stdout",
     "output_type": "stream",
     "text": [
      "Epoch: 8 Train Loss: 0.6172 Train Accuracy: 96.0000 %\n",
      "Test Accuracy: 95.9211 %\n"
     ]
    },
    {
     "name": "stderr",
     "output_type": "stream",
     "text": [
      " 30%|███       | 9/30 [00:15<00:36,  1.76s/it]"
     ]
    },
    {
     "name": "stdout",
     "output_type": "stream",
     "text": [
      "Epoch: 9 Train Loss: 0.6390 Train Accuracy: 95.9944 %\n",
      "Test Accuracy: 95.8872 %\n"
     ]
    },
    {
     "name": "stderr",
     "output_type": "stream",
     "text": [
      " 33%|███▎      | 10/30 [00:17<00:35,  1.77s/it]"
     ]
    },
    {
     "name": "stdout",
     "output_type": "stream",
     "text": [
      "Epoch:10 Train Loss: 0.6057 Train Accuracy: 96.0000 %\n",
      "Test Accuracy: 95.8872 %\n"
     ]
    },
    {
     "name": "stderr",
     "output_type": "stream",
     "text": [
      " 37%|███▋      | 11/30 [00:19<00:33,  1.79s/it]"
     ]
    },
    {
     "name": "stdout",
     "output_type": "stream",
     "text": [
      "Epoch:11 Train Loss: 0.6423 Train Accuracy: 96.0112 %\n",
      "Test Accuracy: 95.8872 %\n"
     ]
    },
    {
     "name": "stderr",
     "output_type": "stream",
     "text": [
      " 40%|████      | 12/30 [00:21<00:32,  1.78s/it]"
     ]
    },
    {
     "name": "stdout",
     "output_type": "stream",
     "text": [
      "Epoch:12 Train Loss: 0.6438 Train Accuracy: 96.0112 %\n",
      "Test Accuracy: 95.8872 %\n"
     ]
    },
    {
     "name": "stderr",
     "output_type": "stream",
     "text": [
      " 43%|████▎     | 13/30 [00:22<00:31,  1.84s/it]"
     ]
    },
    {
     "name": "stdout",
     "output_type": "stream",
     "text": [
      "Epoch:13 Train Loss: 0.6338 Train Accuracy: 96.0112 %\n",
      "Test Accuracy: 95.8872 %\n"
     ]
    },
    {
     "name": "stderr",
     "output_type": "stream",
     "text": [
      " 47%|████▋     | 14/30 [00:25<00:32,  2.01s/it]"
     ]
    },
    {
     "name": "stdout",
     "output_type": "stream",
     "text": [
      "Epoch:14 Train Loss: 0.6258 Train Accuracy: 96.0112 %\n",
      "Test Accuracy: 95.8872 %\n"
     ]
    },
    {
     "name": "stderr",
     "output_type": "stream",
     "text": [
      " 50%|█████     | 15/30 [00:27<00:29,  1.96s/it]"
     ]
    },
    {
     "name": "stdout",
     "output_type": "stream",
     "text": [
      "Epoch:15 Train Loss: 0.6157 Train Accuracy: 96.0112 %\n",
      "Test Accuracy: 95.8872 %\n"
     ]
    },
    {
     "name": "stderr",
     "output_type": "stream",
     "text": [
      " 53%|█████▎    | 16/30 [00:29<00:26,  1.91s/it]"
     ]
    },
    {
     "name": "stdout",
     "output_type": "stream",
     "text": [
      "Epoch:16 Train Loss: 0.6149 Train Accuracy: 96.0112 %\n",
      "Test Accuracy: 95.8872 %\n"
     ]
    },
    {
     "name": "stderr",
     "output_type": "stream",
     "text": [
      " 57%|█████▋    | 17/30 [00:30<00:24,  1.91s/it]"
     ]
    },
    {
     "name": "stdout",
     "output_type": "stream",
     "text": [
      "Epoch:17 Train Loss: 0.6400 Train Accuracy: 96.0112 %\n",
      "Test Accuracy: 95.8872 %\n"
     ]
    },
    {
     "name": "stderr",
     "output_type": "stream",
     "text": [
      " 60%|██████    | 18/30 [00:33<00:23,  1.96s/it]"
     ]
    },
    {
     "name": "stdout",
     "output_type": "stream",
     "text": [
      "Epoch:18 Train Loss: 0.6014 Train Accuracy: 96.0112 %\n",
      "Test Accuracy: 95.8872 %\n"
     ]
    },
    {
     "name": "stderr",
     "output_type": "stream",
     "text": [
      " 63%|██████▎   | 19/30 [00:35<00:21,  1.99s/it]"
     ]
    },
    {
     "name": "stdout",
     "output_type": "stream",
     "text": [
      "Epoch:19 Train Loss: 0.6304 Train Accuracy: 96.0112 %\n",
      "Test Accuracy: 95.8872 %\n"
     ]
    },
    {
     "name": "stderr",
     "output_type": "stream",
     "text": [
      " 67%|██████▋   | 20/30 [00:37<00:20,  2.06s/it]"
     ]
    },
    {
     "name": "stdout",
     "output_type": "stream",
     "text": [
      "Epoch:20 Train Loss: 0.6073 Train Accuracy: 96.0112 %\n",
      "Test Accuracy: 95.8872 %\n"
     ]
    },
    {
     "name": "stderr",
     "output_type": "stream",
     "text": [
      " 70%|███████   | 21/30 [00:39<00:19,  2.12s/it]"
     ]
    },
    {
     "name": "stdout",
     "output_type": "stream",
     "text": [
      "Epoch:21 Train Loss: 0.6593 Train Accuracy: 96.0112 %\n",
      "Test Accuracy: 95.8872 %\n"
     ]
    },
    {
     "name": "stderr",
     "output_type": "stream",
     "text": [
      " 73%|███████▎  | 22/30 [00:41<00:16,  2.04s/it]"
     ]
    },
    {
     "name": "stdout",
     "output_type": "stream",
     "text": [
      "Epoch:22 Train Loss: 0.6195 Train Accuracy: 96.0112 %\n",
      "Test Accuracy: 95.8872 %\n"
     ]
    },
    {
     "name": "stderr",
     "output_type": "stream",
     "text": [
      " 77%|███████▋  | 23/30 [00:43<00:14,  2.01s/it]"
     ]
    },
    {
     "name": "stdout",
     "output_type": "stream",
     "text": [
      "Epoch:23 Train Loss: 0.6356 Train Accuracy: 96.0112 %\n",
      "Test Accuracy: 95.8872 %\n"
     ]
    },
    {
     "name": "stderr",
     "output_type": "stream",
     "text": [
      " 80%|████████  | 24/30 [00:45<00:11,  1.99s/it]"
     ]
    },
    {
     "name": "stdout",
     "output_type": "stream",
     "text": [
      "Epoch:24 Train Loss: 0.6252 Train Accuracy: 96.0112 %\n",
      "Test Accuracy: 95.8872 %\n"
     ]
    },
    {
     "name": "stderr",
     "output_type": "stream",
     "text": [
      " 83%|████████▎ | 25/30 [00:47<00:10,  2.01s/it]"
     ]
    },
    {
     "name": "stdout",
     "output_type": "stream",
     "text": [
      "Epoch:25 Train Loss: 0.6155 Train Accuracy: 96.0112 %\n",
      "Test Accuracy: 95.8872 %\n"
     ]
    },
    {
     "name": "stderr",
     "output_type": "stream",
     "text": [
      " 87%|████████▋ | 26/30 [00:49<00:07,  1.99s/it]"
     ]
    },
    {
     "name": "stdout",
     "output_type": "stream",
     "text": [
      "Epoch:26 Train Loss: 0.6215 Train Accuracy: 96.0112 %\n",
      "Test Accuracy: 95.8872 %\n"
     ]
    },
    {
     "name": "stderr",
     "output_type": "stream",
     "text": [
      " 90%|█████████ | 27/30 [00:51<00:05,  1.94s/it]"
     ]
    },
    {
     "name": "stdout",
     "output_type": "stream",
     "text": [
      "Epoch:27 Train Loss: 0.6519 Train Accuracy: 96.0112 %\n",
      "Test Accuracy: 95.8872 %\n"
     ]
    },
    {
     "name": "stderr",
     "output_type": "stream",
     "text": [
      " 93%|█████████▎| 28/30 [00:53<00:03,  1.96s/it]"
     ]
    },
    {
     "name": "stdout",
     "output_type": "stream",
     "text": [
      "Epoch:28 Train Loss: 0.6198 Train Accuracy: 96.0112 %\n",
      "Test Accuracy: 95.8872 %\n"
     ]
    },
    {
     "name": "stderr",
     "output_type": "stream",
     "text": [
      " 97%|█████████▋| 29/30 [00:55<00:01,  1.94s/it]"
     ]
    },
    {
     "name": "stdout",
     "output_type": "stream",
     "text": [
      "Epoch:29 Train Loss: 0.6684 Train Accuracy: 96.0112 %\n",
      "Test Accuracy: 95.8872 %\n"
     ]
    },
    {
     "name": "stderr",
     "output_type": "stream",
     "text": [
      "100%|██████████| 30/30 [00:56<00:00,  1.90s/it]"
     ]
    },
    {
     "name": "stdout",
     "output_type": "stream",
     "text": [
      "Epoch:30 Train Loss: 0.6857 Train Accuracy: 96.0112 %\n",
      "Test Accuracy: 95.8872 %\n",
      "----------------------------------------------------\n",
      "Best Test Accuracy: 95.9211 %\n",
      "Best Loss: 0.6185\n"
     ]
    },
    {
     "name": "stderr",
     "output_type": "stream",
     "text": [
      "\n"
     ]
    }
   ],
   "source": [
    "# case2 training (ideal activation function / extracted synapse weight)\n",
    "# training with our weights\n",
    "model_case2_int = ThreeLayerANN()\n",
    "criterion = nn.CrossEntropyLoss()\n",
    "optimizer = torch.optim.Adam(model_case2_int.parameters(), lr=1e-1)\n",
    "scheduler = StepLR(optimizer, step_size=5, gamma=0.1)\n",
    "model2, Loss2, Accuracy2 = train_model(model=model_case2_int, loader=mnist_loader, criterion=criterion, optimizer=optimizer, scheduler=scheduler, epochs=30, synapse=True, weight_file='./Synapse_weight/weight1_3period_interp_range6.npy', w_range=(-6, 6))\n",
    "\n",
    "best_acc = np.max(Accuracy2['test'])\n",
    "best_loss = np.min(Loss2['test'])\n",
    "print('----------------------------------------------------')\n",
    "print(f'Best Test Accuracy: {best_acc:4.4f} %')\n",
    "print(f'Best Loss: {best_loss:.4f}')"
   ]
  },
  {
   "cell_type": "code",
   "execution_count": 14,
   "metadata": {},
   "outputs": [
    {
     "data": {
      "image/png": "[encoded data removed]",
      "text/plain": [
       "<Figure size 640x480 with 1 Axes>"
      ]
     },
     "metadata": {},
     "output_type": "display_data"
    }
   ],
   "source": [
    "plt.figure()\n",
    "plt.plot(Loss2['train'], label='train')\n",
    "plt.plot(Loss2['test'], label='test')\n",
    "plt.xlabel('epoch')\n",
    "plt.ylabel('cross entropy loss')\n",
    "plt.title('Case 2')\n",
    "plt.legend()\n",
    "plt.show()"
   ]
  },
  {
   "cell_type": "code",
   "execution_count": 15,
   "metadata": {},
   "outputs": [
    {
     "name": "stdout",
     "output_type": "stream",
     "text": [
      "std: 1.2882285\n",
      "mean: 0.05497338\n"
     ]
    },
    {
     "data": {
      "image/png": "[encoded data removed]",
      "text/plain": [
       "<Figure size 800x800 with 4 Axes>"
      ]
     },
     "metadata": {},
     "output_type": "display_data"
    }
   ],
   "source": [
    "l1_w = model2.layer1.weight.data.clone().detach().cpu().numpy().ravel()\n",
    "l1_b = model2.layer1.bias.data.clone().detach().cpu().numpy().ravel()\n",
    "l2_w = model2.layer2.weight.data.clone().detach().cpu().numpy().ravel()\n",
    "l2_b = model2.layer2.bias.data.clone().detach().cpu().numpy().ravel()\n",
    "l3_w = model2.layer3.weight.data.clone().detach().cpu().numpy().ravel()\n",
    "l3_b = model2.layer3.bias.data.clone().detach().cpu().numpy().ravel()\n",
    "all_w = np.concatenate((l1_w, l2_w, l3_w), axis=0)\n",
    "all_b = np.concatenate((l1_b, l2_b, l3_b), axis=0)\n",
    "print('std: '+str(np.std(all_w)))\n",
    "print('mean: '+str(np.mean(all_w)))\n",
    "\n",
    "plt.figure(figsize=(8, 8))\n",
    "ax = plt.subplot(221)\n",
    "ax.set_title('weight distribution')\n",
    "ax.set_xlabel('value')\n",
    "ax.set_ylabel('amount')\n",
    "plt.hist(all_w)\n",
    "\n",
    "ax = plt.subplot(222)\n",
    "ax.set_title('bias distribution')\n",
    "ax.set_xlabel('value')\n",
    "ax.set_ylabel('amount')\n",
    "plt.hist(all_b)\n",
    "\n",
    "ax = plt.subplot(223)\n",
    "ax.set_title('sorted weight value')\n",
    "ax.set_ylabel('value')\n",
    "ax.set_xlabel('number')\n",
    "plt.plot(np.sort(all_w), 'o', markersize=2)\n",
    "\n",
    "ax = plt.subplot(224)\n",
    "ax.set_title('sorted bias value')\n",
    "ax.set_ylabel('value')\n",
    "ax.set_xlabel('number')\n",
    "plt.plot(np.sort(all_b), 'o', markersize=2)\n",
    "\n",
    "plt.tight_layout()\n",
    "plt.show()"
   ]
  },
  {
   "cell_type": "markdown",
   "metadata": {},
   "source": [
    "# Case2 (Our 1 period data)"
   ]
  },
  {
   "cell_type": "code",
   "execution_count": 22,
   "metadata": {},
   "outputs": [
    {
     "name": "stderr",
     "output_type": "stream",
     "text": [
      "  3%|▎         | 1/30 [00:01<00:40,  1.40s/it]"
     ]
    },
    {
     "name": "stdout",
     "output_type": "stream",
     "text": [
      "Epoch: 1 Train Loss: 0.7959 Train Accuracy: 85.7654 %\n",
      "Test Accuracy: 94.0177 %\n"
     ]
    },
    {
     "name": "stderr",
     "output_type": "stream",
     "text": [
      "  7%|▋         | 2/30 [00:02<00:40,  1.44s/it]"
     ]
    },
    {
     "name": "stdout",
     "output_type": "stream",
     "text": [
      "Epoch: 2 Train Loss: 0.7717 Train Accuracy: 94.2793 %\n",
      "Test Accuracy: 94.6975 %\n"
     ]
    },
    {
     "name": "stderr",
     "output_type": "stream",
     "text": [
      " 10%|█         | 3/30 [00:04<00:38,  1.42s/it]"
     ]
    },
    {
     "name": "stdout",
     "output_type": "stream",
     "text": [
      "Epoch: 3 Train Loss: 0.7570 Train Accuracy: 94.7095 %\n",
      "Test Accuracy: 94.7995 %\n"
     ]
    },
    {
     "name": "stderr",
     "output_type": "stream",
     "text": [
      " 13%|█▎        | 4/30 [00:05<00:37,  1.44s/it]"
     ]
    },
    {
     "name": "stdout",
     "output_type": "stream",
     "text": [
      "Epoch: 4 Train Loss: 0.7438 Train Accuracy: 94.9721 %\n",
      "Test Accuracy: 95.0714 %\n"
     ]
    },
    {
     "name": "stderr",
     "output_type": "stream",
     "text": [
      " 17%|█▋        | 5/30 [00:07<00:36,  1.47s/it]"
     ]
    },
    {
     "name": "stdout",
     "output_type": "stream",
     "text": [
      "Epoch: 5 Train Loss: 0.7610 Train Accuracy: 95.2682 %\n",
      "Test Accuracy: 95.3773 %\n"
     ]
    },
    {
     "name": "stderr",
     "output_type": "stream",
     "text": [
      " 20%|██        | 6/30 [00:08<00:34,  1.45s/it]"
     ]
    },
    {
     "name": "stdout",
     "output_type": "stream",
     "text": [
      "Epoch: 6 Train Loss: 0.7475 Train Accuracy: 95.5140 %\n",
      "Test Accuracy: 95.3773 %\n"
     ]
    },
    {
     "name": "stderr",
     "output_type": "stream",
     "text": [
      " 23%|██▎       | 7/30 [00:10<00:33,  1.46s/it]"
     ]
    },
    {
     "name": "stdout",
     "output_type": "stream",
     "text": [
      "Epoch: 7 Train Loss: 0.7322 Train Accuracy: 95.5140 %\n",
      "Test Accuracy: 95.3773 %\n"
     ]
    },
    {
     "name": "stderr",
     "output_type": "stream",
     "text": [
      " 27%|██▋       | 8/30 [00:11<00:31,  1.45s/it]"
     ]
    },
    {
     "name": "stdout",
     "output_type": "stream",
     "text": [
      "Epoch: 8 Train Loss: 0.7507 Train Accuracy: 95.5140 %\n",
      "Test Accuracy: 95.3773 %\n"
     ]
    },
    {
     "name": "stderr",
     "output_type": "stream",
     "text": [
      " 30%|███       | 9/30 [00:13<00:30,  1.45s/it]"
     ]
    },
    {
     "name": "stdout",
     "output_type": "stream",
     "text": [
      "Epoch: 9 Train Loss: 0.7573 Train Accuracy: 95.5140 %\n",
      "Test Accuracy: 95.3773 %\n"
     ]
    },
    {
     "name": "stderr",
     "output_type": "stream",
     "text": [
      " 33%|███▎      | 10/30 [00:14<00:29,  1.46s/it]"
     ]
    },
    {
     "name": "stdout",
     "output_type": "stream",
     "text": [
      "Epoch:10 Train Loss: 0.7582 Train Accuracy: 95.5028 %\n",
      "Test Accuracy: 95.3773 %\n"
     ]
    },
    {
     "name": "stderr",
     "output_type": "stream",
     "text": [
      " 37%|███▋      | 11/30 [00:15<00:27,  1.45s/it]"
     ]
    },
    {
     "name": "stdout",
     "output_type": "stream",
     "text": [
      "Epoch:11 Train Loss: 0.7582 Train Accuracy: 95.5084 %\n",
      "Test Accuracy: 95.3773 %\n"
     ]
    },
    {
     "name": "stderr",
     "output_type": "stream",
     "text": [
      " 40%|████      | 12/30 [00:17<00:25,  1.43s/it]"
     ]
    },
    {
     "name": "stdout",
     "output_type": "stream",
     "text": [
      "Epoch:12 Train Loss: 0.7396 Train Accuracy: 95.5084 %\n",
      "Test Accuracy: 95.3773 %\n"
     ]
    },
    {
     "name": "stderr",
     "output_type": "stream",
     "text": [
      " 43%|████▎     | 13/30 [00:18<00:24,  1.42s/it]"
     ]
    },
    {
     "name": "stdout",
     "output_type": "stream",
     "text": [
      "Epoch:13 Train Loss: 0.7575 Train Accuracy: 95.5084 %\n",
      "Test Accuracy: 95.3773 %\n"
     ]
    },
    {
     "name": "stderr",
     "output_type": "stream",
     "text": [
      " 47%|████▋     | 14/30 [00:20<00:22,  1.43s/it]"
     ]
    },
    {
     "name": "stdout",
     "output_type": "stream",
     "text": [
      "Epoch:14 Train Loss: 0.7641 Train Accuracy: 95.5084 %\n",
      "Test Accuracy: 95.3773 %\n"
     ]
    },
    {
     "name": "stderr",
     "output_type": "stream",
     "text": [
      " 50%|█████     | 15/30 [00:21<00:21,  1.42s/it]"
     ]
    },
    {
     "name": "stdout",
     "output_type": "stream",
     "text": [
      "Epoch:15 Train Loss: 0.7546 Train Accuracy: 95.5084 %\n",
      "Test Accuracy: 95.3773 %\n"
     ]
    },
    {
     "name": "stderr",
     "output_type": "stream",
     "text": [
      " 53%|█████▎    | 16/30 [00:22<00:19,  1.42s/it]"
     ]
    },
    {
     "name": "stdout",
     "output_type": "stream",
     "text": [
      "Epoch:16 Train Loss: 0.7508 Train Accuracy: 95.5084 %\n",
      "Test Accuracy: 95.3773 %\n"
     ]
    },
    {
     "name": "stderr",
     "output_type": "stream",
     "text": [
      " 57%|█████▋    | 17/30 [00:24<00:18,  1.45s/it]"
     ]
    },
    {
     "name": "stdout",
     "output_type": "stream",
     "text": [
      "Epoch:17 Train Loss: 0.7595 Train Accuracy: 95.5084 %\n",
      "Test Accuracy: 95.3773 %\n"
     ]
    },
    {
     "name": "stderr",
     "output_type": "stream",
     "text": [
      " 60%|██████    | 18/30 [00:25<00:17,  1.44s/it]"
     ]
    },
    {
     "name": "stdout",
     "output_type": "stream",
     "text": [
      "Epoch:18 Train Loss: 0.7423 Train Accuracy: 95.5084 %\n",
      "Test Accuracy: 95.3773 %\n"
     ]
    },
    {
     "name": "stderr",
     "output_type": "stream",
     "text": [
      " 63%|██████▎   | 19/30 [00:27<00:15,  1.43s/it]"
     ]
    },
    {
     "name": "stdout",
     "output_type": "stream",
     "text": [
      "Epoch:19 Train Loss: 0.7360 Train Accuracy: 95.5084 %\n",
      "Test Accuracy: 95.3773 %\n"
     ]
    },
    {
     "name": "stderr",
     "output_type": "stream",
     "text": [
      " 67%|██████▋   | 20/30 [00:28<00:14,  1.44s/it]"
     ]
    },
    {
     "name": "stdout",
     "output_type": "stream",
     "text": [
      "Epoch:20 Train Loss: 0.7724 Train Accuracy: 95.5084 %\n",
      "Test Accuracy: 95.3773 %\n"
     ]
    },
    {
     "name": "stderr",
     "output_type": "stream",
     "text": [
      " 70%|███████   | 21/30 [00:30<00:12,  1.43s/it]"
     ]
    },
    {
     "name": "stdout",
     "output_type": "stream",
     "text": [
      "Epoch:21 Train Loss: 0.7450 Train Accuracy: 95.5084 %\n",
      "Test Accuracy: 95.3773 %\n"
     ]
    },
    {
     "name": "stderr",
     "output_type": "stream",
     "text": [
      " 73%|███████▎  | 22/30 [00:31<00:11,  1.43s/it]"
     ]
    },
    {
     "name": "stdout",
     "output_type": "stream",
     "text": [
      "Epoch:22 Train Loss: 0.7290 Train Accuracy: 95.5084 %\n",
      "Test Accuracy: 95.3773 %\n"
     ]
    },
    {
     "name": "stderr",
     "output_type": "stream",
     "text": [
      " 77%|███████▋  | 23/30 [00:33<00:10,  1.45s/it]"
     ]
    },
    {
     "name": "stdout",
     "output_type": "stream",
     "text": [
      "Epoch:23 Train Loss: 0.7407 Train Accuracy: 95.5084 %\n",
      "Test Accuracy: 95.3773 %\n"
     ]
    },
    {
     "name": "stderr",
     "output_type": "stream",
     "text": [
      " 80%|████████  | 24/30 [00:34<00:08,  1.47s/it]"
     ]
    },
    {
     "name": "stdout",
     "output_type": "stream",
     "text": [
      "Epoch:24 Train Loss: 0.7658 Train Accuracy: 95.5084 %\n",
      "Test Accuracy: 95.3773 %\n"
     ]
    },
    {
     "name": "stderr",
     "output_type": "stream",
     "text": [
      " 83%|████████▎ | 25/30 [00:36<00:07,  1.45s/it]"
     ]
    },
    {
     "name": "stdout",
     "output_type": "stream",
     "text": [
      "Epoch:25 Train Loss: 0.7377 Train Accuracy: 95.5084 %\n",
      "Test Accuracy: 95.3773 %\n"
     ]
    },
    {
     "name": "stderr",
     "output_type": "stream",
     "text": [
      " 87%|████████▋ | 26/30 [00:37<00:05,  1.43s/it]"
     ]
    },
    {
     "name": "stdout",
     "output_type": "stream",
     "text": [
      "Epoch:26 Train Loss: 0.7438 Train Accuracy: 95.5084 %\n",
      "Test Accuracy: 95.3773 %\n"
     ]
    },
    {
     "name": "stderr",
     "output_type": "stream",
     "text": [
      " 90%|█████████ | 27/30 [00:38<00:04,  1.42s/it]"
     ]
    },
    {
     "name": "stdout",
     "output_type": "stream",
     "text": [
      "Epoch:27 Train Loss: 0.7693 Train Accuracy: 95.5084 %\n",
      "Test Accuracy: 95.3773 %\n"
     ]
    },
    {
     "name": "stderr",
     "output_type": "stream",
     "text": [
      " 93%|█████████▎| 28/30 [00:40<00:02,  1.46s/it]"
     ]
    },
    {
     "name": "stdout",
     "output_type": "stream",
     "text": [
      "Epoch:28 Train Loss: 0.7577 Train Accuracy: 95.5084 %\n",
      "Test Accuracy: 95.3773 %\n"
     ]
    },
    {
     "name": "stderr",
     "output_type": "stream",
     "text": [
      " 97%|█████████▋| 29/30 [00:41<00:01,  1.46s/it]"
     ]
    },
    {
     "name": "stdout",
     "output_type": "stream",
     "text": [
      "Epoch:29 Train Loss: 0.7575 Train Accuracy: 95.5084 %\n",
      "Test Accuracy: 95.3773 %\n"
     ]
    },
    {
     "name": "stderr",
     "output_type": "stream",
     "text": [
      "100%|██████████| 30/30 [00:43<00:00,  1.44s/it]"
     ]
    },
    {
     "name": "stdout",
     "output_type": "stream",
     "text": [
      "Epoch:30 Train Loss: 0.7356 Train Accuracy: 95.5084 %\n",
      "Test Accuracy: 95.3773 %\n",
      "----------------------------------------------------\n",
      "Best Test Accuracy: 95.3773 %\n",
      "Best Loss: 0.7401\n"
     ]
    },
    {
     "name": "stderr",
     "output_type": "stream",
     "text": [
      "\n"
     ]
    }
   ],
   "source": [
    "# case2 training (ideal activation function / extracted synapse weight)\n",
    "# training with our weights\n",
    "model_case2_1p = ThreeLayerANN()\n",
    "criterion = nn.CrossEntropyLoss()\n",
    "optimizer = torch.optim.Adam(model_case2_1p.parameters(), lr=1e-1)\n",
    "scheduler = StepLR(optimizer, step_size=5, gamma=0.1)\n",
    "model2_1p, Loss2_1p, Accuracy2_1p = train_model(model=model_case2_1p, loader=mnist_loader, criterion=criterion, optimizer=optimizer, scheduler=scheduler, epochs=30, synapse=True, weight_file='./Synapse_weight/weight1_1period.npy', w_range=(-2, 2))\n",
    "\n",
    "best_acc = np.max(Accuracy2_1p['test'])\n",
    "best_loss = np.min(Loss2_1p['test'])\n",
    "print('----------------------------------------------------')\n",
    "print(f'Best Test Accuracy: {best_acc:4.4f} %')\n",
    "print(f'Best Loss: {best_loss:.4f}')"
   ]
  },
  {
   "cell_type": "code",
   "execution_count": 23,
   "metadata": {},
   "outputs": [
    {
     "data": {
      "image/png": "[encoded data removed]",
      "text/plain": [
       "<Figure size 640x480 with 1 Axes>"
      ]
     },
     "metadata": {},
     "output_type": "display_data"
    }
   ],
   "source": [
    "plt.figure()\n",
    "plt.plot(Loss2_1p['train'], label='train')\n",
    "plt.plot(Loss2_1p['test'], label='test')\n",
    "plt.xlabel('epoch')\n",
    "plt.ylabel('cross entropy loss')\n",
    "plt.title('Case 2')\n",
    "plt.legend()\n",
    "plt.show()"
   ]
  },
  {
   "cell_type": "code",
   "execution_count": 24,
   "metadata": {},
   "outputs": [
    {
     "data": {
      "image/png": "[encoded data removed]",
      "text/plain": [
       "<Figure size 800x800 with 4 Axes>"
      ]
     },
     "metadata": {},
     "output_type": "display_data"
    }
   ],
   "source": [
    "l1_w = model2_1p.layer1.weight.data.clone().detach().cpu().numpy().ravel()\n",
    "l1_b = model2_1p.layer1.bias.data.clone().detach().cpu().numpy().ravel()\n",
    "l2_w = model2_1p.layer2.weight.data.clone().detach().cpu().numpy().ravel()\n",
    "l2_b = model2_1p.layer2.bias.data.clone().detach().cpu().numpy().ravel()\n",
    "l3_w = model2_1p.layer3.weight.data.clone().detach().cpu().numpy().ravel()\n",
    "l3_b = model2_1p.layer3.bias.data.clone().detach().cpu().numpy().ravel()\n",
    "all_w = np.concatenate((l1_w, l2_w, l3_w), axis=0)\n",
    "all_b = np.concatenate((l1_b, l2_b, l3_b), axis=0)\n",
    "\n",
    "plt.figure(figsize=(8, 8))\n",
    "ax = plt.subplot(221)\n",
    "ax.set_title('weight distribution')\n",
    "ax.set_xlabel('value')\n",
    "ax.set_ylabel('amount')\n",
    "plt.hist(all_w)\n",
    "\n",
    "ax = plt.subplot(222)\n",
    "ax.set_title('bias distribution')\n",
    "ax.set_xlabel('value')\n",
    "ax.set_ylabel('amount')\n",
    "plt.hist(all_b)\n",
    "\n",
    "ax = plt.subplot(223)\n",
    "ax.set_title('sorted weight value')\n",
    "ax.set_ylabel('value')\n",
    "ax.set_xlabel('number')\n",
    "plt.plot(np.sort(all_w), 'o', markersize=2)\n",
    "\n",
    "ax = plt.subplot(224)\n",
    "ax.set_title('sorted bias value')\n",
    "ax.set_ylabel('value')\n",
    "ax.set_xlabel('number')\n",
    "plt.plot(np.sort(all_b), 'o', markersize=2)\n",
    "\n",
    "plt.tight_layout()\n",
    "plt.show()"
   ]
  },
  {
   "cell_type": "code",
   "execution_count": 25,
   "metadata": {},
   "outputs": [
    {
     "name": "stdout",
     "output_type": "stream",
     "text": [
      "True\n",
      "True\n"
     ]
    }
   ],
   "source": [
    "synapse_weight = np.load('Synapse_weight/weight1_1period.npy').astype(float).round(4)\n",
    "layer1_weight = model2_1p.layer1.weight.data.detach().clone().cpu().numpy().reshape(-1).astype(float).round(4)\n",
    "layer1_bias = model2_1p.layer1.bias.data.detach().clone().cpu().numpy().reshape(-1).astype(float).round(4)\n",
    "# print(synapse_weight.round(4).astype(float))\n",
    "# print(layer1_weight.round(4).astype(float))\n",
    "\n",
    "print(is_subset(layer1_weight, synapse_weight))\n",
    "print(is_subset(layer1_bias, synapse_weight))\n",
    "# print(np.isin(layer1_weight, synapse_weight))"
   ]
  },
  {
   "attachments": {},
   "cell_type": "markdown",
   "metadata": {},
   "source": [
    "# Case1"
   ]
  },
  {
   "cell_type": "code",
   "execution_count": 26,
   "metadata": {},
   "outputs": [
    {
     "name": "stdout",
     "output_type": "stream",
     "text": [
      "----------------------------------------------------------------\n",
      "        Layer (type)               Output Shape         Param #\n",
      "================================================================\n",
      "            Linear-1                 [-1, 1, 3]           2,355\n",
      "     ClampedLinear-2                 [-1, 1, 3]               0\n",
      "       Fit_sigmoid-3                 [-1, 1, 3]               0\n",
      "            Linear-4                 [-1, 1, 3]              12\n",
      "     ClampedLinear-5                 [-1, 1, 3]               0\n",
      "       Fit_sigmoid-6                 [-1, 1, 3]               0\n",
      "            Linear-7                 [-1, 1, 3]              12\n",
      "           Softmax-8                 [-1, 1, 3]               0\n",
      "================================================================\n",
      "Total params: 2,379\n",
      "Trainable params: 2,379\n",
      "Non-trainable params: 0\n",
      "----------------------------------------------------------------\n",
      "Input size (MB): 0.00\n",
      "Forward/backward pass size (MB): 0.00\n",
      "Params size (MB): 0.01\n",
      "Estimated Total Size (MB): 0.01\n",
      "----------------------------------------------------------------\n"
     ]
    }
   ],
   "source": [
    "# define our fitted sigmoid function\n",
    "class Fit_sigmoid(torch.nn.Module):\n",
    "    def __init__(self):\n",
    "        super(Fit_sigmoid, self).__init__()\n",
    "\n",
    "    def forward(self, x):\n",
    "        A1 = -0.0113177013264537\n",
    "        A2 = 0.951482622149164\n",
    "        x0 = -0.172518688334704\n",
    "        dx = 0.531396293380814\n",
    "        return (A1-A2) / (1+torch.exp((x-x0)/dx)) + A2 \n",
    "\n",
    "\n",
    "#  restrict linear output in (-4, 4)\n",
    "class ClampedLinear(nn.Module):\n",
    "    def __init__(self, in_features, out_features, clamp_min, clamp_max):\n",
    "        super(ClampedLinear, self).__init__()\n",
    "        self.linear = nn.Linear(in_features, out_features)\n",
    "        self.clamp_min = clamp_min\n",
    "        self.clamp_max = clamp_max\n",
    "\n",
    "        # weight initialize\n",
    "        self.linear.weight.data.normal_(mean=0.0, std=1.0)\n",
    "        self.linear.bias.data.zero_()\n",
    "\n",
    "    def forward(self, x):\n",
    "        x = self.linear(x)\n",
    "        x = torch.clamp(x, self.clamp_min, self.clamp_max)\n",
    "        return x\n",
    "\n",
    "    def weight(self):\n",
    "        return self.linear.weight\n",
    "    \n",
    "    def bias(self):\n",
    "        return self.linear.bias\n",
    "\n",
    "\n",
    "# ANN using our sigmoid function\n",
    "class ThreeLayerANN_FitSig(nn.Module):\n",
    "    def __init__(self, in_size = 784, out_size=3):\n",
    "        \"\"\"\n",
    "        * 784 input layers \n",
    "        * 2 hiden layers of 3 and 3 neurons respectively\n",
    "        * 3 output layer\n",
    "        \"\"\"\n",
    "        super(ThreeLayerANN_FitSig, self).__init__()\n",
    "        \n",
    "        self.layer1 = ClampedLinear(in_size, 3, clamp_min=-4, clamp_max=4)\n",
    "        self.layer2 = ClampedLinear(3, 3, clamp_min=-4, clamp_max=4)\n",
    "        self.layer3 = nn.Linear(3, out_size)\n",
    "        self.sigmoid = Fit_sigmoid()\n",
    "        self.softmax = nn.Softmax(dim = 1)\n",
    "\n",
    "        # weights initialize\n",
    "        self.layer3.weight.data.normal_(mean=0.0, std=1.0)\n",
    "        self.layer3.bias.data.zero_()\n",
    "            \n",
    "    def forward(self, X):\n",
    "        X = self.layer1(X)\n",
    "        X = self.sigmoid(X)\n",
    "        X = self.sigmoid(self.layer2(X))\n",
    "        X = self.layer3(X)\n",
    "        \n",
    "        return self.softmax(X) # multi-class classification, the sum of all probabilities is 1\n",
    "\n",
    "model = ThreeLayerANN_FitSig().cuda()\n",
    "summary(model, (1, 784))"
   ]
  },
  {
   "cell_type": "code",
   "execution_count": 27,
   "metadata": {},
   "outputs": [
    {
     "name": "stderr",
     "output_type": "stream",
     "text": [
      "  3%|▎         | 1/30 [00:00<00:24,  1.20it/s]"
     ]
    },
    {
     "name": "stdout",
     "output_type": "stream",
     "text": [
      "Epoch: 1 Train Loss: 0.6331 Train Accuracy: 80.2570 %\n",
      "Test Accuracy: 93.7797 %\n"
     ]
    },
    {
     "name": "stderr",
     "output_type": "stream",
     "text": [
      "  7%|▋         | 2/30 [00:01<00:21,  1.29it/s]"
     ]
    },
    {
     "name": "stdout",
     "output_type": "stream",
     "text": [
      "Epoch: 2 Train Loss: 0.6320 Train Accuracy: 92.0782 %\n",
      "Test Accuracy: 92.2502 %\n"
     ]
    },
    {
     "name": "stderr",
     "output_type": "stream",
     "text": [
      " 10%|█         | 3/30 [00:02<00:20,  1.32it/s]"
     ]
    },
    {
     "name": "stdout",
     "output_type": "stream",
     "text": [
      "Epoch: 3 Train Loss: 0.6814 Train Accuracy: 92.6145 %\n",
      "Test Accuracy: 85.3161 %\n"
     ]
    },
    {
     "name": "stderr",
     "output_type": "stream",
     "text": [
      " 13%|█▎        | 4/30 [00:03<00:19,  1.33it/s]"
     ]
    },
    {
     "name": "stdout",
     "output_type": "stream",
     "text": [
      "Epoch: 4 Train Loss: 0.5917 Train Accuracy: 92.1061 %\n",
      "Test Accuracy: 94.5955 %\n"
     ]
    },
    {
     "name": "stderr",
     "output_type": "stream",
     "text": [
      " 17%|█▋        | 5/30 [00:03<00:20,  1.25it/s]"
     ]
    },
    {
     "name": "stdout",
     "output_type": "stream",
     "text": [
      "Epoch: 5 Train Loss: 0.6316 Train Accuracy: 92.3184 %\n",
      "Test Accuracy: 93.2019 %\n"
     ]
    },
    {
     "name": "stderr",
     "output_type": "stream",
     "text": [
      " 20%|██        | 6/30 [00:04<00:18,  1.27it/s]"
     ]
    },
    {
     "name": "stdout",
     "output_type": "stream",
     "text": [
      "Epoch: 6 Train Loss: 0.5716 Train Accuracy: 93.6536 %\n",
      "Test Accuracy: 94.6635 %\n"
     ]
    },
    {
     "name": "stderr",
     "output_type": "stream",
     "text": [
      " 23%|██▎       | 7/30 [00:05<00:17,  1.29it/s]"
     ]
    },
    {
     "name": "stdout",
     "output_type": "stream",
     "text": [
      "Epoch: 7 Train Loss: 0.6116 Train Accuracy: 94.6760 %\n",
      "Test Accuracy: 95.2073 %\n"
     ]
    },
    {
     "name": "stderr",
     "output_type": "stream",
     "text": [
      " 27%|██▋       | 8/30 [00:06<00:17,  1.28it/s]"
     ]
    },
    {
     "name": "stdout",
     "output_type": "stream",
     "text": [
      "Epoch: 8 Train Loss: 0.6416 Train Accuracy: 95.0168 %\n",
      "Test Accuracy: 95.4793 %\n"
     ]
    },
    {
     "name": "stderr",
     "output_type": "stream",
     "text": [
      " 30%|███       | 9/30 [00:07<00:16,  1.27it/s]"
     ]
    },
    {
     "name": "stdout",
     "output_type": "stream",
     "text": [
      "Epoch: 9 Train Loss: 0.6016 Train Accuracy: 95.4749 %\n",
      "Test Accuracy: 95.7172 %\n"
     ]
    },
    {
     "name": "stderr",
     "output_type": "stream",
     "text": [
      " 33%|███▎      | 10/30 [00:08<00:16,  1.19it/s]"
     ]
    },
    {
     "name": "stdout",
     "output_type": "stream",
     "text": [
      "Epoch:10 Train Loss: 0.6016 Train Accuracy: 95.5196 %\n",
      "Test Accuracy: 95.4793 %\n"
     ]
    },
    {
     "name": "stderr",
     "output_type": "stream",
     "text": [
      " 37%|███▋      | 11/30 [00:08<00:16,  1.18it/s]"
     ]
    },
    {
     "name": "stdout",
     "output_type": "stream",
     "text": [
      "Epoch:11 Train Loss: 0.5916 Train Accuracy: 95.4078 %\n",
      "Test Accuracy: 95.4793 %\n"
     ]
    },
    {
     "name": "stderr",
     "output_type": "stream",
     "text": [
      " 40%|████      | 12/30 [00:09<00:15,  1.17it/s]"
     ]
    },
    {
     "name": "stdout",
     "output_type": "stream",
     "text": [
      "Epoch:12 Train Loss: 0.6016 Train Accuracy: 95.4860 %\n",
      "Test Accuracy: 95.5133 %\n"
     ]
    },
    {
     "name": "stderr",
     "output_type": "stream",
     "text": [
      " 43%|████▎     | 13/30 [00:10<00:14,  1.18it/s]"
     ]
    },
    {
     "name": "stdout",
     "output_type": "stream",
     "text": [
      "Epoch:13 Train Loss: 0.6016 Train Accuracy: 95.5642 %\n",
      "Test Accuracy: 95.5472 %\n"
     ]
    },
    {
     "name": "stderr",
     "output_type": "stream",
     "text": [
      " 47%|████▋     | 14/30 [00:11<00:13,  1.14it/s]"
     ]
    },
    {
     "name": "stdout",
     "output_type": "stream",
     "text": [
      "Epoch:14 Train Loss: 0.5913 Train Accuracy: 95.6425 %\n",
      "Test Accuracy: 95.5472 %\n"
     ]
    },
    {
     "name": "stderr",
     "output_type": "stream",
     "text": [
      " 50%|█████     | 15/30 [00:12<00:13,  1.14it/s]"
     ]
    },
    {
     "name": "stdout",
     "output_type": "stream",
     "text": [
      "Epoch:15 Train Loss: 0.6183 Train Accuracy: 95.6816 %\n",
      "Test Accuracy: 95.6492 %\n"
     ]
    },
    {
     "name": "stderr",
     "output_type": "stream",
     "text": [
      " 53%|█████▎    | 16/30 [00:13<00:12,  1.15it/s]"
     ]
    },
    {
     "name": "stdout",
     "output_type": "stream",
     "text": [
      "Epoch:16 Train Loss: 0.5716 Train Accuracy: 95.7486 %\n",
      "Test Accuracy: 95.6492 %\n"
     ]
    },
    {
     "name": "stderr",
     "output_type": "stream",
     "text": [
      " 57%|█████▋    | 17/30 [00:14<00:11,  1.16it/s]"
     ]
    },
    {
     "name": "stdout",
     "output_type": "stream",
     "text": [
      "Epoch:17 Train Loss: 0.5916 Train Accuracy: 95.7486 %\n",
      "Test Accuracy: 95.6152 %\n"
     ]
    },
    {
     "name": "stderr",
     "output_type": "stream",
     "text": [
      " 60%|██████    | 18/30 [00:14<00:10,  1.16it/s]"
     ]
    },
    {
     "name": "stdout",
     "output_type": "stream",
     "text": [
      "Epoch:18 Train Loss: 0.5916 Train Accuracy: 95.7598 %\n",
      "Test Accuracy: 95.6152 %\n"
     ]
    },
    {
     "name": "stderr",
     "output_type": "stream",
     "text": [
      " 63%|██████▎   | 19/30 [00:15<00:09,  1.13it/s]"
     ]
    },
    {
     "name": "stdout",
     "output_type": "stream",
     "text": [
      "Epoch:19 Train Loss: 0.6216 Train Accuracy: 95.7709 %\n",
      "Test Accuracy: 95.6152 %\n"
     ]
    },
    {
     "name": "stderr",
     "output_type": "stream",
     "text": [
      " 67%|██████▋   | 20/30 [00:16<00:08,  1.14it/s]"
     ]
    },
    {
     "name": "stdout",
     "output_type": "stream",
     "text": [
      "Epoch:20 Train Loss: 0.6715 Train Accuracy: 95.7709 %\n",
      "Test Accuracy: 95.6152 %\n"
     ]
    },
    {
     "name": "stderr",
     "output_type": "stream",
     "text": [
      " 70%|███████   | 21/30 [00:17<00:07,  1.15it/s]"
     ]
    },
    {
     "name": "stdout",
     "output_type": "stream",
     "text": [
      "Epoch:21 Train Loss: 0.6016 Train Accuracy: 95.7765 %\n",
      "Test Accuracy: 95.6152 %\n"
     ]
    },
    {
     "name": "stderr",
     "output_type": "stream",
     "text": [
      " 73%|███████▎  | 22/30 [00:18<00:06,  1.16it/s]"
     ]
    },
    {
     "name": "stdout",
     "output_type": "stream",
     "text": [
      "Epoch:22 Train Loss: 0.5916 Train Accuracy: 95.7765 %\n",
      "Test Accuracy: 95.6152 %\n"
     ]
    },
    {
     "name": "stderr",
     "output_type": "stream",
     "text": [
      " 77%|███████▋  | 23/30 [00:19<00:06,  1.11it/s]"
     ]
    },
    {
     "name": "stdout",
     "output_type": "stream",
     "text": [
      "Epoch:23 Train Loss: 0.5916 Train Accuracy: 95.7765 %\n",
      "Test Accuracy: 95.6152 %\n"
     ]
    },
    {
     "name": "stderr",
     "output_type": "stream",
     "text": [
      " 80%|████████  | 24/30 [00:20<00:05,  1.10it/s]"
     ]
    },
    {
     "name": "stdout",
     "output_type": "stream",
     "text": [
      "Epoch:24 Train Loss: 0.5916 Train Accuracy: 95.7765 %\n",
      "Test Accuracy: 95.6152 %\n"
     ]
    },
    {
     "name": "stderr",
     "output_type": "stream",
     "text": [
      " 83%|████████▎ | 25/30 [00:21<00:04,  1.12it/s]"
     ]
    },
    {
     "name": "stdout",
     "output_type": "stream",
     "text": [
      "Epoch:25 Train Loss: 0.6216 Train Accuracy: 95.7765 %\n",
      "Test Accuracy: 95.6152 %\n"
     ]
    },
    {
     "name": "stderr",
     "output_type": "stream",
     "text": [
      " 87%|████████▋ | 26/30 [00:22<00:03,  1.13it/s]"
     ]
    },
    {
     "name": "stdout",
     "output_type": "stream",
     "text": [
      "Epoch:26 Train Loss: 0.5921 Train Accuracy: 95.7765 %\n",
      "Test Accuracy: 95.6152 %\n"
     ]
    },
    {
     "name": "stderr",
     "output_type": "stream",
     "text": [
      " 90%|█████████ | 27/30 [00:22<00:02,  1.13it/s]"
     ]
    },
    {
     "name": "stdout",
     "output_type": "stream",
     "text": [
      "Epoch:27 Train Loss: 0.5616 Train Accuracy: 95.7765 %\n",
      "Test Accuracy: 95.6152 %\n"
     ]
    },
    {
     "name": "stderr",
     "output_type": "stream",
     "text": [
      " 93%|█████████▎| 28/30 [00:23<00:01,  1.10it/s]"
     ]
    },
    {
     "name": "stdout",
     "output_type": "stream",
     "text": [
      "Epoch:28 Train Loss: 0.6116 Train Accuracy: 95.7765 %\n",
      "Test Accuracy: 95.6152 %\n"
     ]
    },
    {
     "name": "stderr",
     "output_type": "stream",
     "text": [
      " 97%|█████████▋| 29/30 [00:24<00:00,  1.11it/s]"
     ]
    },
    {
     "name": "stdout",
     "output_type": "stream",
     "text": [
      "Epoch:29 Train Loss: 0.5816 Train Accuracy: 95.7765 %\n",
      "Test Accuracy: 95.6152 %\n"
     ]
    },
    {
     "name": "stderr",
     "output_type": "stream",
     "text": [
      "100%|██████████| 30/30 [00:25<00:00,  1.17it/s]"
     ]
    },
    {
     "name": "stdout",
     "output_type": "stream",
     "text": [
      "Epoch:30 Train Loss: 0.5816 Train Accuracy: 95.7765 %\n",
      "Test Accuracy: 95.6152 %\n",
      "----------------------------------------------------\n",
      "Best Test Accuracy: 95.7172 %\n",
      "Best Loss: 0.5719\n"
     ]
    },
    {
     "name": "stderr",
     "output_type": "stream",
     "text": [
      "\n"
     ]
    }
   ],
   "source": [
    "# case0 training (all ideal)\n",
    "model_case1 = ThreeLayerANN_FitSig()\n",
    "criterion = nn.CrossEntropyLoss()\n",
    "optimizer = torch.optim.Adam(model_case1.parameters(), lr=0.1)\n",
    "scheduler = StepLR(optimizer, step_size=5, gamma=0.1)\n",
    "model1, Loss1, Accuracy1 = train_model(model=model_case1, loader=mnist_loader, criterion=criterion, optimizer=optimizer, scheduler=scheduler, epochs=30, synapse=False, w_range=(-100, 100))\n",
    "\n",
    "best_acc = np.max(Accuracy1['test'])\n",
    "best_loss = np.min(Loss1['test'])\n",
    "print('----------------------------------------------------')\n",
    "print(f'Best Test Accuracy: {best_acc:4.4f} %')\n",
    "print(f'Best Loss: {best_loss:.4f}')"
   ]
  },
  {
   "cell_type": "code",
   "execution_count": 28,
   "metadata": {},
   "outputs": [
    {
     "data": {
      "image/png": "[encoded data removed]",
      "text/plain": [
       "<Figure size 640x480 with 1 Axes>"
      ]
     },
     "metadata": {},
     "output_type": "display_data"
    }
   ],
   "source": [
    "plt.figure()\n",
    "plt.plot(Loss1['train'], label='train')\n",
    "plt.plot(Loss1['test'], label='test')\n",
    "plt.xlabel('epoch')\n",
    "plt.ylabel('cross entropy loss')\n",
    "plt.title('Case 1')\n",
    "plt.legend()\n",
    "plt.show()"
   ]
  },
  {
   "cell_type": "code",
   "execution_count": 68,
   "metadata": {},
   "outputs": [
    {
     "name": "stdout",
     "output_type": "stream",
     "text": [
      "std: 2.660179\n",
      "mean: -0.28310654\n"
     ]
    },
    {
     "data": {
      "image/png": "[encoded data removed]",
      "text/plain": [
       "<Figure size 800x800 with 4 Axes>"
      ]
     },
     "metadata": {},
     "output_type": "display_data"
    }
   ],
   "source": [
    "l1_w = model1.layer1.weight().data.clone().detach().cpu().numpy().ravel()\n",
    "l1_b = model1.layer1.bias().data.clone().detach().cpu().numpy().ravel()\n",
    "l2_w = model1.layer2.weight().data.clone().detach().cpu().numpy().ravel()\n",
    "l2_b = model1.layer2.bias().data.clone().detach().cpu().numpy().ravel()\n",
    "l3_w = model1.layer3.weight.data.clone().detach().cpu().numpy().ravel()\n",
    "l3_b = model1.layer3.bias.data.clone().detach().cpu().numpy().ravel()\n",
    "all_w = np.concatenate((l1_w, l2_w, l3_w), axis=0)\n",
    "all_b = np.concatenate((l1_b, l2_b, l3_b), axis=0)\n",
    "print('std: '+str(np.std(all_w)))\n",
    "print('mean: '+str(np.mean(all_w)))\n",
    "\n",
    "plt.figure(figsize=(8, 8))\n",
    "ax = plt.subplot(221)\n",
    "ax.set_title('weight distribution')\n",
    "ax.set_xlabel('value')\n",
    "ax.set_ylabel('amount')\n",
    "plt.hist(all_w)\n",
    "\n",
    "ax = plt.subplot(222)\n",
    "ax.set_title('bias distribution')\n",
    "ax.set_xlabel('value')\n",
    "ax.set_ylabel('amount')\n",
    "plt.hist(all_b)\n",
    "\n",
    "ax = plt.subplot(223)\n",
    "ax.set_title('sorted weight value')\n",
    "ax.set_ylabel('value')\n",
    "ax.set_xlabel('number')\n",
    "plt.plot(np.sort(all_w), 'o', markersize=2)\n",
    "\n",
    "ax = plt.subplot(224)\n",
    "ax.set_title('sorted bias value')\n",
    "ax.set_ylabel('value')\n",
    "ax.set_xlabel('number')\n",
    "plt.plot(np.sort(all_b), 'o', markersize=2)\n",
    "\n",
    "plt.tight_layout()\n",
    "plt.show()"
   ]
  },
  {
   "attachments": {},
   "cell_type": "markdown",
   "metadata": {},
   "source": [
    "# Case 3"
   ]
  },
  {
   "cell_type": "code",
   "execution_count": 97,
   "metadata": {},
   "outputs": [
    {
     "name": "stderr",
     "output_type": "stream",
     "text": [
      "  0%|          | 0/30 [00:00<?, ?it/s]"
     ]
    },
    {
     "name": "stdout",
     "output_type": "stream",
     "text": [
      "Epoch: 1 Train Loss: 0.6917 Train Accuracy: 62.3017 %\n"
     ]
    },
    {
     "name": "stderr",
     "output_type": "stream",
     "text": [
      "  3%|▎         | 1/30 [00:10<04:53, 10.11s/it]"
     ]
    },
    {
     "name": "stdout",
     "output_type": "stream",
     "text": [
      "Test Accuracy: 88.6472 %\n"
     ]
    },
    {
     "name": "stderr",
     "output_type": "stream",
     "text": [
      "  7%|▋         | 2/30 [00:12<02:32,  5.46s/it]"
     ]
    },
    {
     "name": "stdout",
     "output_type": "stream",
     "text": [
      "Epoch: 2 Train Loss: 0.7094 Train Accuracy: 90.6648 %\n",
      "Test Accuracy: 91.5024 %\n"
     ]
    },
    {
     "name": "stderr",
     "output_type": "stream",
     "text": [
      " 10%|█         | 3/30 [00:14<01:52,  4.16s/it]"
     ]
    },
    {
     "name": "stdout",
     "output_type": "stream",
     "text": [
      "Epoch: 3 Train Loss: 0.6971 Train Accuracy: 91.9497 %\n",
      "Test Accuracy: 92.6920 %\n"
     ]
    },
    {
     "name": "stderr",
     "output_type": "stream",
     "text": [
      " 13%|█▎        | 4/30 [00:17<01:31,  3.52s/it]"
     ]
    },
    {
     "name": "stdout",
     "output_type": "stream",
     "text": [
      "Epoch: 4 Train Loss: 0.6544 Train Accuracy: 92.6872 %\n",
      "Test Accuracy: 92.5221 %\n"
     ]
    },
    {
     "name": "stderr",
     "output_type": "stream",
     "text": [
      " 17%|█▋        | 5/30 [00:19<01:15,  3.03s/it]"
     ]
    },
    {
     "name": "stdout",
     "output_type": "stream",
     "text": [
      "Epoch: 5 Train Loss: 0.6907 Train Accuracy: 93.1006 %\n",
      "Test Accuracy: 93.2019 %\n"
     ]
    },
    {
     "name": "stderr",
     "output_type": "stream",
     "text": [
      " 20%|██        | 6/30 [00:21<01:06,  2.77s/it]"
     ]
    },
    {
     "name": "stdout",
     "output_type": "stream",
     "text": [
      "Epoch: 6 Train Loss: 0.6907 Train Accuracy: 93.4972 %\n",
      "Test Accuracy: 93.1679 %\n"
     ]
    },
    {
     "name": "stderr",
     "output_type": "stream",
     "text": [
      " 23%|██▎       | 7/30 [00:23<00:58,  2.54s/it]"
     ]
    },
    {
     "name": "stdout",
     "output_type": "stream",
     "text": [
      "Epoch: 7 Train Loss: 0.7140 Train Accuracy: 93.5028 %\n",
      "Test Accuracy: 93.1679 %\n"
     ]
    },
    {
     "name": "stderr",
     "output_type": "stream",
     "text": [
      " 27%|██▋       | 8/30 [00:26<00:53,  2.43s/it]"
     ]
    },
    {
     "name": "stdout",
     "output_type": "stream",
     "text": [
      "Epoch: 8 Train Loss: 0.6561 Train Accuracy: 93.5140 %\n",
      "Test Accuracy: 93.2019 %\n"
     ]
    },
    {
     "name": "stderr",
     "output_type": "stream",
     "text": [
      " 30%|███       | 9/30 [00:28<00:49,  2.35s/it]"
     ]
    },
    {
     "name": "stdout",
     "output_type": "stream",
     "text": [
      "Epoch: 9 Train Loss: 0.6863 Train Accuracy: 93.5307 %\n",
      "Test Accuracy: 93.2019 %\n"
     ]
    },
    {
     "name": "stderr",
     "output_type": "stream",
     "text": [
      " 33%|███▎      | 10/30 [00:30<00:47,  2.36s/it]"
     ]
    },
    {
     "name": "stdout",
     "output_type": "stream",
     "text": [
      "Epoch:10 Train Loss: 0.6766 Train Accuracy: 93.5307 %\n",
      "Test Accuracy: 93.2019 %\n"
     ]
    },
    {
     "name": "stderr",
     "output_type": "stream",
     "text": [
      " 37%|███▋      | 11/30 [00:32<00:44,  2.32s/it]"
     ]
    },
    {
     "name": "stdout",
     "output_type": "stream",
     "text": [
      "Epoch:11 Train Loss: 0.6572 Train Accuracy: 93.5307 %\n",
      "Test Accuracy: 93.2019 %\n"
     ]
    },
    {
     "name": "stderr",
     "output_type": "stream",
     "text": [
      " 40%|████      | 12/30 [00:35<00:41,  2.28s/it]"
     ]
    },
    {
     "name": "stdout",
     "output_type": "stream",
     "text": [
      "Epoch:12 Train Loss: 0.6744 Train Accuracy: 93.5307 %\n",
      "Test Accuracy: 93.2019 %\n"
     ]
    },
    {
     "name": "stderr",
     "output_type": "stream",
     "text": [
      " 43%|████▎     | 13/30 [00:37<00:39,  2.31s/it]"
     ]
    },
    {
     "name": "stdout",
     "output_type": "stream",
     "text": [
      "Epoch:13 Train Loss: 0.7125 Train Accuracy: 93.5307 %\n",
      "Test Accuracy: 93.2019 %\n"
     ]
    },
    {
     "name": "stderr",
     "output_type": "stream",
     "text": [
      " 47%|████▋     | 14/30 [00:39<00:36,  2.28s/it]"
     ]
    },
    {
     "name": "stdout",
     "output_type": "stream",
     "text": [
      "Epoch:14 Train Loss: 0.6927 Train Accuracy: 93.5307 %\n",
      "Test Accuracy: 93.2019 %\n"
     ]
    },
    {
     "name": "stderr",
     "output_type": "stream",
     "text": [
      " 50%|█████     | 15/30 [00:41<00:34,  2.27s/it]"
     ]
    },
    {
     "name": "stdout",
     "output_type": "stream",
     "text": [
      "Epoch:15 Train Loss: 0.6777 Train Accuracy: 93.5307 %\n",
      "Test Accuracy: 93.2019 %\n"
     ]
    },
    {
     "name": "stderr",
     "output_type": "stream",
     "text": [
      " 53%|█████▎    | 16/30 [00:44<00:32,  2.34s/it]"
     ]
    },
    {
     "name": "stdout",
     "output_type": "stream",
     "text": [
      "Epoch:16 Train Loss: 0.6860 Train Accuracy: 93.5307 %\n",
      "Test Accuracy: 93.2019 %\n"
     ]
    },
    {
     "name": "stderr",
     "output_type": "stream",
     "text": [
      " 57%|█████▋    | 17/30 [00:46<00:29,  2.30s/it]"
     ]
    },
    {
     "name": "stdout",
     "output_type": "stream",
     "text": [
      "Epoch:17 Train Loss: 0.6718 Train Accuracy: 93.5307 %\n",
      "Test Accuracy: 93.2019 %\n"
     ]
    },
    {
     "name": "stderr",
     "output_type": "stream",
     "text": [
      " 60%|██████    | 18/30 [00:48<00:27,  2.27s/it]"
     ]
    },
    {
     "name": "stdout",
     "output_type": "stream",
     "text": [
      "Epoch:18 Train Loss: 0.7015 Train Accuracy: 93.5307 %\n",
      "Test Accuracy: 93.2019 %\n"
     ]
    },
    {
     "name": "stderr",
     "output_type": "stream",
     "text": [
      " 63%|██████▎   | 19/30 [00:51<00:24,  2.24s/it]"
     ]
    },
    {
     "name": "stdout",
     "output_type": "stream",
     "text": [
      "Epoch:19 Train Loss: 0.6686 Train Accuracy: 93.5307 %\n",
      "Test Accuracy: 93.2019 %\n"
     ]
    },
    {
     "name": "stderr",
     "output_type": "stream",
     "text": [
      " 67%|██████▋   | 20/30 [00:53<00:22,  2.24s/it]"
     ]
    },
    {
     "name": "stdout",
     "output_type": "stream",
     "text": [
      "Epoch:20 Train Loss: 0.6990 Train Accuracy: 93.5307 %\n",
      "Test Accuracy: 93.2019 %\n"
     ]
    },
    {
     "name": "stderr",
     "output_type": "stream",
     "text": [
      " 70%|███████   | 21/30 [00:56<00:21,  2.39s/it]"
     ]
    },
    {
     "name": "stdout",
     "output_type": "stream",
     "text": [
      "Epoch:21 Train Loss: 0.6608 Train Accuracy: 93.5307 %\n",
      "Test Accuracy: 93.2019 %\n"
     ]
    },
    {
     "name": "stderr",
     "output_type": "stream",
     "text": [
      " 73%|███████▎  | 22/30 [00:58<00:18,  2.33s/it]"
     ]
    },
    {
     "name": "stdout",
     "output_type": "stream",
     "text": [
      "Epoch:22 Train Loss: 0.6928 Train Accuracy: 93.5307 %\n",
      "Test Accuracy: 93.2019 %\n"
     ]
    },
    {
     "name": "stderr",
     "output_type": "stream",
     "text": [
      " 77%|███████▋  | 23/30 [01:00<00:16,  2.29s/it]"
     ]
    },
    {
     "name": "stdout",
     "output_type": "stream",
     "text": [
      "Epoch:23 Train Loss: 0.7047 Train Accuracy: 93.5307 %\n",
      "Test Accuracy: 93.2019 %\n"
     ]
    },
    {
     "name": "stderr",
     "output_type": "stream",
     "text": [
      " 80%|████████  | 24/30 [01:02<00:13,  2.28s/it]"
     ]
    },
    {
     "name": "stdout",
     "output_type": "stream",
     "text": [
      "Epoch:24 Train Loss: 0.6772 Train Accuracy: 93.5307 %\n",
      "Test Accuracy: 93.2019 %\n"
     ]
    },
    {
     "name": "stderr",
     "output_type": "stream",
     "text": [
      " 83%|████████▎ | 25/30 [01:04<00:11,  2.23s/it]"
     ]
    },
    {
     "name": "stdout",
     "output_type": "stream",
     "text": [
      "Epoch:25 Train Loss: 0.6839 Train Accuracy: 93.5307 %\n",
      "Test Accuracy: 93.2019 %\n"
     ]
    },
    {
     "name": "stderr",
     "output_type": "stream",
     "text": [
      " 87%|████████▋ | 26/30 [01:06<00:08,  2.18s/it]"
     ]
    },
    {
     "name": "stdout",
     "output_type": "stream",
     "text": [
      "Epoch:26 Train Loss: 0.7050 Train Accuracy: 93.5307 %\n",
      "Test Accuracy: 93.2019 %\n"
     ]
    },
    {
     "name": "stderr",
     "output_type": "stream",
     "text": [
      " 90%|█████████ | 27/30 [01:09<00:06,  2.18s/it]"
     ]
    },
    {
     "name": "stdout",
     "output_type": "stream",
     "text": [
      "Epoch:27 Train Loss: 0.7101 Train Accuracy: 93.5307 %\n",
      "Test Accuracy: 93.2019 %\n"
     ]
    },
    {
     "name": "stderr",
     "output_type": "stream",
     "text": [
      " 93%|█████████▎| 28/30 [01:11<00:04,  2.17s/it]"
     ]
    },
    {
     "name": "stdout",
     "output_type": "stream",
     "text": [
      "Epoch:28 Train Loss: 0.7502 Train Accuracy: 93.5307 %\n",
      "Test Accuracy: 93.2019 %\n"
     ]
    },
    {
     "name": "stderr",
     "output_type": "stream",
     "text": [
      " 97%|█████████▋| 29/30 [01:13<00:02,  2.13s/it]"
     ]
    },
    {
     "name": "stdout",
     "output_type": "stream",
     "text": [
      "Epoch:29 Train Loss: 0.6721 Train Accuracy: 93.5307 %\n",
      "Test Accuracy: 93.2019 %\n"
     ]
    },
    {
     "name": "stderr",
     "output_type": "stream",
     "text": [
      "100%|██████████| 30/30 [01:15<00:00,  2.51s/it]"
     ]
    },
    {
     "name": "stdout",
     "output_type": "stream",
     "text": [
      "Epoch:30 Train Loss: 0.6930 Train Accuracy: 93.5307 %\n",
      "Test Accuracy: 93.2019 %\n",
      "----------------------------------------------------\n",
      "Best Test Accuracy: 93.2019 %\n",
      "Best Loss: 0.6653\n"
     ]
    },
    {
     "name": "stderr",
     "output_type": "stream",
     "text": [
      "\n"
     ]
    }
   ],
   "source": [
    "model_case3 = ThreeLayerANN_FitSig()\n",
    "criterion = nn.CrossEntropyLoss()\n",
    "optimizer = torch.optim.Adam(model_case3.parameters(), lr=1e-1)\n",
    "scheduler = StepLR(optimizer, step_size=5, gamma=0.1)\n",
    "model3, Loss3, Accuracy3 = train_model(model=model_case3, loader=mnist_loader, criterion=criterion, optimizer=optimizer, scheduler=scheduler, epochs=30, synapse=True, weight_file='./Synapse_weight/weight1_3period_range6.npy', w_range=(-6, 6))\n",
    "\n",
    "best_acc = np.max(Accuracy3['test'])\n",
    "best_loss = np.min(Loss3['test'])\n",
    "print('----------------------------------------------------')\n",
    "print(f'Best Test Accuracy: {best_acc:4.4f} %')\n",
    "print(f'Best Loss: {best_loss:.4f}')"
   ]
  },
  {
   "cell_type": "code",
   "execution_count": 30,
   "metadata": {},
   "outputs": [
    {
     "data": {
      "image/png": "[encoded data removed]",
      "text/plain": [
       "<Figure size 640x480 with 1 Axes>"
      ]
     },
     "metadata": {},
     "output_type": "display_data"
    }
   ],
   "source": [
    "plt.figure()\n",
    "plt.plot(Loss3['train'], label='train')\n",
    "plt.plot(Loss3['test'], label='test')\n",
    "plt.xlabel('epoch')\n",
    "plt.ylabel('cross entropy loss')\n",
    "plt.title('Case 3')\n",
    "plt.legend()\n",
    "plt.show()"
   ]
  },
  {
   "cell_type": "code",
   "execution_count": 31,
   "metadata": {},
   "outputs": [
    {
     "data": {
      "image/png": "[encoded data removed]",
      "text/plain": [
       "<Figure size 800x800 with 4 Axes>"
      ]
     },
     "metadata": {},
     "output_type": "display_data"
    }
   ],
   "source": [
    "l1_w = model3.layer1.weight().data.clone().detach().cpu().numpy().ravel()\n",
    "l1_b = model3.layer1.bias().data.clone().detach().cpu().numpy().ravel()\n",
    "l2_w = model3.layer2.weight().data.clone().detach().cpu().numpy().ravel()\n",
    "l2_b = model3.layer2.bias().data.clone().detach().cpu().numpy().ravel()\n",
    "l3_w = model3.layer3.weight.data.clone().detach().cpu().numpy().ravel()\n",
    "l3_b = model3.layer3.bias.data.clone().detach().cpu().numpy().ravel()\n",
    "all_w = np.concatenate((l1_w, l2_w, l3_w), axis=0)\n",
    "all_b = np.concatenate((l1_b, l2_b, l3_b), axis=0)\n",
    "print('std: '+str(np.std(all_w)))\n",
    "print('mean: '+str(np.mean(all_w)))\n",
    "\n",
    "plt.figure(figsize=(8, 8))\n",
    "ax = plt.subplot(221)\n",
    "ax.set_title('weight distribution')\n",
    "ax.set_xlabel('value')\n",
    "ax.set_ylabel('amount')\n",
    "plt.hist(all_w)\n",
    "\n",
    "ax = plt.subplot(222)\n",
    "ax.set_title('bias distribution')\n",
    "ax.set_xlabel('value')\n",
    "ax.set_ylabel('amount')\n",
    "plt.hist(all_b)\n",
    "\n",
    "ax = plt.subplot(223)\n",
    "ax.set_title('sorted weight value')\n",
    "ax.set_ylabel('value')\n",
    "ax.set_xlabel('number')\n",
    "plt.plot(np.sort(all_w), 'o', markersize=2)\n",
    "\n",
    "ax = plt.subplot(224)\n",
    "ax.set_title('sorted bias value')\n",
    "ax.set_ylabel('value')\n",
    "ax.set_xlabel('number')\n",
    "plt.plot(np.sort(all_b), 'o', markersize=2)\n",
    "\n",
    "plt.tight_layout()\n",
    "plt.show()"
   ]
  },
  {
   "cell_type": "code",
   "execution_count": 33,
   "metadata": {},
   "outputs": [
    {
     "name": "stdout",
     "output_type": "stream",
     "text": [
      "True\n",
      "True\n"
     ]
    }
   ],
   "source": [
    "synapse_weight = np.load('Synapse_weight/weight1_3period_range6.npy').astype(float).round(4)\n",
    "layer1_weight = model3.layer1.weight().data.detach().clone().cpu().numpy().reshape(-1).astype(float).round(4)\n",
    "layer1_bias = model3.layer1.bias().data.detach().clone().cpu().numpy().reshape(-1).astype(float).round(4)\n",
    "# print(synapse_weight.round(4).astype(float))\n",
    "# print(layer1_weight.round(4).astype(float))\n",
    "\n",
    "print(is_subset(layer1_weight, synapse_weight))\n",
    "print(is_subset(layer1_bias, synapse_weight))\n",
    "# print(np.isin(layer1_weight, synapse_weight))"
   ]
  },
  {
   "cell_type": "code",
   "execution_count": 45,
   "metadata": {},
   "outputs": [
    {
     "data": {
      "image/png": "[encoded data removed]",
      "text/plain": [
       "<Figure size 640x480 with 1 Axes>"
      ]
     },
     "metadata": {},
     "output_type": "display_data"
    }
   ],
   "source": [
    "accs = [96.2610, 95.7172, 93.3719, 93.2699]\n",
    "cases = ['Case0', 'Case1', 'Case2', 'Case3']\n",
    "\n",
    "plt.figure()\n",
    "plt.bar(cases, accs, width=0.4)\n",
    "for a,b in zip(cases, accs):\n",
    "    plt.text(a, b+0.5, '%.2f' % b+' %', ha='center', va= 'bottom',fontsize=10)\n",
    "plt.title('Accuracy comparison')\n",
    "plt.ylabel('Accuracy (%)')\n",
    "plt.ylim(90, 100)\n",
    "plt.show()"
   ]
  },
  {
   "cell_type": "code",
   "execution_count": 94,
   "metadata": {},
   "outputs": [
    {
     "data": {
      "image/png": "[encoded data removed]",
      "text/plain": [
       "<Figure size 640x480 with 1 Axes>"
      ]
     },
     "metadata": {},
     "output_type": "display_data"
    }
   ],
   "source": [
    "accs = [66.2475, 96.7369, 95.9891, 93.3719, 91.8763, 84.1944]\n",
    "scales = ['(-1, 1)', '(-2, 2)', '(-4, 4)', '(-6, 6)', '(-8, 8)', '(-10, 10)']\n",
    "\n",
    "plt.figure()\n",
    "plt.bar(scales, accs, width=0.4)\n",
    "for a,b in zip(scales, accs):\n",
    "    plt.text(a, b+0.5, '%.2f' % b+' %', ha='center', va= 'bottom',fontsize=10)\n",
    "plt.title('Scaling range comparison')\n",
    "plt.ylabel('Accuracy (%)')\n",
    "plt.ylim(60, 100)\n",
    "plt.show()"
   ]
  },
  {
   "cell_type": "code",
   "execution_count": null,
   "metadata": {},
   "outputs": [],
   "source": []
  }
 ],
 "metadata": {
  "kernelspec": {
   "display_name": "Python 3",
   "language": "python",
   "name": "python3"
  },
  "language_info": {
   "codemirror_mode": {
    "name": "ipython",
    "version": 3
   },
   "file_extension": ".py",
   "mimetype": "text/x-python",
   "name": "python",
   "nbconvert_exporter": "python",
   "pygments_lexer": "ipython3",
   "version": "3.9.15"
  }
 },
 "nbformat": 4,
 "nbformat_minor": 2
}
