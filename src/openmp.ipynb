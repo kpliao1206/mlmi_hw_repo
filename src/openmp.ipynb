{
 "cells": [
  {
   "cell_type": "code",
   "execution_count": 2,
   "metadata": {},
   "outputs": [
    {
     "name": "stdout",
     "output_type": "stream",
     "text": [
      "blas_armpl_info:\n",
      "  NOT AVAILABLE\n",
      "blas_mkl_info:\n",
      "    libraries = ['mkl_rt']\n",
      "    library_dirs = ['C:/Users/ac_ya/.conda/envs/py310-tf2\\\\Library\\\\lib']\n",
      "    define_macros = [('SCIPY_MKL_H', None), ('HAVE_CBLAS', None)]\n",
      "    include_dirs = ['C:/Users/ac_ya/.conda/envs/py310-tf2\\\\Library\\\\include']\n",
      "blas_opt_info:\n",
      "    libraries = ['mkl_rt']\n",
      "    library_dirs = ['C:/Users/ac_ya/.conda/envs/py310-tf2\\\\Library\\\\lib']\n",
      "    define_macros = [('SCIPY_MKL_H', None), ('HAVE_CBLAS', None)]\n",
      "    include_dirs = ['C:/Users/ac_ya/.conda/envs/py310-tf2\\\\Library\\\\include']\n",
      "lapack_armpl_info:\n",
      "  NOT AVAILABLE\n",
      "lapack_mkl_info:\n",
      "    libraries = ['mkl_rt']\n",
      "    library_dirs = ['C:/Users/ac_ya/.conda/envs/py310-tf2\\\\Library\\\\lib']\n",
      "    define_macros = [('SCIPY_MKL_H', None), ('HAVE_CBLAS', None)]\n",
      "    include_dirs = ['C:/Users/ac_ya/.conda/envs/py310-tf2\\\\Library\\\\include']\n",
      "lapack_opt_info:\n",
      "    libraries = ['mkl_rt']\n",
      "    library_dirs = ['C:/Users/ac_ya/.conda/envs/py310-tf2\\\\Library\\\\lib']\n",
      "    define_macros = [('SCIPY_MKL_H', None), ('HAVE_CBLAS', None)]\n",
      "    include_dirs = ['C:/Users/ac_ya/.conda/envs/py310-tf2\\\\Library\\\\include']\n",
      "Supported SIMD extensions in this NumPy install:\n",
      "    baseline = SSE,SSE2,SSE3\n",
      "    found = SSSE3,SSE41,POPCNT,SSE42,AVX,F16C,FMA3,AVX2\n",
      "    not found = AVX512F,AVX512CD,AVX512_SKX,AVX512_CLX,AVX512_CNL\n",
      "time to complete random matrix generation was 12.303399324417114 seconds\n",
      "time to complete dot was 23.772855758666992 seconds\n"
     ]
    }
   ],
   "source": [
    "import os\n",
    "#must set these before loading numpy:\n",
    "os.environ[\"OMP_NUM_THREADS\"] = '4' # export OMP_NUM_THREADS=4\n",
    "os.environ[\"OPENBLAS_NUM_THREADS\"] = '4' # export OPENBLAS_NUM_THREADS=4\n",
    "os.environ[\"MKL_NUM_THREADS\"] = '4' # export MKL_NUM_THREADS=6\n",
    "#os.environ[\"VECLIB_MAXIMUM_THREADS\"] = '4' # export VECLIB_MAXIMUM_THREADS=4\n",
    "#os.environ[\"NUMEXPR_NUM_THREADS\"] = '4' # export NUMEXPR_NUM_THREADS=6\n",
    "\n",
    "import numpy as np\n",
    "import time\n",
    "\n",
    "#np.__config__.show() #looks like I have MKL and blas\n",
    "np.show_config()\n",
    "\n",
    "start_time=time.time()\n",
    "#test script:\n",
    "a = np.random.randn(5000, 50000)\n",
    "b = np.random.randn(50000, 5000)\n",
    "ran_time=time.time()-start_time\n",
    "print(\"time to complete random matrix generation was %s seconds\" % ran_time)\n",
    "np.dot(a, b) #this line should be multi-threaded\n",
    "print(\"time to complete dot was %s seconds\" % (time.time() - start_time - ran_time))"
   ]
  }
 ],
 "metadata": {
  "kernelspec": {
   "display_name": "Python 3.10.5 64-bit (microsoft store)",
   "language": "python",
   "name": "python3"
  },
  "language_info": {
   "codemirror_mode": {
    "name": "ipython",
    "version": 3
   },
   "file_extension": ".py",
   "mimetype": "text/x-python",
   "name": "python",
   "nbconvert_exporter": "python",
   "pygments_lexer": "ipython3",
   "version": "3.10.9"
  },
  "orig_nbformat": 4,
  "vscode": {
   "interpreter": {
    "hash": "828f04b2fbc225ef75b11e958b78e3a4ed2052f881f9dbc4f8b3a3471e210772"
   }
  }
 },
 "nbformat": 4,
 "nbformat_minor": 2
}
