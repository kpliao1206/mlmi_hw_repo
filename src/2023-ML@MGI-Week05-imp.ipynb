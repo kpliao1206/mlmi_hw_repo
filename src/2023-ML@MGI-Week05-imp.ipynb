{
 "cells": [
  {
   "cell_type": "code",
   "execution_count": 1,
   "metadata": {
    "colab": {
     "base_uri": "https://localhost:8080/"
    },
    "id": "VK_v283epY3z",
    "outputId": "e3648ba3-871b-4a29-d7d1-87ce55370c0c"
   },
   "outputs": [
    {
     "name": "stdout",
     "output_type": "stream",
     "text": [
      "Requirement already satisfied: cython in /usr/local/lib/python3.7/dist-packages (0.29.28)\n"
     ]
    }
   ],
   "source": [
    "!pip install cython\n"
   ]
  },
  {
   "cell_type": "code",
   "execution_count": 7,
   "metadata": {
    "colab": {
     "base_uri": "https://localhost:8080/"
    },
    "id": "XvOCeFmkpdLZ",
    "outputId": "036d4477-faa6-4e8a-8905-7c04a180c2ca"
   },
   "outputs": [
    {
     "name": "stdout",
     "output_type": "stream",
     "text": [
      "running build_ext\n",
      "copying build/lib.linux-x86_64-3.7/run_cython.cpython-37m-x86_64-linux-gnu.so -> \n"
     ]
    }
   ],
   "source": [
    "!python setup.py build_ext --inplace"
   ]
  },
  {
   "cell_type": "code",
   "execution_count": 10,
   "metadata": {
    "colab": {
     "base_uri": "https://localhost:8080/"
    },
    "id": "V5oqg3RJ91tD",
    "outputId": "3e1dd8b4-38be-471a-eac5-73b2bd985a3e"
   },
   "outputs": [
    {
     "name": "stdout",
     "output_type": "stream",
     "text": [
      "[10, 100, 1000, 10000]\n",
      "Python time = 4.76837158203125e-06\n",
      "Cython time = 2.1457672119140625e-06\n",
      "Speedup = 2.2222222222222223\n",
      "Python time = 1.6450881958007812e-05\n",
      "Cython time = 9.5367431640625e-07\n",
      "Speedup = 17.25\n",
      "Python time = 0.0002663135528564453\n",
      "Cython time = 1.430511474609375e-06\n",
      "Speedup = 186.16666666666666\n",
      "Python time = 0.020389318466186523\n",
      "Cython time = 1.4781951904296875e-05\n",
      "Speedup = 1379.3387096774193\n"
     ]
    }
   ],
   "source": [
    "!python test_code.py 10 100 1000 10000"
   ]
  }
 ],
 "metadata": {
  "colab": {
   "collapsed_sections": [],
   "name": "cython_example.ipynb",
   "provenance": []
  },
  "kernelspec": {
   "display_name": "Python 3 (ipykernel)",
   "language": "python",
   "name": "python3"
  },
  "language_info": {
   "codemirror_mode": {
    "name": "ipython",
    "version": 3
   },
   "file_extension": ".py",
   "mimetype": "text/x-python",
   "name": "python",
   "nbconvert_exporter": "python",
   "pygments_lexer": "ipython3",
   "version": "3.7.11"
  }
 },
 "nbformat": 4,
 "nbformat_minor": 4
}
