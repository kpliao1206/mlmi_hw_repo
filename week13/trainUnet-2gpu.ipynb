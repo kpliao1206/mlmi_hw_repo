{
 "cells": [
  {
   "cell_type": "code",
   "execution_count": 1,
   "metadata": {
    "ExecuteTime": {
     "end_time": "2019-06-11T01:27:47.893045Z",
     "start_time": "2019-06-11T01:27:46.814696Z"
    }
   },
   "outputs": [
    {
     "name": "stderr",
     "output_type": "stream",
     "text": [
      "Using TensorFlow backend.\n"
     ]
    }
   ],
   "source": [
    "import os\n",
    "import time\n",
    "from model import *\n",
    "from data import *"
   ]
  },
  {
   "cell_type": "code",
   "execution_count": 2,
   "metadata": {},
   "outputs": [],
   "source": [
    "# Load the TensorBoard notebook extension.\n",
    "%load_ext tensorboard"
   ]
  },
  {
   "cell_type": "markdown",
   "metadata": {},
   "source": [
    "![U-NET](https://lmb.informatik.uni-freiburg.de/Publications/2015/RFB15a/u-net-architecture.png)\n",
    "\n",
    "\n",
    "U-Net，基於Fully Convolutional Networks(全捲積網路)，輸入和輸出都是圖，沒有全連接層。\n",
    "https://lmb.informatik.uni-freiburg.de/people/ronneber/u-net/"
   ]
  },
  {
   "cell_type": "markdown",
   "metadata": {},
   "source": [
    "## Train your Unet with membrane data\n",
    "membrane data is in folder Membrane/, it is a binary classification task.\n",
    "\n",
    "The input shape of image and mask are the same :(batch_size,rows,cols,channel = 1)"
   ]
  },
  {
   "cell_type": "markdown",
   "metadata": {},
   "source": [
    "### Train with data generator"
   ]
  },
  {
   "cell_type": "code",
   "execution_count": 3,
   "metadata": {},
   "outputs": [
    {
     "name": "stdout",
     "output_type": "stream",
     "text": [
      "INFO:tensorflow:Using MirroredStrategy with devices ('/job:localhost/replica:0/task:0/device:GPU:0', '/job:localhost/replica:0/task:0/device:GPU:1')\n",
      "Number of devices: 2\n"
     ]
    }
   ],
   "source": [
    "strategy = tf.distribute.MirroredStrategy()\n",
    "print('Number of devices: {}'.format(strategy.num_replicas_in_sync))"
   ]
  },
  {
   "cell_type": "code",
   "execution_count": 15,
   "metadata": {
    "ExecuteTime": {
     "start_time": "2019-06-11T01:27:45.159Z"
    }
   },
   "outputs": [
    {
     "name": "stdout",
     "output_type": "stream",
     "text": [
      "2\n",
      "Found 30 images belonging to 1 classes.\n",
      "Found 30 images belonging to 1 classes.\n",
      "Epoch 1/5\n",
      "WARNING:tensorflow:From /usr/local/lib/python3.6/dist-packages/tensorflow/python/data/ops/multi_device_iterator_ops.py:601: get_next_as_optional (from tensorflow.python.data.ops.iterator_ops) is deprecated and will be removed in a future version.\n",
      "Instructions for updating:\n",
      "Use `tf.data.Iterator.get_next_as_optional()` instead.\n",
      "INFO:tensorflow:batch_all_reduce: 48 all-reduces with algorithm = nccl, num_packs = 1\n",
      "INFO:tensorflow:batch_all_reduce: 48 all-reduces with algorithm = nccl, num_packs = 1\n",
      "   1/1000 [..............................] - ETA: 0s - loss: 0.6824 - accuracy: 0.3795WARNING:tensorflow:From /usr/local/lib/python3.6/dist-packages/tensorflow/python/ops/summary_ops_v2.py:1277: stop (from tensorflow.python.eager.profiler) is deprecated and will be removed after 2020-07-01.\n",
      "Instructions for updating:\n",
      "use `tf.profiler.experimental.stop` instead.\n",
      "1000/1000 [==============================] - ETA: 0s - loss: 0.2694 - accuracy: 0.9020\n",
      "Epoch 00001: loss improved from inf to 0.26939, saving model to UNet_Membrane.hdf5\n",
      "1000/1000 [==============================] - 171s 171ms/step - loss: 0.2694 - accuracy: 0.9020\n",
      "Epoch 2/5\n",
      "1000/1000 [==============================] - ETA: 0s - loss: 0.2174 - accuracy: 0.9313\n",
      "Epoch 00002: loss improved from 0.26939 to 0.21737, saving model to UNet_Membrane.hdf5\n",
      "1000/1000 [==============================] - 172s 172ms/step - loss: 0.2174 - accuracy: 0.9313\n",
      "Epoch 3/5\n",
      "1000/1000 [==============================] - ETA: 0s - loss: 0.1982 - accuracy: 0.9402\n",
      "Epoch 00003: loss improved from 0.21737 to 0.19817, saving model to UNet_Membrane.hdf5\n",
      "1000/1000 [==============================] - 172s 172ms/step - loss: 0.1982 - accuracy: 0.9402\n",
      "Epoch 4/5\n",
      "1000/1000 [==============================] - ETA: 0s - loss: 0.1809 - accuracy: 0.9483\n",
      "Epoch 00004: loss improved from 0.19817 to 0.18090, saving model to UNet_Membrane.hdf5\n",
      "1000/1000 [==============================] - 172s 172ms/step - loss: 0.1809 - accuracy: 0.9483\n",
      "Epoch 5/5\n",
      "1000/1000 [==============================] - ETA: 0s - loss: 0.1647 - accuracy: 0.9558\n",
      "Epoch 00005: loss improved from 0.18090 to 0.16470, saving model to UNet_Membrane.hdf5\n",
      "1000/1000 [==============================] - 172s 172ms/step - loss: 0.1647 - accuracy: 0.9558\n",
      "Time=868.5572741031647sec\n"
     ]
    }
   ],
   "source": [
    "tic = time.time()\n",
    "\n",
    "BatchSize_per_Replica = 1\n",
    "BatchSize = BatchSize_per_Replica * strategy.num_replicas_in_sync\n",
    "print(BatchSize)\n",
    "#BatchSize = 1\n",
    "\n",
    "data_gen_args = dict(rotation_range=0.2,\n",
    "                    width_shift_range=0.05,\n",
    "                    height_shift_range=0.05,\n",
    "                    shear_range=0.05,\n",
    "                    zoom_range=0.05,\n",
    "                    horizontal_flip=True,\n",
    "                    fill_mode='nearest')\n",
    "myGene = trainGenerator(BatchSize,'Membrane','image','label',data_gen_args,save_to_dir = None)\n",
    "#myGene = trainGenerator(BatchSize,'Fixed','image','label',data_gen_args,save_to_dir = None)\n",
    "#myGene = trainGenerator(BatchSize,'Mitochondrion','image','label',data_gen_args,save_to_dir = None)\n",
    "\n",
    "with strategy.scope():\n",
    "    model = unet()\n",
    "    model_checkpoint = tf.keras.callbacks.ModelCheckpoint('UNet_Membrane.hdf5', monitor='loss',verbose=1, save_best_only=True)\n",
    "    #model_checkpoint = ModelCheckpoint('UNet_Fixed.hdf5', monitor='loss',verbose=1, save_best_only=True)\n",
    "    #model_checkpoint = ModelCheckpoint('UNet_Mitochondrion.hdf5', monitor='loss',verbose=1, save_best_only=True)\n",
    "    #model.fit_generator(myGene,steps_per_epoch=2000,epochs=10,callbacks=[model_checkpoint])\n",
    "    model.fit(myGene,steps_per_epoch=1000,epochs=5,callbacks=[model_checkpoint,tf.keras.callbacks.TensorBoard(log_dir='./logs')])\n",
    "\n",
    "toc = time.time()\n",
    "print(\"Time=\" + str((toc-tic)) + \"sec\")"
   ]
  },
  {
   "cell_type": "markdown",
   "metadata": {},
   "source": [
    "### test your model and save predicted results"
   ]
  },
  {
   "cell_type": "code",
   "execution_count": 4,
   "metadata": {
    "ExecuteTime": {
     "start_time": "2019-06-11T01:27:45.172Z"
    }
   },
   "outputs": [
    {
     "name": "stdout",
     "output_type": "stream",
     "text": [
      "      1/Unknown - 0s 35us/stepWARNING:tensorflow:Callbacks method `on_predict_batch_end` is slow compared to the batch time (batch time: 0.0034s vs `on_predict_batch_end` time: 0.0436s). Check your callbacks.\n",
      "30/30 [==============================] - 1s 43ms/step\n"
     ]
    }
   ],
   "source": [
    "testGene = testGenerator(\"Membrane/test\")\n",
    "model = unet()\n",
    "model.load_weights(\"UNet_Membrane.hdf5\")\n",
    "#results = model.predict_generator(testGene,30,verbose=1)\n",
    "results = model.predict(testGene,30,verbose=1)\n",
    "saveResult(\"Membrane/test\",results)"
   ]
  },
  {
   "cell_type": "markdown",
   "metadata": {},
   "source": [
    "### Train with npy file"
   ]
  },
  {
   "cell_type": "code",
   "execution_count": 11,
   "metadata": {},
   "outputs": [
    {
     "name": "stdout",
     "output_type": "stream",
     "text": [
      "2\n"
     ]
    }
   ],
   "source": [
    "BatchSize_per_Replica = 1\n",
    "BatchSize = BatchSize_per_Replica * strategy.num_replicas_in_sync\n",
    "print(BatchSize)"
   ]
  },
  {
   "cell_type": "code",
   "execution_count": 5,
   "metadata": {
    "ExecuteTime": {
     "start_time": "2019-06-11T01:27:45.165Z"
    }
   },
   "outputs": [],
   "source": [
    "imgs_train,imgs_mask_train = geneTrainNpy(\"Membrane/aug/\",\"Membrane/aug/\")"
   ]
  },
  {
   "cell_type": "code",
   "execution_count": 7,
   "metadata": {},
   "outputs": [],
   "source": [
    "model_checkpoint = tf.keras.callbacks.ModelCheckpoint('UNet_Membrane.hdf5', monitor='loss',verbose=1, save_best_only=True)"
   ]
  },
  {
   "cell_type": "code",
   "execution_count": 14,
   "metadata": {},
   "outputs": [
    {
     "name": "stdout",
     "output_type": "stream",
     "text": [
      "Epoch 1/5\n",
      "INFO:tensorflow:batch_all_reduce: 48 all-reduces with algorithm = nccl, num_packs = 1\n",
      "INFO:tensorflow:batch_all_reduce: 48 all-reduces with algorithm = nccl, num_packs = 1\n",
      " 120/1000 [==>...........................] - ETA: 2:24 - loss: 0.3859 - accuracy: 0.8228WARNING:tensorflow:Your input ran out of data; interrupting training. Make sure that your dataset or generator can generate at least `steps_per_epoch * epochs` batches (in this case, 5000 batches). You may need to use the repeat() function when building your dataset.\n",
      "\n",
      "Epoch 00001: loss did not improve from 0.28946\n",
      " 120/1000 [==>...........................] - 22s 181ms/step - loss: 0.3859 - accuracy: 0.8228 - val_loss: 0.3257 - val_accuracy: 0.8658\n"
     ]
    }
   ],
   "source": [
    "with strategy.scope():\n",
    "    model_2gpu = unet()\n",
    "    model_2gpu.fit(imgs_train, imgs_mask_train, batch_size=BatchSize, steps_per_epoch=1000, epochs=5, verbose=1,validation_split=0.2, shuffle=True, callbacks=[model_checkpoint])"
   ]
  },
  {
   "cell_type": "code",
   "execution_count": null,
   "metadata": {},
   "outputs": [],
   "source": []
  }
 ],
 "metadata": {
  "hide_input": false,
  "interpreter": {
   "hash": "28035063c3539821d9924f690a67259f0afb55f943290a9ec748002561dd400d"
  },
  "kernelspec": {
   "display_name": "Python 3",
   "language": "python",
   "name": "python3"
  },
  "language_info": {
   "codemirror_mode": {
    "name": "ipython",
    "version": 3
   },
   "file_extension": ".py",
   "mimetype": "text/x-python",
   "name": "python",
   "nbconvert_exporter": "python",
   "pygments_lexer": "ipython3",
   "version": "3.6.9"
  },
  "toc": {
   "base_numbering": 1,
   "nav_menu": {},
   "number_sections": true,
   "sideBar": true,
   "skip_h1_title": false,
   "title_cell": "Table of Contents",
   "title_sidebar": "Contents",
   "toc_cell": false,
   "toc_position": {},
   "toc_section_display": true,
   "toc_window_display": false
  },
  "varInspector": {
   "cols": {
    "lenName": 16,
    "lenType": 16,
    "lenVar": 40
   },
   "kernels_config": {
    "python": {
     "delete_cmd_postfix": "",
     "delete_cmd_prefix": "del ",
     "library": "var_list.py",
     "varRefreshCmd": "print(var_dic_list())"
    },
    "r": {
     "delete_cmd_postfix": ") ",
     "delete_cmd_prefix": "rm(",
     "library": "var_list.r",
     "varRefreshCmd": "cat(var_dic_list()) "
    }
   },
   "types_to_exclude": [
    "module",
    "function",
    "builtin_function_or_method",
    "instance",
    "_Feature"
   ],
   "window_display": false
  }
 },
 "nbformat": 4,
 "nbformat_minor": 2
}
