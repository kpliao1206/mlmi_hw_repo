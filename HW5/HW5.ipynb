{
 "cells": [
  {
   "cell_type": "code",
   "execution_count": 11,
   "metadata": {},
   "outputs": [],
   "source": [
    "import numpy as np\n",
    "\n",
    "def modularity(Nm, ls, ds, L):\n",
    "    return np.sum(ls/L - (ds/(2*L))**2)"
   ]
  },
  {
   "cell_type": "code",
   "execution_count": 12,
   "metadata": {},
   "outputs": [
    {
     "data": {
      "text/plain": [
       "0.3571428571428571"
      ]
     },
     "execution_count": 12,
     "metadata": {},
     "output_type": "execute_result"
    }
   ],
   "source": [
    "Nm = 2\n",
    "ls = np.array([3, 3])\n",
    "ds = np.array([7, 7])\n",
    "L = 7\n",
    "modularity(Nm, ls ,ds , L)"
   ]
  },
  {
   "cell_type": "code",
   "execution_count": 13,
   "metadata": {},
   "outputs": [
    {
     "data": {
      "text/plain": [
       "0.0"
      ]
     },
     "execution_count": 13,
     "metadata": {},
     "output_type": "execute_result"
    }
   ],
   "source": [
    "Nm = 1\n",
    "ls = np.array([7])\n",
    "ds = np.array([14])\n",
    "L = 7\n",
    "modularity(Nm, ls ,ds , L)"
   ]
  },
  {
   "cell_type": "code",
   "execution_count": 14,
   "metadata": {},
   "outputs": [
    {
     "data": {
      "text/plain": [
       "-0.173469387755102"
      ]
     },
     "execution_count": 14,
     "metadata": {},
     "output_type": "execute_result"
    }
   ],
   "source": [
    "Nm = 6\n",
    "ls = np.array([0, 0, 0, 0, 0, 0])\n",
    "ds = np.array([2, 2, 3, 3, 2, 2])\n",
    "L = 7\n",
    "modularity(Nm, ls ,ds , L)"
   ]
  },
  {
   "cell_type": "code",
   "execution_count": 15,
   "metadata": {},
   "outputs": [
    {
     "data": {
      "text/plain": [
       "0.03061224489795908"
      ]
     },
     "execution_count": 15,
     "metadata": {},
     "output_type": "execute_result"
    }
   ],
   "source": [
    "Nm = 2\n",
    "ls = np.array([3, 1])\n",
    "ds = np.array([9, 5])\n",
    "L = 7\n",
    "modularity(Nm, ls ,ds , L)"
   ]
  },
  {
   "cell_type": "code",
   "execution_count": 16,
   "metadata": {},
   "outputs": [
    {
     "data": {
      "text/plain": [
       "0.12244897959183669"
      ]
     },
     "execution_count": 16,
     "metadata": {},
     "output_type": "execute_result"
    }
   ],
   "source": [
    "Nm = 2\n",
    "ls = np.array([4, 1])\n",
    "ds = np.array([10, 4])\n",
    "L = 7\n",
    "modularity(Nm, ls ,ds , L)"
   ]
  },
  {
   "cell_type": "code",
   "execution_count": 17,
   "metadata": {},
   "outputs": [
    {
     "data": {
      "text/plain": [
       "-0.2551020408163266"
      ]
     },
     "execution_count": 17,
     "metadata": {},
     "output_type": "execute_result"
    }
   ],
   "source": [
    "Nm = 2\n",
    "ls = np.array([2, 0])\n",
    "ds = np.array([9, 5])\n",
    "L = 7\n",
    "modularity(Nm, ls ,ds , L)"
   ]
  },
  {
   "cell_type": "code",
   "execution_count": 18,
   "metadata": {},
   "outputs": [
    {
     "data": {
      "text/plain": [
       "-0.163265306122449"
      ]
     },
     "execution_count": 18,
     "metadata": {},
     "output_type": "execute_result"
    }
   ],
   "source": [
    "Nm = 2\n",
    "ls = np.array([3, 0])\n",
    "ds = np.array([10, 4])\n",
    "L = 7\n",
    "modularity(Nm, ls ,ds , L)"
   ]
  },
  {
   "cell_type": "code",
   "execution_count": 19,
   "metadata": {},
   "outputs": [
    {
     "data": {
      "text/plain": [
       "0.03061224489795908"
      ]
     },
     "execution_count": 19,
     "metadata": {},
     "output_type": "execute_result"
    }
   ],
   "source": [
    "Nm = 2\n",
    "ls = np.array([1, 3])\n",
    "ds = np.array([5, 9])\n",
    "L = 7\n",
    "modularity(Nm, ls ,ds , L)"
   ]
  },
  {
   "cell_type": "code",
   "execution_count": 20,
   "metadata": {},
   "outputs": [
    {
     "data": {
      "text/plain": [
       "-0.08163265306122447"
      ]
     },
     "execution_count": 20,
     "metadata": {},
     "output_type": "execute_result"
    }
   ],
   "source": [
    "Nm = 2\n",
    "ls = np.array([2, 1])\n",
    "ds = np.array([8, 6])\n",
    "L = 7\n",
    "modularity(Nm, ls ,ds , L)"
   ]
  },
  {
   "cell_type": "code",
   "execution_count": null,
   "metadata": {},
   "outputs": [],
   "source": []
  }
 ],
 "metadata": {
  "kernelspec": {
   "display_name": "python39",
   "language": "python",
   "name": "python3"
  },
  "language_info": {
   "codemirror_mode": {
    "name": "ipython",
    "version": 3
   },
   "file_extension": ".py",
   "mimetype": "text/x-python",
   "name": "python",
   "nbconvert_exporter": "python",
   "pygments_lexer": "ipython3",
   "version": "3.9.15"
  },
  "orig_nbformat": 4
 },
 "nbformat": 4,
 "nbformat_minor": 2
}
