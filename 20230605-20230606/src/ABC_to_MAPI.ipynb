{
 "cells": [
  {
   "cell_type": "markdown",
   "metadata": {},
   "source": [
    "# Materials API\n",
    "\n",
    "透過REpresentational State Transfer (REST)架構，方便使用者透過http requests存取資料。\n",
    "\n",
    "[MAPI documentation](https://materialsproject.org/docs/api)\n",
    "\n",
    "# Python Materials Genomics (pymatgen) materials analysis package\n",
    "\n",
    "pymatgen實做了許多分析工具，讓使用者可以使用熟悉的python來進行分析。\n",
    "\n",
    "[Python Materials Genomics](http://pymatgen.org/)\n",
    "\n",
    "同時pymatgen也實作了MAPI的wrapper，讓使用者可以從python方便的透過MAPI從Material Project批次下載資料。\n",
    "\n",
    "[pymatgen wrapper](https://materialsproject.org/docs/api#pymatgen_wrapper)\n",
    "\n",
    "\n",
    "# http requests (REST API)\n",
    "\n",
    "透過http requests存取資料是怎麼一回事，講白了就是在網址列輸入下面這行網址\n",
    "\n",
    "https://www.materialsproject.org/rest/v2/materials/mp-1234/vasp\n",
    "\n",
    "這個REST API可以分為四個部分\n",
    "\n",
    "1. preamble(前言、開場白)\n",
    "\n",
    "   就是個網址而已，聲明這是一個https REST request，v2 表明這是version 2 of the MAPI。\n",
    "\n",
    "   https://www.materialsproject.org/rest/v2/\n",
    "\n",
    "2. request_type\n",
    "\n",
    "   指名你request的是哪種操作或資訊，除了\"materials\"之外還有\"tasks\",\"battery\", \"reaction\", \"mpquery\" and \"api_check\"。\n",
    "\n",
    "3. identifier\n",
    "\n",
    "   根據request_type可以有不同的identifier，像是material id(e.g., mp-1234), formula(e.g. Fe2O3), chemical system(\"-\" separated list of elemments, e.g., Li-Fe-O), or task id。\n",
    "\n",
    "4. parameters\n",
    "\n",
    "   根據request_type和identifier決定的參數，視情況可能會有多個parameters。\n",
    "\n",
    "   像是vasp表示的是computational data，exp表示的是experimental data。\n",
    "\n",
    "   而vasp/energy表示的是computational data中的energy性質。\n",
    "\n",
    "# API keys\n",
    "\n",
    "要使用MAPI需要Material Project發行的API KEY，而API KEY有時效性和下載量(官方沒明講是多少)，所以\n",
    "\n",
    "**不要共用KEY!**\n",
    "\n",
    "**不要共用KEY!**\n",
    "\n",
    "**不要共用KEY!**\n",
    "\n",
    "每個人都去註冊個人使用的帳號，你可以在[dashboard](https://materialsproject.org/dashboard)頁面看到屬於自己的API KEY。\n",
    "\n",
    "只有http requests而沒有API KEY是無法取得資料的，而API KEY要以GET/POST parameters附加在http requests後面\n",
    "\n",
    "https://www.materialsproject.org/rest/v2/materials/mp-1234/vasp?API_KEY=YOUR_API_KEY\n",
    "\n",
    "# Response Format\n",
    "\n",
    "現階段回傳的物件都是以JavaScript Object Notation (JSON)回傳， 目前還未支援XML。\n",
    "\n",
    "JSON格式如下\n",
    "\n",
    "```\n",
    "{\n",
    "    valid_response: true,\n",
    "    version: {\n",
    "        pymatgen: \"2.2.0\",\n",
    "        db: \"2012.07.09\",\n",
    "        rest: \"1.0\"\n",
    "    },\n",
    "    created_at: \"2012-08-29T05:21:51.232084\",\n",
    "    copyright: \"Copyright 2012, The Materials Project\",\n",
    "    response: {response_content}\n",
    "}\n",
    "```"
   ]
  },
  {
   "cell_type": "markdown",
   "metadata": {},
   "source": [
    "# Handson\n",
    "\n",
    "1. 請用MAPI查詢mp-2164的pretty_formula為何?\n",
    "\n",
    "https://www.materialsproject.org/rest/v2/materials/mp-2164/vasp/pretty_formula?API_KEY=YOUR_API_KEY\n",
    "\n",
    "2. 請用MAPI查詢TiO2的空間群為何?\n",
    "\n",
    "https://www.materialsproject.org/rest/v2/materials/TiO2/vasp/spacegroup?API_KEY=YOUR_API_KEY\n",
    "\n",
    "3. 請用MAPI查詢Ti, Al, V的band_gap為何?\n",
    "\n",
    "https://www.materialsproject.org/rest/v1/materials/Ti-Al-V/vasp/band_gap?API_KEY=YOUR_API_KEY\n"
   ]
  },
  {
   "cell_type": "markdown",
   "metadata": {},
   "source": [
    "https://www.materialsproject.org/rest/v1/materials/Fe2O3/vasp\n",
    "https://www.materialsproject.org/rest/v1/materials/Li-Fe-O/vasp\n",
    "https://www.materialsproject.org/rest/v1/materials/TiO2/vasp/energy\n",
    "https://www.materialsproject.org/rest/v1/materials/C/vasp/structure"
   ]
  }
 ],
 "metadata": {
  "hide_input": false,
  "kernelspec": {
   "display_name": "Python 3",
   "language": "python",
   "name": "python3"
  },
  "language_info": {
   "codemirror_mode": {
    "name": "ipython",
    "version": 3
   },
   "file_extension": ".py",
   "mimetype": "text/x-python",
   "name": "python",
   "nbconvert_exporter": "python",
   "pygments_lexer": "ipython3",
   "version": "3.7.7"
  },
  "toc": {
   "base_numbering": 1,
   "nav_menu": {},
   "number_sections": true,
   "sideBar": true,
   "skip_h1_title": false,
   "title_cell": "Table of Contents",
   "title_sidebar": "Contents",
   "toc_cell": false,
   "toc_position": {},
   "toc_section_display": true,
   "toc_window_display": false
  },
  "varInspector": {
   "cols": {
    "lenName": 16,
    "lenType": 16,
    "lenVar": 40
   },
   "kernels_config": {
    "python": {
     "delete_cmd_postfix": "",
     "delete_cmd_prefix": "del ",
     "library": "var_list.py",
     "varRefreshCmd": "print(var_dic_list())"
    },
    "r": {
     "delete_cmd_postfix": ") ",
     "delete_cmd_prefix": "rm(",
     "library": "var_list.r",
     "varRefreshCmd": "cat(var_dic_list()) "
    }
   },
   "types_to_exclude": [
    "module",
    "function",
    "builtin_function_or_method",
    "instance",
    "_Feature"
   ],
   "window_display": false
  }
 },
 "nbformat": 4,
 "nbformat_minor": 2
}
